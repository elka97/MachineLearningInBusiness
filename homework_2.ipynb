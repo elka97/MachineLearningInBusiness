{
  "nbformat": 4,
  "nbformat_minor": 0,
  "metadata": {
    "kernelspec": {
      "display_name": "Python 3",
      "language": "python",
      "name": "python3"
    },
    "language_info": {
      "codemirror_mode": {
        "name": "ipython",
        "version": 3
      },
      "file_extension": ".py",
      "mimetype": "text/x-python",
      "name": "python",
      "nbconvert_exporter": "python",
      "pygments_lexer": "ipython3",
      "version": "3.8.3"
    },
    "colab": {
      "name": "homework_2.ipynb",
      "provenance": [],
      "collapsed_sections": [],
      "toc_visible": true,
      "include_colab_link": true
    }
  },
  "cells": [
    {
      "cell_type": "markdown",
      "metadata": {
        "id": "view-in-github",
        "colab_type": "text"
      },
      "source": [
        "<a href=\"https://colab.research.google.com/github/elka97/MachineLearningInBusiness/blob/main/homework_2.ipynb\" target=\"_parent\"><img src=\"https://colab.research.google.com/assets/colab-badge.svg\" alt=\"Open In Colab\"/></a>"
      ]
    },
    {
      "cell_type": "code",
      "metadata": {
        "id": "oPtJf_s9f0qT"
      },
      "source": [
        "import pandas as pd"
      ],
      "execution_count": 1,
      "outputs": []
    },
    {
      "cell_type": "code",
      "metadata": {
        "colab": {
          "base_uri": "https://localhost:8080/"
        },
        "id": "wL89YWGkomcM",
        "outputId": "28490a17-b4d3-43cc-b966-fa206e10fcc2"
      },
      "source": [
        "from google.colab import drive\n",
        "drive.mount('/gdrive')\n",
        "%cd /gdrive"
      ],
      "execution_count": 6,
      "outputs": [
        {
          "output_type": "stream",
          "name": "stdout",
          "text": [
            "Drive already mounted at /gdrive; to attempt to forcibly remount, call drive.mount(\"/gdrive\", force_remount=True).\n",
            "/gdrive\n"
          ]
        }
      ]
    },
    {
      "cell_type": "code",
      "metadata": {
        "colab": {
          "base_uri": "https://localhost:8080/",
          "height": 36
        },
        "id": "-4qKUhTbpV-6",
        "outputId": "53f1c6a3-33df-4821-8b54-7d5706a68810"
      },
      "source": [
        "DATA_PATH = \"/gdrive/My Drive/Ml_In_Business/lection2_materials/\"\n",
        "DATA_PATH"
      ],
      "execution_count": 15,
      "outputs": [
        {
          "output_type": "execute_result",
          "data": {
            "application/vnd.google.colaboratory.intrinsic+json": {
              "type": "string"
            },
            "text/plain": [
              "'/gdrive/My Drive/Ml_In_Business/lection2_materials/'"
            ]
          },
          "metadata": {},
          "execution_count": 15
        }
      ]
    },
    {
      "cell_type": "markdown",
      "metadata": {
        "id": "FDmMXfTMf0qU"
      },
      "source": [
        "Наши новости"
      ]
    },
    {
      "cell_type": "code",
      "metadata": {
        "id": "aaJllc9Zf0qU",
        "colab": {
          "base_uri": "https://localhost:8080/",
          "height": 161
        },
        "outputId": "df0f3263-33fe-47b2-d785-77be76e3b56d"
      },
      "source": [
        "news = pd.read_csv(f\"{DATA_PATH}articles.csv\")\n",
        "print(news.shape)\n",
        "news.head(3)"
      ],
      "execution_count": 16,
      "outputs": [
        {
          "output_type": "stream",
          "name": "stdout",
          "text": [
            "(27000, 2)\n"
          ]
        },
        {
          "output_type": "execute_result",
          "data": {
            "text/html": [
              "<div>\n",
              "<style scoped>\n",
              "    .dataframe tbody tr th:only-of-type {\n",
              "        vertical-align: middle;\n",
              "    }\n",
              "\n",
              "    .dataframe tbody tr th {\n",
              "        vertical-align: top;\n",
              "    }\n",
              "\n",
              "    .dataframe thead th {\n",
              "        text-align: right;\n",
              "    }\n",
              "</style>\n",
              "<table border=\"1\" class=\"dataframe\">\n",
              "  <thead>\n",
              "    <tr style=\"text-align: right;\">\n",
              "      <th></th>\n",
              "      <th>doc_id</th>\n",
              "      <th>title</th>\n",
              "    </tr>\n",
              "  </thead>\n",
              "  <tbody>\n",
              "    <tr>\n",
              "      <th>0</th>\n",
              "      <td>6</td>\n",
              "      <td>Заместитель председателяnправительства РФnСерг...</td>\n",
              "    </tr>\n",
              "    <tr>\n",
              "      <th>1</th>\n",
              "      <td>4896</td>\n",
              "      <td>Матч 1/16 финала Кубка России по футболу был п...</td>\n",
              "    </tr>\n",
              "    <tr>\n",
              "      <th>2</th>\n",
              "      <td>4897</td>\n",
              "      <td>Форвард «Авангарда» Томаш Заборский прокоммент...</td>\n",
              "    </tr>\n",
              "  </tbody>\n",
              "</table>\n",
              "</div>"
            ],
            "text/plain": [
              "   doc_id                                              title\n",
              "0       6  Заместитель председателяnправительства РФnСерг...\n",
              "1    4896  Матч 1/16 финала Кубка России по футболу был п...\n",
              "2    4897  Форвард «Авангарда» Томаш Заборский прокоммент..."
            ]
          },
          "metadata": {},
          "execution_count": 16
        }
      ]
    },
    {
      "cell_type": "markdown",
      "metadata": {
        "id": "-y8lZKzlf0qW"
      },
      "source": [
        "Загрузим пользователей и списки последних прочитанных новостей"
      ]
    },
    {
      "cell_type": "code",
      "metadata": {
        "id": "-zKYss1zf0qW",
        "colab": {
          "base_uri": "https://localhost:8080/",
          "height": 143
        },
        "outputId": "cb887e54-55d1-4e1c-8f59-531dbd0f0bbe"
      },
      "source": [
        "users = pd.read_csv(f\"{DATA_PATH}users_articles.csv\")\n",
        "users.head(3)"
      ],
      "execution_count": 18,
      "outputs": [
        {
          "output_type": "execute_result",
          "data": {
            "text/html": [
              "<div>\n",
              "<style scoped>\n",
              "    .dataframe tbody tr th:only-of-type {\n",
              "        vertical-align: middle;\n",
              "    }\n",
              "\n",
              "    .dataframe tbody tr th {\n",
              "        vertical-align: top;\n",
              "    }\n",
              "\n",
              "    .dataframe thead th {\n",
              "        text-align: right;\n",
              "    }\n",
              "</style>\n",
              "<table border=\"1\" class=\"dataframe\">\n",
              "  <thead>\n",
              "    <tr style=\"text-align: right;\">\n",
              "      <th></th>\n",
              "      <th>uid</th>\n",
              "      <th>articles</th>\n",
              "    </tr>\n",
              "  </thead>\n",
              "  <tbody>\n",
              "    <tr>\n",
              "      <th>0</th>\n",
              "      <td>u105138</td>\n",
              "      <td>[293672, 293328, 293001, 293622, 293126, 1852]</td>\n",
              "    </tr>\n",
              "    <tr>\n",
              "      <th>1</th>\n",
              "      <td>u108690</td>\n",
              "      <td>[3405, 1739, 2972, 1158, 1599, 322665]</td>\n",
              "    </tr>\n",
              "    <tr>\n",
              "      <th>2</th>\n",
              "      <td>u108339</td>\n",
              "      <td>[1845, 2009, 2356, 1424, 2939, 323389]</td>\n",
              "    </tr>\n",
              "  </tbody>\n",
              "</table>\n",
              "</div>"
            ],
            "text/plain": [
              "       uid                                        articles\n",
              "0  u105138  [293672, 293328, 293001, 293622, 293126, 1852]\n",
              "1  u108690          [3405, 1739, 2972, 1158, 1599, 322665]\n",
              "2  u108339          [1845, 2009, 2356, 1424, 2939, 323389]"
            ]
          },
          "metadata": {},
          "execution_count": 18
        }
      ]
    },
    {
      "cell_type": "markdown",
      "metadata": {
        "id": "MUDscAKTf0qX"
      },
      "source": [
        "### 1. Получаем векторные представления новостей"
      ]
    },
    {
      "cell_type": "code",
      "metadata": {
        "colab": {
          "base_uri": "https://localhost:8080/"
        },
        "id": "I4vsDtO2gUdY",
        "outputId": "c7e0b7b4-3ff9-4f72-b274-6dd089fe8c25"
      },
      "source": [
        " pip install pymorphy2"
      ],
      "execution_count": 19,
      "outputs": [
        {
          "output_type": "stream",
          "name": "stdout",
          "text": [
            "Collecting pymorphy2\n",
            "  Downloading pymorphy2-0.9.1-py3-none-any.whl (55 kB)\n",
            "\u001b[?25l\r\u001b[K     |██████                          | 10 kB 23.0 MB/s eta 0:00:01\r\u001b[K     |███████████▉                    | 20 kB 29.7 MB/s eta 0:00:01\r\u001b[K     |█████████████████▊              | 30 kB 34.4 MB/s eta 0:00:01\r\u001b[K     |███████████████████████▋        | 40 kB 37.0 MB/s eta 0:00:01\r\u001b[K     |█████████████████████████████▌  | 51 kB 38.7 MB/s eta 0:00:01\r\u001b[K     |████████████████████████████████| 55 kB 3.7 MB/s \n",
            "\u001b[?25hCollecting dawg-python>=0.7.1\n",
            "  Downloading DAWG_Python-0.7.2-py2.py3-none-any.whl (11 kB)\n",
            "Collecting pymorphy2-dicts-ru<3.0,>=2.4\n",
            "  Downloading pymorphy2_dicts_ru-2.4.417127.4579844-py2.py3-none-any.whl (8.2 MB)\n",
            "\u001b[K     |████████████████████████████████| 8.2 MB 45.2 MB/s \n",
            "\u001b[?25hRequirement already satisfied: docopt>=0.6 in /usr/local/lib/python3.7/dist-packages (from pymorphy2) (0.6.2)\n",
            "Installing collected packages: pymorphy2-dicts-ru, dawg-python, pymorphy2\n",
            "Successfully installed dawg-python-0.7.2 pymorphy2-0.9.1 pymorphy2-dicts-ru-2.4.417127.4579844\n"
          ]
        }
      ]
    },
    {
      "cell_type": "code",
      "metadata": {
        "colab": {
          "base_uri": "https://localhost:8080/"
        },
        "id": "D4aVoZpTgPpa",
        "outputId": "80e2a2f8-2e6a-4b7d-c01e-d8079db89947"
      },
      "source": [
        "!pip install razdel"
      ],
      "execution_count": 20,
      "outputs": [
        {
          "output_type": "stream",
          "name": "stdout",
          "text": [
            "Collecting razdel\n",
            "  Downloading razdel-0.5.0-py3-none-any.whl (21 kB)\n",
            "Installing collected packages: razdel\n",
            "Successfully installed razdel-0.5.0\n"
          ]
        }
      ]
    },
    {
      "cell_type": "code",
      "metadata": {
        "id": "a8jMQcgbf0qX"
      },
      "source": [
        "#from gensim.test.utils import common_texts\n",
        "from gensim.corpora.dictionary import Dictionary"
      ],
      "execution_count": 21,
      "outputs": []
    },
    {
      "cell_type": "code",
      "metadata": {
        "id": "P9Pev-dbf0qY"
      },
      "source": [
        "#предобработка текстов\n",
        "import re\n",
        "import numpy as np\n",
        "from nltk.corpus import stopwords\n",
        "#from nltk.tokenize import word_tokenize\n",
        "\n",
        "from razdel import tokenize # https://github.com/natasha/razdel\n",
        "#!pip install razdel\n",
        "\n",
        "import pymorphy2  # pip install pymorphy2"
      ],
      "execution_count": 22,
      "outputs": []
    },
    {
      "cell_type": "code",
      "metadata": {
        "colab": {
          "base_uri": "https://localhost:8080/"
        },
        "id": "yYA6HA1bf0qZ",
        "outputId": "333031b8-e042-4cf5-b2ce-ee9e14d20193"
      },
      "source": [
        "import nltk\n",
        "nltk.download('stopwords')"
      ],
      "execution_count": 23,
      "outputs": [
        {
          "output_type": "stream",
          "name": "stdout",
          "text": [
            "[nltk_data] Downloading package stopwords to /root/nltk_data...\n",
            "[nltk_data]   Unzipping corpora/stopwords.zip.\n"
          ]
        },
        {
          "output_type": "execute_result",
          "data": {
            "text/plain": [
              "True"
            ]
          },
          "metadata": {},
          "execution_count": 23
        }
      ]
    },
    {
      "cell_type": "code",
      "metadata": {
        "colab": {
          "base_uri": "https://localhost:8080/"
        },
        "id": "J3jw5Tsrf0qZ",
        "outputId": "0bcba6c4-831b-4577-91e5-6f35b054400d"
      },
      "source": [
        "stopword_ru = stopwords.words('russian')\n",
        "print(len(stopword_ru))\n",
        "\n",
        "morph = pymorphy2.MorphAnalyzer()\n",
        "morph"
      ],
      "execution_count": 24,
      "outputs": [
        {
          "output_type": "stream",
          "name": "stdout",
          "text": [
            "151\n"
          ]
        },
        {
          "output_type": "execute_result",
          "data": {
            "text/plain": [
              "<pymorphy2.analyzer.MorphAnalyzer at 0x7f603cbd4e10>"
            ]
          },
          "metadata": {},
          "execution_count": 24
        }
      ]
    },
    {
      "cell_type": "code",
      "metadata": {
        "colab": {
          "base_uri": "https://localhost:8080/"
        },
        "id": "Hk_DDj9Rf0qZ",
        "outputId": "c0a224a0-a3da-41e4-ab89-b1237b126ebd"
      },
      "source": [
        "with open(f\"{DATA_PATH}stopwords_ru.txt\") as f:\n",
        "    additional_stopwords = [w.strip() for w in f.readlines() if w]\n",
        "stopword_ru += additional_stopwords\n",
        "len(stopword_ru)"
      ],
      "execution_count": 25,
      "outputs": [
        {
          "output_type": "execute_result",
          "data": {
            "text/plain": [
              "776"
            ]
          },
          "metadata": {},
          "execution_count": 25
        }
      ]
    },
    {
      "cell_type": "code",
      "metadata": {
        "id": "ZJtcBQR8f0qa"
      },
      "source": [
        "def clean_text(text):\n",
        "    '''\n",
        "    очистка текста    \n",
        "    на выходе очищеный текст    \n",
        "    '''\n",
        "    if not isinstance(text, str):\n",
        "        text = str(text)\n",
        "    \n",
        "    text = text.lower()\n",
        "    text = text.strip('\\n').strip('\\r').strip('\\t')\n",
        "    text = re.sub(\"-\\s\\r\\n\\|-\\s\\r\\n|\\r\\n\", '', str(text))\n",
        "\n",
        "    text = re.sub(\"[0-9]|[-—.,:;_%©«»?*!@#№$^•·&()]|[+=]|[[]|[]]|[/]|\", '', text)\n",
        "    text = re.sub(r\"\\r\\n\\t|\\n|\\\\s|\\r\\t|\\\\n\", ' ', text)\n",
        "    text = re.sub(r'[\\xad]|[\\s+]', ' ', text.strip())\n",
        "    \n",
        "    #tokens = list(tokenize(text))\n",
        "    #words = [_.text for _ in tokens]\n",
        "    #words = [w for w in words if w not in stopword_ru]\n",
        "    \n",
        "    #return \" \".join(words)\n",
        "    return text\n",
        "\n",
        "cache = {}\n",
        "\n",
        "def lemmatization(text):\n",
        "    '''\n",
        "    лемматизация\n",
        "        [0] если зашел тип не `str` делаем его `str`\n",
        "        [1] токенизация предложения через razdel\n",
        "        [2] проверка есть ли в начале слова '-'\n",
        "        [3] проверка токена с одного символа\n",
        "        [4] проверка есть ли данное слово в кэше\n",
        "        [5] лемматизация слова\n",
        "        [6] проверка на стоп-слова\n",
        "\n",
        "    на выходе лист отлемматизированых токенов\n",
        "    '''\n",
        "\n",
        "    # [0]\n",
        "    if not isinstance(text, str):\n",
        "        text = str(text)\n",
        "    \n",
        "    # [1]\n",
        "    tokens = list(tokenize(text))\n",
        "    words = [_.text for _ in tokens]\n",
        "\n",
        "    words_lem = []\n",
        "    for w in words:\n",
        "        if w[0] == '-': # [2]\n",
        "            w = w[1:]\n",
        "        if len(w)>1: # [3]\n",
        "            if w in cache: # [4]\n",
        "                words_lem.append(cache[w])\n",
        "            else: # [5]\n",
        "                temp_cach = cache[w] = morph.parse(w)[0].normal_form\n",
        "                words_lem.append(temp_cach)\n",
        "    \n",
        "    words_lem_without_stopwords=[i for i in words_lem if not i in stopword_ru] # [6]\n",
        "    \n",
        "    return words_lem_without_stopwords"
      ],
      "execution_count": 27,
      "outputs": []
    },
    {
      "cell_type": "code",
      "metadata": {
        "scrolled": true,
        "id": "04JEsYKgf0qb",
        "colab": {
          "base_uri": "https://localhost:8080/"
        },
        "outputId": "02616d7f-21c6-42a0-8f5a-d3e435464c3b"
      },
      "source": [
        "%%time\n",
        "#Запускаем очистку текста. Будет долго...\n",
        "news['title'] = news['title'].apply(lambda x: clean_text(x), 1)"
      ],
      "execution_count": 28,
      "outputs": [
        {
          "output_type": "stream",
          "name": "stderr",
          "text": [
            "/usr/local/lib/python3.7/dist-packages/ipykernel_launcher.py:13: FutureWarning: Possible nested set at position 39\n",
            "  del sys.path[0]\n"
          ]
        },
        {
          "output_type": "stream",
          "name": "stdout",
          "text": [
            "CPU times: user 24.6 s, sys: 1.26 s, total: 25.8 s\n",
            "Wall time: 25.9 s\n"
          ]
        }
      ]
    },
    {
      "cell_type": "code",
      "metadata": {
        "colab": {
          "base_uri": "https://localhost:8080/"
        },
        "id": "CdzddqjkrF1M",
        "outputId": "1decf1ef-ed0e-4815-b6f6-c37eacdf50bd"
      },
      "source": [
        "news['title'] "
      ],
      "execution_count": 29,
      "outputs": [
        {
          "output_type": "execute_result",
          "data": {
            "text/plain": [
              "0        заместитель председателяnправительства рфnсерг...\n",
              "1        матч  финала кубка россии по футболу был приос...\n",
              "2        форвард авангарда томаш заборский прокомментир...\n",
              "3        главный тренер кубани юрий красножан прокоммен...\n",
              "4        решением попечительского совета владивостокско...\n",
              "                               ...                        \n",
              "26995    ученые токийского университета морских наук и ...\n",
              "26996    главой кафедры отечественной истории xx века и...\n",
              "26997    американские ученые уточнили возраст расположе...\n",
              "26998    за последние  лет тропический углеродный цикл ...\n",
              "26999    у живших примерно  тыс лет назад на территории...\n",
              "Name: title, Length: 27000, dtype: object"
            ]
          },
          "metadata": {},
          "execution_count": 29
        }
      ]
    },
    {
      "cell_type": "code",
      "metadata": {
        "id": "9t_PKRQlf0qc",
        "colab": {
          "base_uri": "https://localhost:8080/"
        },
        "outputId": "b2022d11-a389-449b-bad8-b5d4d83f5e25"
      },
      "source": [
        "%%time\n",
        "#Запускаем лемматизацию текста. Будет очень долго...\n",
        "news['title'] = news['title'].apply(lambda x: lemmatization(x), 1)"
      ],
      "execution_count": 30,
      "outputs": [
        {
          "output_type": "stream",
          "name": "stdout",
          "text": [
            "CPU times: user 4min 20s, sys: 755 ms, total: 4min 21s\n",
            "Wall time: 4min 21s\n"
          ]
        }
      ]
    },
    {
      "cell_type": "markdown",
      "metadata": {
        "id": "wspg28XSf0qc"
      },
      "source": [
        "А теперь в 3 строчки обучим нашу модель"
      ]
    },
    {
      "cell_type": "code",
      "metadata": {
        "id": "fU8e9xryf0qc",
        "colab": {
          "base_uri": "https://localhost:8080/"
        },
        "outputId": "19d508ef-facc-46ae-a74a-61575832f494"
      },
      "source": [
        "news['title']"
      ],
      "execution_count": 31,
      "outputs": [
        {
          "output_type": "execute_result",
          "data": {
            "text/plain": [
              "0        [заместитель, председатель, правительство, рф,...\n",
              "1        [матч, финал, кубок, россия, футбол, приостано...\n",
              "2        [форвард, авангард, томаш, заборский, прокомме...\n",
              "3        [главный, тренер, кубань, юрий, красножанин, п...\n",
              "4        [решение, попечительский, совет, владивостокск...\n",
              "                               ...                        \n",
              "26995    [учёный, токийский, университет, морской, наук...\n",
              "26996    [глава, кафедра, отечественный, история, xx, в...\n",
              "26997    [американский, учёный, уточнить, возраст, расп...\n",
              "26998    [последний, тропический, углеродный, цикл, чув...\n",
              "26999    [жить, примерно, тыс, назад, территория, совре...\n",
              "Name: title, Length: 27000, dtype: object"
            ]
          },
          "metadata": {},
          "execution_count": 31
        }
      ]
    },
    {
      "cell_type": "code",
      "metadata": {
        "id": "Lb5VSskPf0qd"
      },
      "source": [
        "#сформируем список наших текстов, разбив еще и на пробелы\n",
        "texts = [t for t in news['title'].values]\n",
        "\n",
        "# Create a corpus from a list of texts\n",
        "common_dictionary = Dictionary(texts)\n",
        "common_corpus = [common_dictionary.doc2bow(text) for text in texts]"
      ],
      "execution_count": 32,
      "outputs": []
    },
    {
      "cell_type": "code",
      "metadata": {
        "id": "vAf5J1EnsTGr"
      },
      "source": [
        "# texts"
      ],
      "execution_count": null,
      "outputs": []
    },
    {
      "cell_type": "code",
      "metadata": {
        "id": "tr4nC6M9f0qe",
        "colab": {
          "base_uri": "https://localhost:8080/",
          "height": 36
        },
        "outputId": "795db6d8-7999-40f3-97ca-4e091469c6fb"
      },
      "source": [
        "common_dictionary[10]"
      ],
      "execution_count": 38,
      "outputs": [
        {
          "output_type": "execute_result",
          "data": {
            "application/vnd.google.colaboratory.intrinsic+json": {
              "type": "string"
            },
            "text/plain": [
              "'ватутин'"
            ]
          },
          "metadata": {},
          "execution_count": 38
        }
      ]
    },
    {
      "cell_type": "code",
      "metadata": {
        "id": "bcpDjvLsf0qe"
      },
      "source": [
        "# common_corpus"
      ],
      "execution_count": null,
      "outputs": []
    },
    {
      "cell_type": "markdown",
      "metadata": {
        "id": "g9pz1Bydf0qf"
      },
      "source": [
        "Запускаем обучение"
      ]
    },
    {
      "cell_type": "code",
      "metadata": {
        "id": "fnAMRyk5f0qg"
      },
      "source": [
        "from gensim.models import LdaModel"
      ],
      "execution_count": 36,
      "outputs": []
    },
    {
      "cell_type": "code",
      "metadata": {
        "id": "wI7IqwrJf0qg"
      },
      "source": [
        "LdaModel?"
      ],
      "execution_count": 37,
      "outputs": []
    },
    {
      "cell_type": "code",
      "metadata": {
        "id": "Nt7ykUU1f0qg",
        "colab": {
          "base_uri": "https://localhost:8080/"
        },
        "outputId": "cdb077a2-acfe-4f27-800b-3e78e621b0e6"
      },
      "source": [
        "%%time\n",
        "from gensim.models import LdaModel\n",
        "# Train the model on the corpus.\n",
        "lda = LdaModel(common_corpus, num_topics=25, id2word=common_dictionary)#, passes=10)"
      ],
      "execution_count": 40,
      "outputs": [
        {
          "output_type": "stream",
          "name": "stdout",
          "text": [
            "CPU times: user 50.6 s, sys: 23.9 s, total: 1min 14s\n",
            "Wall time: 47.5 s\n"
          ]
        }
      ]
    },
    {
      "cell_type": "code",
      "metadata": {
        "id": "6dJth9qIf0qh"
      },
      "source": [
        "from gensim.test.utils import datapath\n",
        "# Save model to disk.\n",
        "temp_file = datapath(f\"{DATA_PATH}model.lda\")\n",
        "lda.save(temp_file)\n",
        "\n",
        "# Load a potentially pretrained model from disk.\n",
        "lda = LdaModel.load(temp_file)"
      ],
      "execution_count": 43,
      "outputs": []
    },
    {
      "cell_type": "code",
      "metadata": {
        "id": "zR2_jF7ef0qh",
        "colab": {
          "base_uri": "https://localhost:8080/"
        },
        "outputId": "5e5b640e-e377-4cef-c004-a868b46de784"
      },
      "source": [
        "# Create a new corpus, made of previously unseen documents.\n",
        "other_texts = [t for t in news['title'].iloc[:3]]\n",
        "other_corpus = [common_dictionary.doc2bow(text) for text in other_texts]\n",
        "\n",
        "unseen_doc = other_corpus[2]\n",
        "print(other_texts[2])\n",
        "lda[unseen_doc] "
      ],
      "execution_count": 48,
      "outputs": [
        {
          "output_type": "stream",
          "name": "stdout",
          "text": [
            "['форвард', 'авангард', 'томаш', 'заборский', 'прокомментировать', 'игра', 'команда', 'матч', 'чемпионат', 'кхл', 'против', 'атланта', 'nnnn', 'плохой', 'матч', 'нижний', 'новгород', 'против', 'торпедо', 'настраиваться', 'первый', 'минута', 'включиться', 'заборский', 'получиться', 'забросить', 'быстрый', 'гол', 'задать', 'хороший', 'темп', 'поединок', 'играть', 'хороший', 'сторона', 'пять', 'очко', 'выезд', 'девять', 'хороший']\n"
          ]
        },
        {
          "output_type": "execute_result",
          "data": {
            "text/plain": [
              "[(3, 0.5578233), (10, 0.07100323), (11, 0.19065881), (24, 0.16002685)]"
            ]
          },
          "metadata": {},
          "execution_count": 48
        }
      ]
    },
    {
      "cell_type": "code",
      "metadata": {
        "id": "FEnGcgqef0qi",
        "colab": {
          "base_uri": "https://localhost:8080/"
        },
        "outputId": "d691a5c2-dc02-4f96-bb36-a21d6696b027"
      },
      "source": [
        "x=lda.show_topics(num_topics=25, num_words=7, formatted=False)\n",
        "topics_words = [(tp[0], [wd[0] for wd in tp[1]]) for tp in x]\n",
        "\n",
        "# Below Code Prints Only Words \n",
        "for topic, words in topics_words:\n",
        "    print(\"topic_{}: \".format(topic)+\" \".join(words))"
      ],
      "execution_count": 52,
      "outputs": [
        {
          "output_type": "stream",
          "name": "stdout",
          "text": [
            "topic_0: млрд рубль банк рынок цена рост руб\n",
            "topic_1: обнаружить газета агентство проверка задержать ru форум\n",
            "topic_2: автор вода остров nn ген солнце телескоп\n",
            "topic_3: налог офицер физика годовой железный автор спрос\n",
            "topic_4: ракета луна китай миссия рак китайский nn\n",
            "topic_5: космический поверхность планета космос мкс астероид астронавт\n",
            "topic_6: всё топливо выше скорость земля способ снизиться\n",
            "topic_7: украина газ украинский киев конкурс белоруссия мвд\n",
            "topic_8: земля полёт чиновник полицейский высота восток обеспечивать\n",
            "topic_9: животное продукция ступень оборудование кость птица биолог\n",
            "topic_10: исследование научный nn турист фонд риск первый\n",
            "topic_11: всё население очень журнал большой жизнь россия\n",
            "topic_12: статья санкция данные размер млн документ стоимость\n",
            "topic_13: россия российский путин рф доход правительство проект\n",
            "topic_14: система эксперт проект новый спутник россия станция\n",
            "topic_15: исследователь гражданин nn выяснить писать учёный русский\n",
            "topic_16: эксперимент фонд дональд мышь газопровод выдать чиновник\n",
            "topic_17: тело произойти женщина мужчина nn расследование помощь\n",
            "topic_18: район авария автомобиль знаменитый пострадать девушка земля\n",
            "topic_19: nn россия глава наука государство поток министр\n",
            "topic_20: взрыв ребёнок место млн доллар мальчик девочка\n",
            "topic_21: сша самолёт американский военный корабль войско война\n",
            "topic_22: погибнуть убийство россия сотрудник статья турецкий российский\n",
            "topic_23: учёный университет ран опубликовать рассказывать пассажир экипаж\n",
            "topic_24: геном nn россиянин золото max криптовалюта таиланд\n"
          ]
        }
      ]
    },
    {
      "cell_type": "markdown",
      "metadata": {
        "id": "2711lNLwf0qi"
      },
      "source": [
        "Очень неплохо - большинство тем вполне можно описать о чем они"
      ]
    },
    {
      "cell_type": "markdown",
      "metadata": {
        "id": "3wP5jix5f0qj"
      },
      "source": [
        "Давайте напишем функцию, которая будет нам возвращать векторное представление новости"
      ]
    },
    {
      "cell_type": "code",
      "metadata": {
        "id": "xOIqgp78f0qj"
      },
      "source": [
        "#text = news['title'].iloc[0]\n",
        "def get_lda_vector(text):\n",
        "    unseen_doc = common_dictionary.doc2bow(text)\n",
        "    lda_tuple = lda[unseen_doc]\n",
        "    not_null_topics = dict(zip([i[0] for i in lda_tuple], [i[1] for i in lda_tuple]))\n",
        "\n",
        "    output_vector = []\n",
        "    for i in range(25):\n",
        "        if i not in not_null_topics:\n",
        "            output_vector.append(0)\n",
        "        else:\n",
        "            output_vector.append(not_null_topics[i])\n",
        "    return np.array(output_vector)"
      ],
      "execution_count": 53,
      "outputs": []
    },
    {
      "cell_type": "code",
      "metadata": {
        "id": "amA3L789f0qj",
        "colab": {
          "base_uri": "https://localhost:8080/",
          "height": 206
        },
        "outputId": "57950109-8a33-4b4f-8745-cfb50ab998b8"
      },
      "source": [
        "topic_matrix = pd.DataFrame([get_lda_vector(text) for text in news['title'].values])\n",
        "topic_matrix.columns = ['topic_{}'.format(i) for i in range(25)]\n",
        "topic_matrix['doc_id'] = news['doc_id'].values\n",
        "topic_matrix = topic_matrix[['doc_id']+['topic_{}'.format(i) for i in range(25)]]\n",
        "topic_matrix.head(5)"
      ],
      "execution_count": 54,
      "outputs": [
        {
          "output_type": "execute_result",
          "data": {
            "text/html": [
              "<div>\n",
              "<style scoped>\n",
              "    .dataframe tbody tr th:only-of-type {\n",
              "        vertical-align: middle;\n",
              "    }\n",
              "\n",
              "    .dataframe tbody tr th {\n",
              "        vertical-align: top;\n",
              "    }\n",
              "\n",
              "    .dataframe thead th {\n",
              "        text-align: right;\n",
              "    }\n",
              "</style>\n",
              "<table border=\"1\" class=\"dataframe\">\n",
              "  <thead>\n",
              "    <tr style=\"text-align: right;\">\n",
              "      <th></th>\n",
              "      <th>doc_id</th>\n",
              "      <th>topic_0</th>\n",
              "      <th>topic_1</th>\n",
              "      <th>topic_2</th>\n",
              "      <th>topic_3</th>\n",
              "      <th>topic_4</th>\n",
              "      <th>topic_5</th>\n",
              "      <th>topic_6</th>\n",
              "      <th>topic_7</th>\n",
              "      <th>topic_8</th>\n",
              "      <th>topic_9</th>\n",
              "      <th>topic_10</th>\n",
              "      <th>topic_11</th>\n",
              "      <th>topic_12</th>\n",
              "      <th>topic_13</th>\n",
              "      <th>topic_14</th>\n",
              "      <th>topic_15</th>\n",
              "      <th>topic_16</th>\n",
              "      <th>topic_17</th>\n",
              "      <th>topic_18</th>\n",
              "      <th>topic_19</th>\n",
              "      <th>topic_20</th>\n",
              "      <th>topic_21</th>\n",
              "      <th>topic_22</th>\n",
              "      <th>topic_23</th>\n",
              "      <th>topic_24</th>\n",
              "    </tr>\n",
              "  </thead>\n",
              "  <tbody>\n",
              "    <tr>\n",
              "      <th>0</th>\n",
              "      <td>6</td>\n",
              "      <td>0.000000</td>\n",
              "      <td>0.000000</td>\n",
              "      <td>0.0</td>\n",
              "      <td>0.000000</td>\n",
              "      <td>0.0</td>\n",
              "      <td>0.0</td>\n",
              "      <td>0.000000</td>\n",
              "      <td>0.0</td>\n",
              "      <td>0.000000</td>\n",
              "      <td>0.0</td>\n",
              "      <td>0.237299</td>\n",
              "      <td>0.000000</td>\n",
              "      <td>0.0</td>\n",
              "      <td>0.039998</td>\n",
              "      <td>0.028494</td>\n",
              "      <td>0.0</td>\n",
              "      <td>0.0</td>\n",
              "      <td>0.0</td>\n",
              "      <td>0.0</td>\n",
              "      <td>0.654971</td>\n",
              "      <td>0.000000</td>\n",
              "      <td>0.0</td>\n",
              "      <td>0.0</td>\n",
              "      <td>0.0</td>\n",
              "      <td>0.032516</td>\n",
              "    </tr>\n",
              "    <tr>\n",
              "      <th>1</th>\n",
              "      <td>4896</td>\n",
              "      <td>0.000000</td>\n",
              "      <td>0.117264</td>\n",
              "      <td>0.0</td>\n",
              "      <td>0.000000</td>\n",
              "      <td>0.0</td>\n",
              "      <td>0.0</td>\n",
              "      <td>0.000000</td>\n",
              "      <td>0.0</td>\n",
              "      <td>0.058657</td>\n",
              "      <td>0.0</td>\n",
              "      <td>0.000000</td>\n",
              "      <td>0.000000</td>\n",
              "      <td>0.0</td>\n",
              "      <td>0.000000</td>\n",
              "      <td>0.000000</td>\n",
              "      <td>0.0</td>\n",
              "      <td>0.0</td>\n",
              "      <td>0.0</td>\n",
              "      <td>0.0</td>\n",
              "      <td>0.000000</td>\n",
              "      <td>0.646591</td>\n",
              "      <td>0.0</td>\n",
              "      <td>0.0</td>\n",
              "      <td>0.0</td>\n",
              "      <td>0.157000</td>\n",
              "    </tr>\n",
              "    <tr>\n",
              "      <th>2</th>\n",
              "      <td>4897</td>\n",
              "      <td>0.000000</td>\n",
              "      <td>0.000000</td>\n",
              "      <td>0.0</td>\n",
              "      <td>0.557849</td>\n",
              "      <td>0.0</td>\n",
              "      <td>0.0</td>\n",
              "      <td>0.000000</td>\n",
              "      <td>0.0</td>\n",
              "      <td>0.000000</td>\n",
              "      <td>0.0</td>\n",
              "      <td>0.071010</td>\n",
              "      <td>0.190625</td>\n",
              "      <td>0.0</td>\n",
              "      <td>0.000000</td>\n",
              "      <td>0.000000</td>\n",
              "      <td>0.0</td>\n",
              "      <td>0.0</td>\n",
              "      <td>0.0</td>\n",
              "      <td>0.0</td>\n",
              "      <td>0.000000</td>\n",
              "      <td>0.000000</td>\n",
              "      <td>0.0</td>\n",
              "      <td>0.0</td>\n",
              "      <td>0.0</td>\n",
              "      <td>0.160028</td>\n",
              "    </tr>\n",
              "    <tr>\n",
              "      <th>3</th>\n",
              "      <td>4898</td>\n",
              "      <td>0.000000</td>\n",
              "      <td>0.000000</td>\n",
              "      <td>0.0</td>\n",
              "      <td>0.000000</td>\n",
              "      <td>0.0</td>\n",
              "      <td>0.0</td>\n",
              "      <td>0.029897</td>\n",
              "      <td>0.0</td>\n",
              "      <td>0.000000</td>\n",
              "      <td>0.0</td>\n",
              "      <td>0.082204</td>\n",
              "      <td>0.877423</td>\n",
              "      <td>0.0</td>\n",
              "      <td>0.000000</td>\n",
              "      <td>0.000000</td>\n",
              "      <td>0.0</td>\n",
              "      <td>0.0</td>\n",
              "      <td>0.0</td>\n",
              "      <td>0.0</td>\n",
              "      <td>0.000000</td>\n",
              "      <td>0.000000</td>\n",
              "      <td>0.0</td>\n",
              "      <td>0.0</td>\n",
              "      <td>0.0</td>\n",
              "      <td>0.000000</td>\n",
              "    </tr>\n",
              "    <tr>\n",
              "      <th>4</th>\n",
              "      <td>4899</td>\n",
              "      <td>0.534574</td>\n",
              "      <td>0.000000</td>\n",
              "      <td>0.0</td>\n",
              "      <td>0.000000</td>\n",
              "      <td>0.0</td>\n",
              "      <td>0.0</td>\n",
              "      <td>0.000000</td>\n",
              "      <td>0.0</td>\n",
              "      <td>0.000000</td>\n",
              "      <td>0.0</td>\n",
              "      <td>0.000000</td>\n",
              "      <td>0.090629</td>\n",
              "      <td>0.0</td>\n",
              "      <td>0.000000</td>\n",
              "      <td>0.000000</td>\n",
              "      <td>0.0</td>\n",
              "      <td>0.0</td>\n",
              "      <td>0.0</td>\n",
              "      <td>0.0</td>\n",
              "      <td>0.351013</td>\n",
              "      <td>0.000000</td>\n",
              "      <td>0.0</td>\n",
              "      <td>0.0</td>\n",
              "      <td>0.0</td>\n",
              "      <td>0.000000</td>\n",
              "    </tr>\n",
              "  </tbody>\n",
              "</table>\n",
              "</div>"
            ],
            "text/plain": [
              "   doc_id   topic_0   topic_1  topic_2  ...  topic_21  topic_22  topic_23  topic_24\n",
              "0       6  0.000000  0.000000      0.0  ...       0.0       0.0       0.0  0.032516\n",
              "1    4896  0.000000  0.117264      0.0  ...       0.0       0.0       0.0  0.157000\n",
              "2    4897  0.000000  0.000000      0.0  ...       0.0       0.0       0.0  0.160028\n",
              "3    4898  0.000000  0.000000      0.0  ...       0.0       0.0       0.0  0.000000\n",
              "4    4899  0.534574  0.000000      0.0  ...       0.0       0.0       0.0  0.000000\n",
              "\n",
              "[5 rows x 26 columns]"
            ]
          },
          "metadata": {},
          "execution_count": 54
        }
      ]
    },
    {
      "cell_type": "markdown",
      "metadata": {
        "id": "fyic4ke1f0qk"
      },
      "source": [
        "### Следующий шаг - векторные представления пользователей"
      ]
    },
    {
      "cell_type": "code",
      "metadata": {
        "scrolled": true,
        "id": "CMtVDLDof0qk",
        "colab": {
          "base_uri": "https://localhost:8080/",
          "height": 143
        },
        "outputId": "bfa85477-0914-40e8-9820-f128263904c2"
      },
      "source": [
        "users.head(3)"
      ],
      "execution_count": 55,
      "outputs": [
        {
          "output_type": "execute_result",
          "data": {
            "text/html": [
              "<div>\n",
              "<style scoped>\n",
              "    .dataframe tbody tr th:only-of-type {\n",
              "        vertical-align: middle;\n",
              "    }\n",
              "\n",
              "    .dataframe tbody tr th {\n",
              "        vertical-align: top;\n",
              "    }\n",
              "\n",
              "    .dataframe thead th {\n",
              "        text-align: right;\n",
              "    }\n",
              "</style>\n",
              "<table border=\"1\" class=\"dataframe\">\n",
              "  <thead>\n",
              "    <tr style=\"text-align: right;\">\n",
              "      <th></th>\n",
              "      <th>uid</th>\n",
              "      <th>articles</th>\n",
              "    </tr>\n",
              "  </thead>\n",
              "  <tbody>\n",
              "    <tr>\n",
              "      <th>0</th>\n",
              "      <td>u105138</td>\n",
              "      <td>[293672, 293328, 293001, 293622, 293126, 1852]</td>\n",
              "    </tr>\n",
              "    <tr>\n",
              "      <th>1</th>\n",
              "      <td>u108690</td>\n",
              "      <td>[3405, 1739, 2972, 1158, 1599, 322665]</td>\n",
              "    </tr>\n",
              "    <tr>\n",
              "      <th>2</th>\n",
              "      <td>u108339</td>\n",
              "      <td>[1845, 2009, 2356, 1424, 2939, 323389]</td>\n",
              "    </tr>\n",
              "  </tbody>\n",
              "</table>\n",
              "</div>"
            ],
            "text/plain": [
              "       uid                                        articles\n",
              "0  u105138  [293672, 293328, 293001, 293622, 293126, 1852]\n",
              "1  u108690          [3405, 1739, 2972, 1158, 1599, 322665]\n",
              "2  u108339          [1845, 2009, 2356, 1424, 2939, 323389]"
            ]
          },
          "metadata": {},
          "execution_count": 55
        }
      ]
    },
    {
      "cell_type": "code",
      "metadata": {
        "id": "Wz9ZucBdf0ql"
      },
      "source": [
        "doc_dict = dict(zip(topic_matrix['doc_id'].values, topic_matrix[['topic_{}'.format(i) for i in range(25)]].values))"
      ],
      "execution_count": 56,
      "outputs": []
    },
    {
      "cell_type": "code",
      "metadata": {
        "id": "0i2PsFakf0ql",
        "colab": {
          "base_uri": "https://localhost:8080/"
        },
        "outputId": "a92ebfae-7e6e-4735-9022-65455736f460"
      },
      "source": [
        "doc_dict[293622]"
      ],
      "execution_count": 57,
      "outputs": [
        {
          "output_type": "execute_result",
          "data": {
            "text/plain": [
              "array([0.        , 0.        , 0.        , 0.0415783 , 0.        ,\n",
              "       0.09773951, 0.        , 0.09540377, 0.        , 0.01319944,\n",
              "       0.03953821, 0.10307562, 0.        , 0.26261637, 0.        ,\n",
              "       0.14385106, 0.01323838, 0.11857128, 0.04690615, 0.        ,\n",
              "       0.        , 0.        , 0.01869044, 0.        , 0.        ])"
            ]
          },
          "metadata": {},
          "execution_count": 57
        }
      ]
    },
    {
      "cell_type": "code",
      "metadata": {
        "id": "Qu403169f0qq"
      },
      "source": [
        "from sklearn.linear_model import LogisticRegression\n",
        "from sklearn.model_selection import train_test_split\n",
        "from sklearn.metrics import f1_score, roc_auc_score, precision_score, classification_report, precision_recall_curve, confusion_matrix\n",
        "import itertools\n",
        "\n",
        "import matplotlib.pyplot as plt\n",
        "\n",
        "%matplotlib inline"
      ],
      "execution_count": 67,
      "outputs": []
    },
    {
      "cell_type": "code",
      "metadata": {
        "id": "UAUnSsPnf0qs"
      },
      "source": [
        "def plot_confusion_matrix(cm, classes,\n",
        "                          normalize=False,\n",
        "                          title='Confusion matrix',\n",
        "                          cmap=plt.cm.Blues):\n",
        "    \"\"\"\n",
        "    This function prints and plots the confusion matrix.\n",
        "    Normalization can be applied by setting `normalize=True`.\n",
        "    \"\"\"\n",
        "    plt.imshow(cm, interpolation='nearest', cmap=cmap)\n",
        "    plt.title(title)\n",
        "    plt.colorbar()\n",
        "    tick_marks = np.arange(len(classes))\n",
        "    plt.xticks(tick_marks, classes, rotation=45)\n",
        "    plt.yticks(tick_marks, classes)\n",
        "\n",
        "    if normalize:\n",
        "        cm = cm.astype('float') / cm.sum(axis=1)[:, np.newaxis]\n",
        "        print(\"Normalized confusion matrix\")\n",
        "    else:\n",
        "        print('Confusion matrix, without normalization')\n",
        "\n",
        "    print(cm)\n",
        "\n",
        "    thresh = cm.max() / 2.\n",
        "    for i, j in itertools.product(range(cm.shape[0]), range(cm.shape[1])):\n",
        "        plt.text(j, i, cm[i, j],\n",
        "                 horizontalalignment=\"center\",\n",
        "                 color=\"white\" if cm[i, j] > thresh else \"black\")\n",
        "\n",
        "    plt.tight_layout()\n",
        "    plt.ylabel('True label')\n",
        "    plt.xlabel('Predicted label')"
      ],
      "execution_count": 213,
      "outputs": []
    },
    {
      "cell_type": "code",
      "metadata": {
        "id": "JXyQiKJ91L4F"
      },
      "source": [
        "def model_by_user_embedding_mode(user_embeddings_df:pd.DataFrame, y: pd.Series, embedding_calc_mode:str):\n",
        "\n",
        "  print(user_embeddings_df.head(3))\n",
        "\n",
        "  _X = pd.merge(user_embeddings_df, y, 'left')\n",
        "  # print(\"X= \", _X.head(3))\n",
        "\n",
        "  #разделим данные на train/test\n",
        "  _X_train, _X_test, _y_train, _y_test = train_test_split(_X[['topic_{}'.format(i) for i in range(25)]], \n",
        "                                                      X['churn'], random_state=0)\n",
        "  print(_X_train.shape, X_test.shape)\n",
        "\n",
        "  logreg = LogisticRegression()\n",
        "  #обучим \n",
        "  logreg.fit(_X_train, _y_train)\n",
        "\n",
        "  #наши прогнозы для тестовой выборки\n",
        "  _preds = logreg.predict_proba(_X_test)[:, 1]\n",
        "  # print(\"predictions: \", _preds[:10])\n",
        "\n",
        "  _precision, _recall, _thresholds = precision_recall_curve(_y_test, _preds)\n",
        "  _fscore = (2 * _precision * _recall) / (_precision + _recall)\n",
        "  \n",
        "  # locate the index of the largest f score \n",
        "  ix = np.argmax(_fscore)\n",
        "\n",
        "  _rocauc_score = roc_auc_score(_y_test, _preds)\n",
        "\n",
        "  print(f\"Best Threshold={_thresholds[ix]}, F-Score={_fscore[ix]}, Precision={_precision[ix]}, Recall={_recall[ix]}, RocAucScore={_rocauc_score}\") \n",
        "  \n",
        "  #мы уже нашли ранее \"оптимальный\" порог, когда максимизировали f_score\n",
        "  font = {'size' : 15}\n",
        "  plt.rc('font', **font)\n",
        "\n",
        "  cnf_matrix = confusion_matrix(_y_test, _preds > _thresholds[ix])\n",
        "  plt.figure(figsize=(10, 8))\n",
        "  plot_confusion_matrix(cnf_matrix, classes=['Non-Churn', 'churn'], title=f\"Confusion matrix {embedding_calc_mode}\")\n",
        "  plt.savefig(f\"{DATA_PATH}conf_matrix_{embedding_calc_mode}.png\")\n",
        "  plt.show()\n",
        "\n",
        "  return _precision[ix], _recall[ix], _thresholds[ix], _fscore[ix], _rocauc_score"
      ],
      "execution_count": 351,
      "outputs": []
    },
    {
      "cell_type": "code",
      "metadata": {
        "colab": {
          "base_uri": "https://localhost:8080/",
          "height": 143
        },
        "id": "4U4F4E9KyhG3",
        "outputId": "224c8da3-a2b1-44c0-d87f-15c2517ae0c6"
      },
      "source": [
        "target = pd.read_csv(f\"{DATA_PATH}users_churn.csv\")\n",
        "target.head(3)"
      ],
      "execution_count": 352,
      "outputs": [
        {
          "output_type": "execute_result",
          "data": {
            "text/html": [
              "<div>\n",
              "<style scoped>\n",
              "    .dataframe tbody tr th:only-of-type {\n",
              "        vertical-align: middle;\n",
              "    }\n",
              "\n",
              "    .dataframe tbody tr th {\n",
              "        vertical-align: top;\n",
              "    }\n",
              "\n",
              "    .dataframe thead th {\n",
              "        text-align: right;\n",
              "    }\n",
              "</style>\n",
              "<table border=\"1\" class=\"dataframe\">\n",
              "  <thead>\n",
              "    <tr style=\"text-align: right;\">\n",
              "      <th></th>\n",
              "      <th>uid</th>\n",
              "      <th>churn</th>\n",
              "    </tr>\n",
              "  </thead>\n",
              "  <tbody>\n",
              "    <tr>\n",
              "      <th>0</th>\n",
              "      <td>u107120</td>\n",
              "      <td>0</td>\n",
              "    </tr>\n",
              "    <tr>\n",
              "      <th>1</th>\n",
              "      <td>u102277</td>\n",
              "      <td>0</td>\n",
              "    </tr>\n",
              "    <tr>\n",
              "      <th>2</th>\n",
              "      <td>u102444</td>\n",
              "      <td>0</td>\n",
              "    </tr>\n",
              "  </tbody>\n",
              "</table>\n",
              "</div>"
            ],
            "text/plain": [
              "       uid  churn\n",
              "0  u107120      0\n",
              "1  u102277      0\n",
              "2  u102444      0"
            ]
          },
          "metadata": {},
          "execution_count": 352
        }
      ]
    },
    {
      "cell_type": "code",
      "metadata": {
        "id": "qWvq6iNx6fSp"
      },
      "source": [
        "def get_user_embedding_mean(_user_articles_list):\n",
        "    _user_articles_list = eval(_user_articles_list)\n",
        "    user_vector = np.array([doc_dict[doc_id] for doc_id in _user_articles_list])\n",
        "    user_vector = np.mean(user_vector, 0)\n",
        "    return user_vector"
      ],
      "execution_count": 353,
      "outputs": []
    },
    {
      "cell_type": "code",
      "metadata": {
        "colab": {
          "base_uri": "https://localhost:8080/",
          "height": 143
        },
        "id": "MUdULNtk6fSq",
        "outputId": "b662bb93-9a13-47dd-95db-e28d07e85207"
      },
      "source": [
        "user_embeddings_mean = pd.DataFrame([i for i in users['articles'].apply(lambda x: get_user_embedding_mean(x), 1)])\n",
        "user_embeddings_mean.columns = ['topic_{}'.format(i) for i in range(25)]\n",
        "user_embeddings_mean['uid'] = users['uid'].values\n",
        "user_embeddings_mean = user_embeddings_mean[['uid']+['topic_{}'.format(i) for i in range(25)]]\n",
        "user_embeddings_mean.head(3)"
      ],
      "execution_count": 354,
      "outputs": [
        {
          "output_type": "execute_result",
          "data": {
            "text/html": [
              "<div>\n",
              "<style scoped>\n",
              "    .dataframe tbody tr th:only-of-type {\n",
              "        vertical-align: middle;\n",
              "    }\n",
              "\n",
              "    .dataframe tbody tr th {\n",
              "        vertical-align: top;\n",
              "    }\n",
              "\n",
              "    .dataframe thead th {\n",
              "        text-align: right;\n",
              "    }\n",
              "</style>\n",
              "<table border=\"1\" class=\"dataframe\">\n",
              "  <thead>\n",
              "    <tr style=\"text-align: right;\">\n",
              "      <th></th>\n",
              "      <th>uid</th>\n",
              "      <th>topic_0</th>\n",
              "      <th>topic_1</th>\n",
              "      <th>topic_2</th>\n",
              "      <th>topic_3</th>\n",
              "      <th>topic_4</th>\n",
              "      <th>topic_5</th>\n",
              "      <th>topic_6</th>\n",
              "      <th>topic_7</th>\n",
              "      <th>topic_8</th>\n",
              "      <th>topic_9</th>\n",
              "      <th>topic_10</th>\n",
              "      <th>topic_11</th>\n",
              "      <th>topic_12</th>\n",
              "      <th>topic_13</th>\n",
              "      <th>topic_14</th>\n",
              "      <th>topic_15</th>\n",
              "      <th>topic_16</th>\n",
              "      <th>topic_17</th>\n",
              "      <th>topic_18</th>\n",
              "      <th>topic_19</th>\n",
              "      <th>topic_20</th>\n",
              "      <th>topic_21</th>\n",
              "      <th>topic_22</th>\n",
              "      <th>topic_23</th>\n",
              "      <th>topic_24</th>\n",
              "    </tr>\n",
              "  </thead>\n",
              "  <tbody>\n",
              "    <tr>\n",
              "      <th>0</th>\n",
              "      <td>u105138</td>\n",
              "      <td>0.000000</td>\n",
              "      <td>0.045367</td>\n",
              "      <td>0.000000</td>\n",
              "      <td>0.071648</td>\n",
              "      <td>0.005236</td>\n",
              "      <td>0.051460</td>\n",
              "      <td>0.000000</td>\n",
              "      <td>0.069855</td>\n",
              "      <td>0.017844</td>\n",
              "      <td>0.016139</td>\n",
              "      <td>0.076734</td>\n",
              "      <td>0.034613</td>\n",
              "      <td>0.038452</td>\n",
              "      <td>0.187609</td>\n",
              "      <td>0.036009</td>\n",
              "      <td>0.088264</td>\n",
              "      <td>0.023196</td>\n",
              "      <td>0.103112</td>\n",
              "      <td>0.074291</td>\n",
              "      <td>0.000000</td>\n",
              "      <td>0.005436</td>\n",
              "      <td>0.016875</td>\n",
              "      <td>0.021927</td>\n",
              "      <td>0.000000</td>\n",
              "      <td>0.000000</td>\n",
              "    </tr>\n",
              "    <tr>\n",
              "      <th>1</th>\n",
              "      <td>u108690</td>\n",
              "      <td>0.019377</td>\n",
              "      <td>0.070715</td>\n",
              "      <td>0.012527</td>\n",
              "      <td>0.001913</td>\n",
              "      <td>0.007859</td>\n",
              "      <td>0.009074</td>\n",
              "      <td>0.032131</td>\n",
              "      <td>0.097525</td>\n",
              "      <td>0.024836</td>\n",
              "      <td>0.010104</td>\n",
              "      <td>0.038218</td>\n",
              "      <td>0.123796</td>\n",
              "      <td>0.044139</td>\n",
              "      <td>0.116728</td>\n",
              "      <td>0.018826</td>\n",
              "      <td>0.023168</td>\n",
              "      <td>0.000000</td>\n",
              "      <td>0.069062</td>\n",
              "      <td>0.029278</td>\n",
              "      <td>0.051626</td>\n",
              "      <td>0.006943</td>\n",
              "      <td>0.080587</td>\n",
              "      <td>0.060088</td>\n",
              "      <td>0.034249</td>\n",
              "      <td>0.002423</td>\n",
              "    </tr>\n",
              "    <tr>\n",
              "      <th>2</th>\n",
              "      <td>u108339</td>\n",
              "      <td>0.022887</td>\n",
              "      <td>0.042836</td>\n",
              "      <td>0.014330</td>\n",
              "      <td>0.000000</td>\n",
              "      <td>0.064582</td>\n",
              "      <td>0.006487</td>\n",
              "      <td>0.019862</td>\n",
              "      <td>0.027327</td>\n",
              "      <td>0.020104</td>\n",
              "      <td>0.008165</td>\n",
              "      <td>0.062921</td>\n",
              "      <td>0.029359</td>\n",
              "      <td>0.029402</td>\n",
              "      <td>0.121820</td>\n",
              "      <td>0.015476</td>\n",
              "      <td>0.029166</td>\n",
              "      <td>0.004410</td>\n",
              "      <td>0.165325</td>\n",
              "      <td>0.025290</td>\n",
              "      <td>0.066839</td>\n",
              "      <td>0.025668</td>\n",
              "      <td>0.026121</td>\n",
              "      <td>0.147091</td>\n",
              "      <td>0.009689</td>\n",
              "      <td>0.000000</td>\n",
              "    </tr>\n",
              "  </tbody>\n",
              "</table>\n",
              "</div>"
            ],
            "text/plain": [
              "       uid   topic_0   topic_1  ...  topic_22  topic_23  topic_24\n",
              "0  u105138  0.000000  0.045367  ...  0.021927  0.000000  0.000000\n",
              "1  u108690  0.019377  0.070715  ...  0.060088  0.034249  0.002423\n",
              "2  u108339  0.022887  0.042836  ...  0.147091  0.009689  0.000000\n",
              "\n",
              "[3 rows x 26 columns]"
            ]
          },
          "metadata": {},
          "execution_count": 354
        }
      ]
    },
    {
      "cell_type": "code",
      "metadata": {
        "colab": {
          "base_uri": "https://localhost:8080/",
          "height": 783
        },
        "id": "RlYQICLO6e-e",
        "outputId": "a29d11cc-2dbc-48eb-d2e3-93d94e42c5a2"
      },
      "source": [
        "mean_precision, mean_recall, mean_thresholds, mean_fscore, mean_roc_auc_score = model_by_user_embedding_mode(user_embeddings_mean, y=target, embedding_calc_mode=\"mean\")"
      ],
      "execution_count": 355,
      "outputs": [
        {
          "output_type": "stream",
          "name": "stdout",
          "text": [
            "       uid   topic_0   topic_1  ...  topic_22  topic_23  topic_24\n",
            "0  u105138  0.000000  0.045367  ...  0.021927  0.000000  0.000000\n",
            "1  u108690  0.019377  0.070715  ...  0.060088  0.034249  0.002423\n",
            "2  u108339  0.022887  0.042836  ...  0.147091  0.009689  0.000000\n",
            "\n",
            "[3 rows x 26 columns]\n",
            "(6000, 25) (2000, 25)\n",
            "Best Threshold=0.2783930512103812, F-Score=0.66, Precision=0.6470588235294118, Recall=0.673469387755102, RocAucScore=0.9438525495668352\n",
            "Confusion matrix, without normalization\n",
            "[[1665   90]\n",
            " [  81  164]]\n"
          ]
        },
        {
          "output_type": "display_data",
          "data": {
            "image/png": "[encoded data removed]",
            "text/plain": [
              "<Figure size 720x576 with 2 Axes>"
            ]
          },
          "metadata": {
            "needs_background": "light"
          }
        }
      ]
    },
    {
      "cell_type": "markdown",
      "metadata": {
        "id": "Xbp58miVwcMO"
      },
      "source": [
        "**2. Модифицировать код функции get_user_embedding таким образом, чтобы считалось не среднее (как в примере np.mean), а медиана. Применить такое преобразование к данным, обучить модель прогнозирования оттока и посчитать метрики качества и сохранить их: roc auc, precision/recall/f_score (для 3 последних - подобрать оптимальный порог с помощью precision_recall_curve, как это делалось на уроке)**"
      ]
    },
    {
      "cell_type": "code",
      "metadata": {
        "id": "_9gBvZjGwlmD"
      },
      "source": [
        "def get_user_embedding_median(_user_articles_list):\n",
        "    _user_articles_list = eval(_user_articles_list)\n",
        "    user_vector = np.array([doc_dict[doc_id] for doc_id in _user_articles_list])\n",
        "    user_vector = np.median(user_vector, 0)\n",
        "    return user_vector"
      ],
      "execution_count": 332,
      "outputs": []
    },
    {
      "cell_type": "code",
      "metadata": {
        "colab": {
          "base_uri": "https://localhost:8080/",
          "height": 143
        },
        "id": "dsDp5MXNyhG2",
        "outputId": "5e798e81-e7ea-4873-a8a8-d066bf2c0bb8"
      },
      "source": [
        "user_embeddings_median = pd.DataFrame([i for i in users['articles'].apply(lambda x: get_user_embedding_median(x), 1)])\n",
        "user_embeddings_median.columns = ['topic_{}'.format(i) for i in range(25)]\n",
        "user_embeddings_median['uid'] = users['uid'].values\n",
        "user_embeddings_median = user_embeddings_median[['uid']+['topic_{}'.format(i) for i in range(25)]]\n",
        "user_embeddings_median.head(3)"
      ],
      "execution_count": 356,
      "outputs": [
        {
          "output_type": "execute_result",
          "data": {
            "text/html": [
              "<div>\n",
              "<style scoped>\n",
              "    .dataframe tbody tr th:only-of-type {\n",
              "        vertical-align: middle;\n",
              "    }\n",
              "\n",
              "    .dataframe tbody tr th {\n",
              "        vertical-align: top;\n",
              "    }\n",
              "\n",
              "    .dataframe thead th {\n",
              "        text-align: right;\n",
              "    }\n",
              "</style>\n",
              "<table border=\"1\" class=\"dataframe\">\n",
              "  <thead>\n",
              "    <tr style=\"text-align: right;\">\n",
              "      <th></th>\n",
              "      <th>uid</th>\n",
              "      <th>topic_0</th>\n",
              "      <th>topic_1</th>\n",
              "      <th>topic_2</th>\n",
              "      <th>topic_3</th>\n",
              "      <th>topic_4</th>\n",
              "      <th>topic_5</th>\n",
              "      <th>topic_6</th>\n",
              "      <th>topic_7</th>\n",
              "      <th>topic_8</th>\n",
              "      <th>topic_9</th>\n",
              "      <th>topic_10</th>\n",
              "      <th>topic_11</th>\n",
              "      <th>topic_12</th>\n",
              "      <th>topic_13</th>\n",
              "      <th>topic_14</th>\n",
              "      <th>topic_15</th>\n",
              "      <th>topic_16</th>\n",
              "      <th>topic_17</th>\n",
              "      <th>topic_18</th>\n",
              "      <th>topic_19</th>\n",
              "      <th>topic_20</th>\n",
              "      <th>topic_21</th>\n",
              "      <th>topic_22</th>\n",
              "      <th>topic_23</th>\n",
              "      <th>topic_24</th>\n",
              "    </tr>\n",
              "  </thead>\n",
              "  <tbody>\n",
              "    <tr>\n",
              "      <th>0</th>\n",
              "      <td>u105138</td>\n",
              "      <td>0.0</td>\n",
              "      <td>0.000000</td>\n",
              "      <td>0.000000</td>\n",
              "      <td>0.01402</td>\n",
              "      <td>0.0</td>\n",
              "      <td>0.0</td>\n",
              "      <td>0.000000</td>\n",
              "      <td>0.043629</td>\n",
              "      <td>0.000000</td>\n",
              "      <td>0.006600</td>\n",
              "      <td>0.029798</td>\n",
              "      <td>0.000000</td>\n",
              "      <td>0.000000</td>\n",
              "      <td>0.182772</td>\n",
              "      <td>0.000000</td>\n",
              "      <td>0.077999</td>\n",
              "      <td>0.0</td>\n",
              "      <td>0.059286</td>\n",
              "      <td>0.044517</td>\n",
              "      <td>0.000000</td>\n",
              "      <td>0.00000</td>\n",
              "      <td>0.0</td>\n",
              "      <td>0.000000</td>\n",
              "      <td>0.000000</td>\n",
              "      <td>0.0</td>\n",
              "    </tr>\n",
              "    <tr>\n",
              "      <th>1</th>\n",
              "      <td>u108690</td>\n",
              "      <td>0.0</td>\n",
              "      <td>0.030066</td>\n",
              "      <td>0.006184</td>\n",
              "      <td>0.00000</td>\n",
              "      <td>0.0</td>\n",
              "      <td>0.0</td>\n",
              "      <td>0.023472</td>\n",
              "      <td>0.059037</td>\n",
              "      <td>0.005173</td>\n",
              "      <td>0.000000</td>\n",
              "      <td>0.035648</td>\n",
              "      <td>0.122761</td>\n",
              "      <td>0.033341</td>\n",
              "      <td>0.114743</td>\n",
              "      <td>0.005921</td>\n",
              "      <td>0.000000</td>\n",
              "      <td>0.0</td>\n",
              "      <td>0.032134</td>\n",
              "      <td>0.028957</td>\n",
              "      <td>0.026125</td>\n",
              "      <td>0.00000</td>\n",
              "      <td>0.0</td>\n",
              "      <td>0.021802</td>\n",
              "      <td>0.005895</td>\n",
              "      <td>0.0</td>\n",
              "    </tr>\n",
              "    <tr>\n",
              "      <th>2</th>\n",
              "      <td>u108339</td>\n",
              "      <td>0.0</td>\n",
              "      <td>0.045006</td>\n",
              "      <td>0.011415</td>\n",
              "      <td>0.00000</td>\n",
              "      <td>0.0</td>\n",
              "      <td>0.0</td>\n",
              "      <td>0.018228</td>\n",
              "      <td>0.006624</td>\n",
              "      <td>0.006258</td>\n",
              "      <td>0.007775</td>\n",
              "      <td>0.028809</td>\n",
              "      <td>0.022162</td>\n",
              "      <td>0.027360</td>\n",
              "      <td>0.094671</td>\n",
              "      <td>0.011999</td>\n",
              "      <td>0.000000</td>\n",
              "      <td>0.0</td>\n",
              "      <td>0.131954</td>\n",
              "      <td>0.006342</td>\n",
              "      <td>0.039258</td>\n",
              "      <td>0.00837</td>\n",
              "      <td>0.0</td>\n",
              "      <td>0.121877</td>\n",
              "      <td>0.000000</td>\n",
              "      <td>0.0</td>\n",
              "    </tr>\n",
              "  </tbody>\n",
              "</table>\n",
              "</div>"
            ],
            "text/plain": [
              "       uid  topic_0   topic_1   topic_2  ...  topic_21  topic_22  topic_23  topic_24\n",
              "0  u105138      0.0  0.000000  0.000000  ...       0.0  0.000000  0.000000       0.0\n",
              "1  u108690      0.0  0.030066  0.006184  ...       0.0  0.021802  0.005895       0.0\n",
              "2  u108339      0.0  0.045006  0.011415  ...       0.0  0.121877  0.000000       0.0\n",
              "\n",
              "[3 rows x 26 columns]"
            ]
          },
          "metadata": {},
          "execution_count": 356
        }
      ]
    },
    {
      "cell_type": "code",
      "metadata": {
        "colab": {
          "base_uri": "https://localhost:8080/",
          "height": 783
        },
        "id": "Pt1BS0IB3kh6",
        "outputId": "7d5095e1-455a-4c98-dffb-8b134b04b9e7"
      },
      "source": [
        "median_precision, median_recall, median_thresholds, median_fscore, median_roc_auc_score = model_by_user_embedding_mode(user_embeddings_median, y=target, embedding_calc_mode=\"median\")"
      ],
      "execution_count": 357,
      "outputs": [
        {
          "output_type": "stream",
          "name": "stdout",
          "text": [
            "       uid  topic_0   topic_1   topic_2  ...  topic_21  topic_22  topic_23  topic_24\n",
            "0  u105138      0.0  0.000000  0.000000  ...       0.0  0.000000  0.000000       0.0\n",
            "1  u108690      0.0  0.030066  0.006184  ...       0.0  0.021802  0.005895       0.0\n",
            "2  u108339      0.0  0.045006  0.011415  ...       0.0  0.121877  0.000000       0.0\n",
            "\n",
            "[3 rows x 26 columns]\n",
            "(6000, 25) (2000, 25)\n",
            "Best Threshold=0.2693832022750445, F-Score=0.7248062015503877, Precision=0.6900369003690037, Recall=0.763265306122449, RocAucScore=0.9599930228501657\n",
            "Confusion matrix, without normalization\n",
            "[[1671   84]\n",
            " [  59  186]]\n"
          ]
        },
        {
          "output_type": "display_data",
          "data": {
            "image/png": "[encoded data removed]",
            "text/plain": [
              "<Figure size 720x576 with 2 Axes>"
            ]
          },
          "metadata": {
            "needs_background": "light"
          }
        }
      ]
    },
    {
      "cell_type": "markdown",
      "metadata": {
        "id": "Lt3x8FD1zjbT"
      },
      "source": [
        "**3. Повторить п.2, но используя уже не медиану, а max**"
      ]
    },
    {
      "cell_type": "code",
      "metadata": {
        "id": "ut42QfA1zubT"
      },
      "source": [
        "def get_user_embedding_max(_user_articles_list):\n",
        "    lst = eval(_user_articles_list)\n",
        "    user_vector = np.array([doc_dict[doc_id] for doc_id in lst])\n",
        "    user_vector = np.max(user_vector, 0)\n",
        "    return user_vector"
      ],
      "execution_count": 369,
      "outputs": []
    },
    {
      "cell_type": "code",
      "metadata": {
        "colab": {
          "base_uri": "https://localhost:8080/",
          "height": 143
        },
        "id": "W69AthrMz7E-",
        "outputId": "a7185379-cf75-4b99-95a7-382db19f0510"
      },
      "source": [
        "user_embeddings_max = pd.DataFrame([i for i in users['articles'].apply(lambda x: get_user_embedding_max(x), 1)])\n",
        "user_embeddings_max.columns = ['topic_{}'.format(i) for i in range(25)]\n",
        "user_embeddings_max['uid'] = users['uid'].values\n",
        "user_embeddings_max = user_embeddings_max[['uid']+['topic_{}'.format(i) for i in range(25)]]\n",
        "user_embeddings_max.head(3)"
      ],
      "execution_count": 370,
      "outputs": [
        {
          "output_type": "execute_result",
          "data": {
            "text/html": [
              "<div>\n",
              "<style scoped>\n",
              "    .dataframe tbody tr th:only-of-type {\n",
              "        vertical-align: middle;\n",
              "    }\n",
              "\n",
              "    .dataframe tbody tr th {\n",
              "        vertical-align: top;\n",
              "    }\n",
              "\n",
              "    .dataframe thead th {\n",
              "        text-align: right;\n",
              "    }\n",
              "</style>\n",
              "<table border=\"1\" class=\"dataframe\">\n",
              "  <thead>\n",
              "    <tr style=\"text-align: right;\">\n",
              "      <th></th>\n",
              "      <th>uid</th>\n",
              "      <th>topic_0</th>\n",
              "      <th>topic_1</th>\n",
              "      <th>topic_2</th>\n",
              "      <th>topic_3</th>\n",
              "      <th>topic_4</th>\n",
              "      <th>topic_5</th>\n",
              "      <th>topic_6</th>\n",
              "      <th>topic_7</th>\n",
              "      <th>topic_8</th>\n",
              "      <th>topic_9</th>\n",
              "      <th>topic_10</th>\n",
              "      <th>topic_11</th>\n",
              "      <th>topic_12</th>\n",
              "      <th>topic_13</th>\n",
              "      <th>topic_14</th>\n",
              "      <th>topic_15</th>\n",
              "      <th>topic_16</th>\n",
              "      <th>topic_17</th>\n",
              "      <th>topic_18</th>\n",
              "      <th>topic_19</th>\n",
              "      <th>topic_20</th>\n",
              "      <th>topic_21</th>\n",
              "      <th>topic_22</th>\n",
              "      <th>topic_23</th>\n",
              "      <th>topic_24</th>\n",
              "    </tr>\n",
              "  </thead>\n",
              "  <tbody>\n",
              "    <tr>\n",
              "      <th>0</th>\n",
              "      <td>u105138</td>\n",
              "      <td>0.000000</td>\n",
              "      <td>0.207179</td>\n",
              "      <td>0.000000</td>\n",
              "      <td>0.360269</td>\n",
              "      <td>0.031413</td>\n",
              "      <td>0.211019</td>\n",
              "      <td>0.000000</td>\n",
              "      <td>0.236471</td>\n",
              "      <td>0.107063</td>\n",
              "      <td>0.053119</td>\n",
              "      <td>0.361270</td>\n",
              "      <td>0.104604</td>\n",
              "      <td>0.215855</td>\n",
              "      <td>0.460260</td>\n",
              "      <td>0.134868</td>\n",
              "      <td>0.229732</td>\n",
              "      <td>0.125940</td>\n",
              "      <td>0.271644</td>\n",
              "      <td>0.269741</td>\n",
              "      <td>0.000000</td>\n",
              "      <td>0.032617</td>\n",
              "      <td>0.090489</td>\n",
              "      <td>0.112872</td>\n",
              "      <td>0.000000</td>\n",
              "      <td>0.000000</td>\n",
              "    </tr>\n",
              "    <tr>\n",
              "      <th>1</th>\n",
              "      <td>u108690</td>\n",
              "      <td>0.068936</td>\n",
              "      <td>0.248399</td>\n",
              "      <td>0.032714</td>\n",
              "      <td>0.011480</td>\n",
              "      <td>0.033132</td>\n",
              "      <td>0.028430</td>\n",
              "      <td>0.087869</td>\n",
              "      <td>0.250043</td>\n",
              "      <td>0.127371</td>\n",
              "      <td>0.060625</td>\n",
              "      <td>0.093519</td>\n",
              "      <td>0.277181</td>\n",
              "      <td>0.144169</td>\n",
              "      <td>0.184519</td>\n",
              "      <td>0.063345</td>\n",
              "      <td>0.071308</td>\n",
              "      <td>0.000000</td>\n",
              "      <td>0.199795</td>\n",
              "      <td>0.072407</td>\n",
              "      <td>0.184679</td>\n",
              "      <td>0.022671</td>\n",
              "      <td>0.385530</td>\n",
              "      <td>0.253364</td>\n",
              "      <td>0.143083</td>\n",
              "      <td>0.014539</td>\n",
              "    </tr>\n",
              "    <tr>\n",
              "      <th>2</th>\n",
              "      <td>u108339</td>\n",
              "      <td>0.116450</td>\n",
              "      <td>0.083926</td>\n",
              "      <td>0.047217</td>\n",
              "      <td>0.000000</td>\n",
              "      <td>0.241770</td>\n",
              "      <td>0.025685</td>\n",
              "      <td>0.051911</td>\n",
              "      <td>0.112615</td>\n",
              "      <td>0.072095</td>\n",
              "      <td>0.016828</td>\n",
              "      <td>0.166313</td>\n",
              "      <td>0.080325</td>\n",
              "      <td>0.084664</td>\n",
              "      <td>0.281779</td>\n",
              "      <td>0.038144</td>\n",
              "      <td>0.174998</td>\n",
              "      <td>0.015734</td>\n",
              "      <td>0.383099</td>\n",
              "      <td>0.088833</td>\n",
              "      <td>0.183332</td>\n",
              "      <td>0.094834</td>\n",
              "      <td>0.135978</td>\n",
              "      <td>0.291995</td>\n",
              "      <td>0.032481</td>\n",
              "      <td>0.000000</td>\n",
              "    </tr>\n",
              "  </tbody>\n",
              "</table>\n",
              "</div>"
            ],
            "text/plain": [
              "       uid   topic_0   topic_1  ...  topic_22  topic_23  topic_24\n",
              "0  u105138  0.000000  0.207179  ...  0.112872  0.000000  0.000000\n",
              "1  u108690  0.068936  0.248399  ...  0.253364  0.143083  0.014539\n",
              "2  u108339  0.116450  0.083926  ...  0.291995  0.032481  0.000000\n",
              "\n",
              "[3 rows x 26 columns]"
            ]
          },
          "metadata": {},
          "execution_count": 370
        }
      ]
    },
    {
      "cell_type": "code",
      "metadata": {
        "colab": {
          "base_uri": "https://localhost:8080/",
          "height": 783
        },
        "id": "ZDjDKsIJ5uWp",
        "outputId": "6fb24d7b-01cc-4623-a6f3-1b77d8459127"
      },
      "source": [
        "max_precision, max_recall, max_thresholds, max_fscore, max_roc_auc_score = model_by_user_embedding_mode(user_embeddings_max, y=target, embedding_calc_mode=\"max\")"
      ],
      "execution_count": 371,
      "outputs": [
        {
          "output_type": "stream",
          "name": "stdout",
          "text": [
            "       uid   topic_0   topic_1  ...  topic_22  topic_23  topic_24\n",
            "0  u105138  0.000000  0.207179  ...  0.112872  0.000000  0.000000\n",
            "1  u108690  0.068936  0.248399  ...  0.253364  0.143083  0.014539\n",
            "2  u108339  0.116450  0.083926  ...  0.291995  0.032481  0.000000\n",
            "\n",
            "[3 rows x 26 columns]\n",
            "(6000, 25) (2000, 25)\n",
            "Best Threshold=0.3702635494349564, F-Score=0.7845528455284553, Precision=0.7813765182186235, Recall=0.7877551020408163, RocAucScore=0.969595906738764\n",
            "Confusion matrix, without normalization\n",
            "[[1701   54]\n",
            " [  53  192]]\n"
          ]
        },
        {
          "output_type": "display_data",
          "data": {
            "image/png": "[encoded data removed]",
            "text/plain": [
              "<Figure size 720x576 with 2 Axes>"
            ]
          },
          "metadata": {
            "needs_background": "light"
          }
        }
      ]
    },
    {
      "cell_type": "markdown",
      "metadata": {
        "id": "sZvyIKiw6LSY"
      },
      "source": [
        "**5. Сформировать на выходе единую таблицу, сравнивающую качество 3 разных метода получения эмбедингов пользователей: mean, median, max, idf_mean по метрикам roc_auc, precision, recall, f_score**"
      ]
    },
    {
      "cell_type": "code",
      "metadata": {
        "colab": {
          "base_uri": "https://localhost:8080/",
          "height": 143
        },
        "id": "nlKu4iwl6KZ-",
        "outputId": "08085896-f417-41d6-f7fd-e9691553c5c4"
      },
      "source": [
        "results = pd.DataFrame(data=[[mean_precision, mean_recall, mean_thresholds, mean_fscore, mean_roc_auc_score], \n",
        "                             [median_precision, median_recall, median_thresholds, median_fscore, median_roc_auc_score],\n",
        "                             [max_precision, max_recall, max_thresholds, max_fscore, max_roc_auc_score]], \n",
        "                       columns=[\"precision\", \"recall\", \"thresholds\", \"fscore\", \"roc_auc_score\"],\n",
        "                       index=[\"mean\",\"median\", \"max\"] )\n",
        "results"
      ],
      "execution_count": 365,
      "outputs": [
        {
          "output_type": "execute_result",
          "data": {
            "text/html": [
              "<div>\n",
              "<style scoped>\n",
              "    .dataframe tbody tr th:only-of-type {\n",
              "        vertical-align: middle;\n",
              "    }\n",
              "\n",
              "    .dataframe tbody tr th {\n",
              "        vertical-align: top;\n",
              "    }\n",
              "\n",
              "    .dataframe thead th {\n",
              "        text-align: right;\n",
              "    }\n",
              "</style>\n",
              "<table border=\"1\" class=\"dataframe\">\n",
              "  <thead>\n",
              "    <tr style=\"text-align: right;\">\n",
              "      <th></th>\n",
              "      <th>precision</th>\n",
              "      <th>recall</th>\n",
              "      <th>thresholds</th>\n",
              "      <th>fscore</th>\n",
              "      <th>roc_auc_score</th>\n",
              "    </tr>\n",
              "  </thead>\n",
              "  <tbody>\n",
              "    <tr>\n",
              "      <th>mean</th>\n",
              "      <td>0.647059</td>\n",
              "      <td>0.673469</td>\n",
              "      <td>0.278393</td>\n",
              "      <td>0.660000</td>\n",
              "      <td>0.943853</td>\n",
              "    </tr>\n",
              "    <tr>\n",
              "      <th>median</th>\n",
              "      <td>0.690037</td>\n",
              "      <td>0.763265</td>\n",
              "      <td>0.269383</td>\n",
              "      <td>0.724806</td>\n",
              "      <td>0.959993</td>\n",
              "    </tr>\n",
              "    <tr>\n",
              "      <th>max</th>\n",
              "      <td>0.781377</td>\n",
              "      <td>0.787755</td>\n",
              "      <td>0.370264</td>\n",
              "      <td>0.784553</td>\n",
              "      <td>0.969596</td>\n",
              "    </tr>\n",
              "  </tbody>\n",
              "</table>\n",
              "</div>"
            ],
            "text/plain": [
              "        precision    recall  thresholds    fscore  roc_auc_score\n",
              "mean     0.647059  0.673469    0.278393  0.660000       0.943853\n",
              "median   0.690037  0.763265    0.269383  0.724806       0.959993\n",
              "max      0.781377  0.787755    0.370264  0.784553       0.969596"
            ]
          },
          "metadata": {},
          "execution_count": 365
        }
      ]
    },
    {
      "cell_type": "markdown",
      "metadata": {
        "id": "YC20RX46-Tj8"
      },
      "source": [
        "**6. Сделать самостоятельные выводы и предположения о том, почему тот или ной способ оказался эффективнее остальных**"
      ]
    },
    {
      "cell_type": "markdown",
      "metadata": {
        "id": "QDORB9Yi-cMD"
      },
      "source": [
        "Лучший результат показала функция по мах. т.е. лучше всего пользователя характеризует вектор с ярко выраженными топиками? \n",
        "Неоднозначно... при разных запусках и рандом_стате получлись результаты лучше с медианой?"
      ]
    },
    {
      "cell_type": "code",
      "metadata": {
        "id": "M5u-oHzwf0qw"
      },
      "source": [
        ""
      ],
      "execution_count": null,
      "outputs": []
    }
  ]
}