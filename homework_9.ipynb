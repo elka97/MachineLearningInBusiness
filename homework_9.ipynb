{
  "cells": [
    {
      "cell_type": "markdown",
      "metadata": {
        "id": "view-in-github",
        "colab_type": "text"
      },
      "source": [
        "<a href=\"https://colab.research.google.com/github/elka97/MachineLearningInBusiness/blob/main/homework_9.ipynb\" target=\"_parent\"><img src=\"https://colab.research.google.com/assets/colab-badge.svg\" alt=\"Open In Colab\"/></a>"
      ]
    },
    {
      "cell_type": "markdown",
      "metadata": {
        "id": "s1INqycR1wuh"
      },
      "source": [
        "https://github.com/elka97/Ml_In_Business_PredictAPI/tree/main/courseWork\n"
      ]
    },
    {
      "cell_type": "markdown",
      "source": [
        "Итоговый проект (пример) курса \"Машинное обучение в бизнесе\"\n",
        "\n",
        "Стек:\n",
        "\n",
        "ML: sklearn, pandas, numpy API, catboost, flask \n",
        "Данные: trading data Gold, H1 timeframe.\n",
        "\n",
        "Задача: предсказать покупку Gold по данным цены и индикаторов в данный момент времени (окончание часового интервала). \n",
        "Бинарная классификация\n",
        "\n",
        "Используемые признаки:\n",
        "\n",
        "   \"open\": 1528.96 цена открытия\n",
        "   \"high\": 1529.4 ценовой максимум за интервал\n",
        "   \"low\": 1527.57 ценовой минимум за интервал\n",
        "   \"close\": 1528.66 цена закрытия\n",
        "   \"EMA_4_ema4o\": 1529.72009850086 exponential moving average 4 open\n",
        "   \"EMA_5_ema5c\": 1529.48590620679 exponential moving average 5 close\n",
        "   \"spread\": 170 спред\n",
        "   \"tick_volume\": 3112 тиковый объéм\n",
        "   \"CCI_14_0.015\": -95.3727110857222 индикатор CCI 14\n",
        "   \"RSI_14\": 53.8782078975101 индикатор RSI 14\n",
        "   \"MOM_14\": 6.06000000000017 индикатор Momentum 14\n",
        "   \"STOCHRSIk_14_14_3_3\": 15.6530333057249 индикатор Stochastik 14/3/3 k\n",
        "   \"STOCHRSId_14_14_3_3\": 30.295676250451 индикатор Stochastik 14/3/3 d\n",
        "\n",
        "all data - float\n",
        "\n",
        "Преобразования признаков: SimpleImputer, RobustScaler\n",
        "\n",
        "Модель: catboost"
      ],
      "metadata": {
        "id": "8w2G1jRb2Kqq"
      }
    }
  ],
  "metadata": {
    "kernelspec": {
      "display_name": "Python 3",
      "language": "python",
      "name": "python3"
    },
    "language_info": {
      "codemirror_mode": {
        "name": "ipython",
        "version": 3
      },
      "file_extension": ".py",
      "mimetype": "text/x-python",
      "name": "python",
      "nbconvert_exporter": "python",
      "pygments_lexer": "ipython3",
      "version": "3.7.3"
    },
    "colab": {
      "name": "homework_9.ipynb",
      "provenance": [],
      "collapsed_sections": [
        "8w2G1jRb2Kqq"
      ],
      "toc_visible": true,
      "include_colab_link": true
    }
  },
  "nbformat": 4,
  "nbformat_minor": 0
}