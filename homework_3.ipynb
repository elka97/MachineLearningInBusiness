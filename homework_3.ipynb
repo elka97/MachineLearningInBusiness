{
  "nbformat": 4,
  "nbformat_minor": 0,
  "metadata": {
    "kernelspec": {
      "display_name": "Python 3",
      "language": "python",
      "name": "python3"
    },
    "language_info": {
      "codemirror_mode": {
        "name": "ipython",
        "version": 3
      },
      "file_extension": ".py",
      "mimetype": "text/x-python",
      "name": "python",
      "nbconvert_exporter": "python",
      "pygments_lexer": "ipython3",
      "version": "3.8.3"
    },
    "colab": {
      "name": "homework_3.ipynb",
      "provenance": [],
      "collapsed_sections": [
        "JMYjVrNTNpaI"
      ],
      "toc_visible": true,
      "include_colab_link": true
    }
  },
  "cells": [
    {
      "cell_type": "markdown",
      "metadata": {
        "id": "view-in-github",
        "colab_type": "text"
      },
      "source": [
        "<a href=\"https://colab.research.google.com/github/elka97/MachineLearningInBusiness/blob/main/homework_3.ipynb\" target=\"_parent\"><img src=\"https://colab.research.google.com/assets/colab-badge.svg\" alt=\"Open In Colab\"/></a>"
      ]
    },
    {
      "cell_type": "markdown",
      "metadata": {
        "id": "NacMXByTNpZa"
      },
      "source": [
        "### Урок3. Связь бизнес-показателей и DS-метрик"
      ]
    },
    {
      "cell_type": "markdown",
      "metadata": {
        "id": "m6Cu0biBNpZn"
      },
      "source": [
        "План занятия:\n",
        "0. Ликбез: train/test/val и crossvalidation\n",
        "1. переход от вероятностей к меткам в задаче бинарной классификации\n",
        "2. какие бывают DS-метрики, их интерпретация\n",
        "3. пример из практики\n",
        "4. бизнес-метрики\n",
        "5. взаимосвязь DS и бизнес метрик\n",
        "6. case1 - фильтрация токсичных комментариев\n",
        "7. case2 - определение ССЗ "
      ]
    },
    {
      "cell_type": "markdown",
      "metadata": {
        "id": "FfPt9UVKNpZp"
      },
      "source": [
        "### Разбивка на train/test/val"
      ]
    },
    {
      "cell_type": "markdown",
      "metadata": {
        "id": "QAaBgvbwNpZq"
      },
      "source": [
        "![ab_split](Sets.png \"Tr_Test_val\")"
      ]
    },
    {
      "cell_type": "markdown",
      "metadata": {
        "id": "-Psi9C4KNpZr"
      },
      "source": [
        "#### Вопрос 1: в чем назначение каждого из набора данных?"
      ]
    },
    {
      "cell_type": "markdown",
      "metadata": {
        "id": "ij3GjwmHNpZs"
      },
      "source": [
        "### Кроссвалидация (CV)"
      ]
    },
    {
      "cell_type": "markdown",
      "metadata": {
        "id": "H4gut6MFNpZt"
      },
      "source": [
        "![ab_split](cv.png \"CV\")"
      ]
    },
    {
      "cell_type": "markdown",
      "metadata": {
        "id": "udJ0Ydd5NpZu"
      },
      "source": [
        "### Задача бинарной классификации"
      ]
    },
    {
      "cell_type": "markdown",
      "metadata": {
        "id": "rV9BNkH4NpZv"
      },
      "source": [
        "![ab_split](binary_clf1.jpg \"binary1\")"
      ]
    },
    {
      "cell_type": "markdown",
      "metadata": {
        "id": "RWVqeBJCNpZv"
      },
      "source": [
        "Бинарный классификатор выдает нам \"вероятности\" (всегда ли?). Вроде 0.13, 0.87, etc\n",
        "\n",
        "Однако нам от этого всего мало пользы и требуется в рамках практической задачи получить метки классов.\n",
        "\n",
        "Например, в задаче оттока нам нужно отобрать подмножество пользователей, которые собираются уйти от нас для дальнейшей работы. \n"
      ]
    },
    {
      "cell_type": "markdown",
      "metadata": {
        "id": "OUkBDp_vNpZx"
      },
      "source": [
        "Очевидное решение:\n",
        "1. проскорить пользователей нашей моделью\n",
        "2. отсортировать по убыванию \"вероятности\" (предсказаний нашей модели) - мы предполагаем, что чем больше \"вероятность\" ухода, тем более склонен конкретный пользователь уйти в отток\n",
        "3. взять какой-то топ N пользователей получившегося списка"
      ]
    },
    {
      "cell_type": "markdown",
      "metadata": {
        "id": "SHnXEvQtNpZy"
      },
      "source": [
        "<b>Вопрос: какой N должен быть?</b>"
      ]
    },
    {
      "cell_type": "markdown",
      "metadata": {
        "id": "y4gPxFLMNpZy"
      },
      "source": [
        "<b>И еще вопрос: почему мы не можем взять тупо весь список?</b>"
      ]
    },
    {
      "cell_type": "markdown",
      "metadata": {
        "id": "zWglyRHmNpZz"
      },
      "source": [
        "Выгода для клиента часто может быть невыгодна для сервиса/компании/оператора связи/etc (вернемся к этому немного позже)"
      ]
    },
    {
      "cell_type": "markdown",
      "metadata": {
        "id": "NhmEXstkNpZ0"
      },
      "source": [
        "### Задача бинарной классификации"
      ]
    },
    {
      "cell_type": "markdown",
      "metadata": {
        "id": "4E-Kiu7JNpZ0"
      },
      "source": [
        "Проиллюстрируем на примере"
      ]
    },
    {
      "cell_type": "markdown",
      "metadata": {
        "id": "KNcPqawhNpZ0"
      },
      "source": [
        "![ab_split](binary_clf2.jpg \"binary2\")"
      ]
    },
    {
      "cell_type": "markdown",
      "metadata": {
        "id": "AXf7_D5ONpZ0"
      },
      "source": [
        "На практике чаще все не так идеально:"
      ]
    },
    {
      "cell_type": "markdown",
      "metadata": {
        "id": "V8OTTvNKNpZ1"
      },
      "source": [
        "![ab_split](binary_clf3.png \"binary3\")"
      ]
    },
    {
      "cell_type": "markdown",
      "metadata": {
        "id": "kSZGipqKNpZ1"
      },
      "source": [
        "Пусть классификатор выдаёт метку класса. \n",
        "\n",
        "Обозначения: \n",
        "* yi – метка i-го объекта, \n",
        "* ai – ответ на конкретном объекте нашего алгоритма (предсказание), \n",
        "* m – число объектов в выборке\n",
        "\n",
        "Самым простым и распространённым функционалом качества является точность (Accuracy или Mean Consequential Error):"
      ]
    },
    {
      "cell_type": "markdown",
      "metadata": {
        "id": "mpGPwdNjNpZ1"
      },
      "source": [
        "![ab_split](accuracy.png \"accuracy\")"
      ]
    },
    {
      "cell_type": "markdown",
      "metadata": {
        "id": "POCn1s7DNpZ2"
      },
      "source": [
        "<b>Вопрос: в чем проблема такой метрики?</b>"
      ]
    },
    {
      "cell_type": "markdown",
      "metadata": {
        "id": "ZcVsIxP1NpZ2"
      },
      "source": [
        "<b>В каком случае она может быть использована?</b>"
      ]
    },
    {
      "cell_type": "markdown",
      "metadata": {
        "id": "3ZbabLiyNpZ3"
      },
      "source": [
        "Т.е это просто доля (процент) объектов, на которых алгоритм выдал правильные ответы. Недостаток такого функционала понятен: он плохо справляется в случае дисбаланса классов, когда представителей одного из классов существенно больше, чем второго. В этом случае, с точки зрения точности, выгодно почти всегда выдавать метку самого популярного класса. Это может не согласовываться с логикой использования решения задачи. Например, в задаче детектирования редкого заболевания алгоритм, который всех относит к классу «здоровые», бесполезен."
      ]
    },
    {
      "cell_type": "markdown",
      "metadata": {
        "id": "THDmP-PCNpZ3"
      },
      "source": [
        "Такая метрика нам не подходит (если выборка сбалансирована, то может и подойти), давайте двигаться далее"
      ]
    },
    {
      "cell_type": "markdown",
      "metadata": {
        "id": "RY5btUPzNpZ3"
      },
      "source": [
        "Рассмотрим такую штуку, как confusion_matrix"
      ]
    },
    {
      "cell_type": "markdown",
      "metadata": {
        "id": "Ko5fAFpyNpZ4"
      },
      "source": [
        "![ab_split](confusion_matrix.png \"confusion_matrix\")"
      ]
    },
    {
      "cell_type": "markdown",
      "metadata": {
        "id": "6ZVgbmEHNpZ4"
      },
      "source": [
        "Пример"
      ]
    },
    {
      "cell_type": "markdown",
      "metadata": {
        "id": "tCI4SaJjNpZ4"
      },
      "source": [
        "![ab_split](conf_matrix.png \"confusion_matrix\")"
      ]
    },
    {
      "cell_type": "markdown",
      "metadata": {
        "id": "eIUReE7eNpZ4"
      },
      "source": [
        "Два класса делятся на положительный (обычно метка 1) и отрицательный (обычно метка 0 или –1). \n",
        "\n",
        "Объекты, которые алгоритм относит к положительному классу, называются положительными (Positive), те из них, которые на самом деле принадлежат к этому классу – истинно положительными (True Positive), остальные – ложно положительными (False Positive). Аналогичная терминология есть для отрицательного (Negative) класса. \n",
        "\n",
        "Дальше используем естественные сокращения:\n",
        "\n",
        "* TP = True Positive,\n",
        "* TN = True Negative,\n",
        "* FP = False Positive,\n",
        "* FN = False Negative."
      ]
    },
    {
      "cell_type": "markdown",
      "metadata": {
        "id": "r3yOjce2NpZ5"
      },
      "source": [
        "![ab_split](accuracy2.png \"accuracy2\")"
      ]
    },
    {
      "cell_type": "markdown",
      "metadata": {
        "id": "pX0Q8B3GNpZ5"
      },
      "source": [
        "<b>Пример</b>\n",
        "\n",
        "Допустим, мы хотим оценить работу системы, которая определяет токсичность комментариев. У нас есть 1000 обычных комментариев, 900 из которых наш бинарный классификатор определил верно как нормальные (True Negative = 900, False Positive = 100), и 50 токсичных комментариев, 25 из которых классификатор также определил верно (True Positive = 25, False Negative = 25).\n",
        "\n",
        "Тогда accuracy получается таким:"
      ]
    },
    {
      "cell_type": "code",
      "metadata": {
        "id": "cocH5IP1NpZ5",
        "outputId": "6fc52545-597d-4818-cb8b-cf7ca5bf5108"
      },
      "source": [
        "accuracy = (25+900)/(900+100+25+25)\n",
        "print(accuracy)"
      ],
      "execution_count": null,
      "outputs": [
        {
          "name": "stdout",
          "output_type": "stream",
          "text": [
            "0.8809523809523809\n"
          ]
        }
      ]
    },
    {
      "cell_type": "markdown",
      "metadata": {
        "id": "fqhWaN6iNpZ7"
      },
      "source": [
        "А что если у нас тупой классификатор, который отвечает всегда, что комментарий не является токсичным?"
      ]
    },
    {
      "cell_type": "code",
      "metadata": {
        "id": "F3aWzGHPNpZ8",
        "outputId": "84f3915b-6b81-4d9c-aa8b-456a3b7643b6"
      },
      "source": [
        "accuracy = (1000)/(900+100+25+25)\n",
        "print(accuracy)"
      ],
      "execution_count": null,
      "outputs": [
        {
          "name": "stdout",
          "output_type": "stream",
          "text": [
            "0.9523809523809523\n"
          ]
        }
      ]
    },
    {
      "cell_type": "markdown",
      "metadata": {
        "id": "ivoRY-njNpZ8"
      },
      "source": [
        "Видим, что accuracy выше, но нам явно такой классификатор не нужен"
      ]
    },
    {
      "cell_type": "markdown",
      "metadata": {
        "id": "b_PlCrBlNpZ8"
      },
      "source": [
        "### Ошибки первого и второго рода"
      ]
    },
    {
      "cell_type": "markdown",
      "metadata": {
        "id": "V6ib8cjBNpZ9"
      },
      "source": [
        "Ошибки классификатора делятся на две группы: первого и второго рода. \n",
        "\n",
        "В идеале (когда точность равна 100%) матрица несоответствий диагональная, ошибки вызывают отличие от нуля двух недиагональных элементов:"
      ]
    },
    {
      "cell_type": "markdown",
      "metadata": {
        "id": "yuB4VYUFNpZ9"
      },
      "source": [
        "ошибка 1 рода (Type I Error) случается, когда у объекта положительный класс ошибочно отвергается (= FN/m).\n",
        "\n",
        "\n",
        "ошибка 2 рода (Type II Error) случается, когда объект ошибочно относится к положительному классу (= FP/m)."
      ]
    },
    {
      "cell_type": "markdown",
      "metadata": {
        "id": "PtFdhwOPNpZ9"
      },
      "source": [
        "<b>Вопрос: являются ли эти ошибки равнозначными? В каких случаях да, а в каких нет? Приведите примеры</b>"
      ]
    },
    {
      "cell_type": "markdown",
      "metadata": {
        "id": "h6iNzBpJNpZ9"
      },
      "source": [
        "### Другие метрики качества бинарной классификации"
      ]
    },
    {
      "cell_type": "markdown",
      "metadata": {
        "id": "euZdIPXgNpZ-"
      },
      "source": [
        "Раз уж мы разобрались с тем, что ошибки на разных классах имеют разный вес в рамках конкретной прикладной задачи, давайте введем метрики качества отдельно для классов"
      ]
    },
    {
      "cell_type": "markdown",
      "metadata": {
        "id": "utlM6WBONpZ-"
      },
      "source": [
        "![ab_split](pr_rec.png \"PRRecall\")"
      ]
    },
    {
      "cell_type": "markdown",
      "metadata": {
        "id": "wYMlk1fnNpZ-"
      },
      "source": [
        "Precision можно интерпретировать как долю объектов, названных классификатором положительными и при этом действительно являющимися положительными, а recall показывает, какую долю объектов положительного класса из всех объектов положительного класса нашел алгоритм."
      ]
    },
    {
      "cell_type": "markdown",
      "metadata": {
        "id": "Lq2PIs8hNpZ-"
      },
      "source": [
        "![ab_split](pr_rec2.png \"PRRecall2\")"
      ]
    },
    {
      "cell_type": "markdown",
      "metadata": {
        "id": "PXifOZ9qNpZ_"
      },
      "source": [
        "Вернемся к примеру с токсичными сообщениями"
      ]
    },
    {
      "cell_type": "markdown",
      "metadata": {
        "id": "0o095b9eNpZ_"
      },
      "source": [
        "Допустим, мы хотим оценить работу системы, которая определяет токсичность комментариев. У нас есть 1000 обычных комментариев, 900 из которых наш бинарный классификатор определил верно как нормальные (True Negative = 900, False Positive = 100), и 50 токсичных комментариев, 25 из которых классификатор также определил верно (True Positive = 25, False Negative = 25)."
      ]
    },
    {
      "cell_type": "code",
      "metadata": {
        "id": "zNvFRGrGNpaA",
        "outputId": "3ff6c265-ea19-4c76-c705-24a88593ac0a"
      },
      "source": [
        "precision = 25/(25+100)\n",
        "recall = 25/(25+25)\n",
        "print(\"Precision: {}\".format(precision))\n",
        "print(\"Recall: {}\".format(recall))"
      ],
      "execution_count": null,
      "outputs": [
        {
          "name": "stdout",
          "output_type": "stream",
          "text": [
            "Precision: 0.2\n",
            "Recall: 0.5\n"
          ]
        }
      ]
    },
    {
      "cell_type": "markdown",
      "metadata": {
        "id": "f0TQ8eGsNpaA"
      },
      "source": [
        "<b>Вопрос: что мы можем сделать с прогнозами классификатора, чтобы поменять эти значения?</b>"
      ]
    },
    {
      "cell_type": "markdown",
      "metadata": {
        "id": "Ie45c8O0NpaB"
      },
      "source": [
        "<b>Бонусный вопрос: что будет с precision, если порог классификации выбрать равным 0? А с recall?</b>"
      ]
    },
    {
      "cell_type": "markdown",
      "metadata": {
        "id": "jjGaRprWNpaB"
      },
      "source": [
        "<b>Пример</b>"
      ]
    },
    {
      "cell_type": "code",
      "metadata": {
        "id": "RRaSZ8t2NpaB",
        "colab": {
          "base_uri": "https://localhost:8080/",
          "height": 362
        },
        "outputId": "0e8fd4b6-f35f-417f-a46b-02d8121cad58"
      },
      "source": [
        "import pandas as pd\n",
        "\n",
        "df = pd.DataFrame({'y_true': [0,1,1,0,1,0,0,0,0,1], \n",
        "              'y_score': [0.1, 0.98, 0.52, 0.2, 0.41, 0.21, 0.95, 0.14, 0.01, 0.16]})\n",
        "df"
      ],
      "execution_count": 1,
      "outputs": [
        {
          "output_type": "execute_result",
          "data": {
            "text/html": [
              "<div>\n",
              "<style scoped>\n",
              "    .dataframe tbody tr th:only-of-type {\n",
              "        vertical-align: middle;\n",
              "    }\n",
              "\n",
              "    .dataframe tbody tr th {\n",
              "        vertical-align: top;\n",
              "    }\n",
              "\n",
              "    .dataframe thead th {\n",
              "        text-align: right;\n",
              "    }\n",
              "</style>\n",
              "<table border=\"1\" class=\"dataframe\">\n",
              "  <thead>\n",
              "    <tr style=\"text-align: right;\">\n",
              "      <th></th>\n",
              "      <th>y_true</th>\n",
              "      <th>y_score</th>\n",
              "    </tr>\n",
              "  </thead>\n",
              "  <tbody>\n",
              "    <tr>\n",
              "      <th>0</th>\n",
              "      <td>0</td>\n",
              "      <td>0.10</td>\n",
              "    </tr>\n",
              "    <tr>\n",
              "      <th>1</th>\n",
              "      <td>1</td>\n",
              "      <td>0.98</td>\n",
              "    </tr>\n",
              "    <tr>\n",
              "      <th>2</th>\n",
              "      <td>1</td>\n",
              "      <td>0.52</td>\n",
              "    </tr>\n",
              "    <tr>\n",
              "      <th>3</th>\n",
              "      <td>0</td>\n",
              "      <td>0.20</td>\n",
              "    </tr>\n",
              "    <tr>\n",
              "      <th>4</th>\n",
              "      <td>1</td>\n",
              "      <td>0.41</td>\n",
              "    </tr>\n",
              "    <tr>\n",
              "      <th>5</th>\n",
              "      <td>0</td>\n",
              "      <td>0.21</td>\n",
              "    </tr>\n",
              "    <tr>\n",
              "      <th>6</th>\n",
              "      <td>0</td>\n",
              "      <td>0.95</td>\n",
              "    </tr>\n",
              "    <tr>\n",
              "      <th>7</th>\n",
              "      <td>0</td>\n",
              "      <td>0.14</td>\n",
              "    </tr>\n",
              "    <tr>\n",
              "      <th>8</th>\n",
              "      <td>0</td>\n",
              "      <td>0.01</td>\n",
              "    </tr>\n",
              "    <tr>\n",
              "      <th>9</th>\n",
              "      <td>1</td>\n",
              "      <td>0.16</td>\n",
              "    </tr>\n",
              "  </tbody>\n",
              "</table>\n",
              "</div>"
            ],
            "text/plain": [
              "   y_true  y_score\n",
              "0       0     0.10\n",
              "1       1     0.98\n",
              "2       1     0.52\n",
              "3       0     0.20\n",
              "4       1     0.41\n",
              "5       0     0.21\n",
              "6       0     0.95\n",
              "7       0     0.14\n",
              "8       0     0.01\n",
              "9       1     0.16"
            ]
          },
          "metadata": {},
          "execution_count": 1
        }
      ]
    },
    {
      "cell_type": "markdown",
      "metadata": {
        "id": "mRfgVJcINpaC"
      },
      "source": [
        "Отсортируем по y_score"
      ]
    },
    {
      "cell_type": "code",
      "metadata": {
        "id": "Id5_VCD5NpaC",
        "colab": {
          "base_uri": "https://localhost:8080/",
          "height": 362
        },
        "outputId": "39f21123-96f6-4be1-8622-1c7fd56679a2"
      },
      "source": [
        "df = df.sort_values(by='y_score', ascending=False)\n",
        "df"
      ],
      "execution_count": 2,
      "outputs": [
        {
          "output_type": "execute_result",
          "data": {
            "text/html": [
              "<div>\n",
              "<style scoped>\n",
              "    .dataframe tbody tr th:only-of-type {\n",
              "        vertical-align: middle;\n",
              "    }\n",
              "\n",
              "    .dataframe tbody tr th {\n",
              "        vertical-align: top;\n",
              "    }\n",
              "\n",
              "    .dataframe thead th {\n",
              "        text-align: right;\n",
              "    }\n",
              "</style>\n",
              "<table border=\"1\" class=\"dataframe\">\n",
              "  <thead>\n",
              "    <tr style=\"text-align: right;\">\n",
              "      <th></th>\n",
              "      <th>y_true</th>\n",
              "      <th>y_score</th>\n",
              "    </tr>\n",
              "  </thead>\n",
              "  <tbody>\n",
              "    <tr>\n",
              "      <th>1</th>\n",
              "      <td>1</td>\n",
              "      <td>0.98</td>\n",
              "    </tr>\n",
              "    <tr>\n",
              "      <th>6</th>\n",
              "      <td>0</td>\n",
              "      <td>0.95</td>\n",
              "    </tr>\n",
              "    <tr>\n",
              "      <th>2</th>\n",
              "      <td>1</td>\n",
              "      <td>0.52</td>\n",
              "    </tr>\n",
              "    <tr>\n",
              "      <th>4</th>\n",
              "      <td>1</td>\n",
              "      <td>0.41</td>\n",
              "    </tr>\n",
              "    <tr>\n",
              "      <th>5</th>\n",
              "      <td>0</td>\n",
              "      <td>0.21</td>\n",
              "    </tr>\n",
              "    <tr>\n",
              "      <th>3</th>\n",
              "      <td>0</td>\n",
              "      <td>0.20</td>\n",
              "    </tr>\n",
              "    <tr>\n",
              "      <th>9</th>\n",
              "      <td>1</td>\n",
              "      <td>0.16</td>\n",
              "    </tr>\n",
              "    <tr>\n",
              "      <th>7</th>\n",
              "      <td>0</td>\n",
              "      <td>0.14</td>\n",
              "    </tr>\n",
              "    <tr>\n",
              "      <th>0</th>\n",
              "      <td>0</td>\n",
              "      <td>0.10</td>\n",
              "    </tr>\n",
              "    <tr>\n",
              "      <th>8</th>\n",
              "      <td>0</td>\n",
              "      <td>0.01</td>\n",
              "    </tr>\n",
              "  </tbody>\n",
              "</table>\n",
              "</div>"
            ],
            "text/plain": [
              "   y_true  y_score\n",
              "1       1     0.98\n",
              "6       0     0.95\n",
              "2       1     0.52\n",
              "4       1     0.41\n",
              "5       0     0.21\n",
              "3       0     0.20\n",
              "9       1     0.16\n",
              "7       0     0.14\n",
              "0       0     0.10\n",
              "8       0     0.01"
            ]
          },
          "metadata": {},
          "execution_count": 2
        }
      ]
    },
    {
      "cell_type": "markdown",
      "metadata": {
        "id": "OUQgCRDNNpaD"
      },
      "source": [
        "У нас всего 10 объектов, из которых 4 относятся к классу \"1\" и 6 - к классу \"0\""
      ]
    },
    {
      "cell_type": "markdown",
      "metadata": {
        "id": "VZl9eYRWNpaD"
      },
      "source": [
        "Для того, чтобы перейти от \"вероятностей\" (y_score) к меткам, выберем порог. Начнем с 0.5"
      ]
    },
    {
      "cell_type": "code",
      "metadata": {
        "id": "-MWU6apFNpaD",
        "colab": {
          "base_uri": "https://localhost:8080/",
          "height": 362
        },
        "outputId": "c3a2822d-7a1d-44bc-abd1-1f7810baf396"
      },
      "source": [
        "th = 0.5\n",
        "df['y_score_class'] = df['y_score'].apply(lambda x: 1 if x>=th else 0, 1)\n",
        "df"
      ],
      "execution_count": 3,
      "outputs": [
        {
          "output_type": "execute_result",
          "data": {
            "text/html": [
              "<div>\n",
              "<style scoped>\n",
              "    .dataframe tbody tr th:only-of-type {\n",
              "        vertical-align: middle;\n",
              "    }\n",
              "\n",
              "    .dataframe tbody tr th {\n",
              "        vertical-align: top;\n",
              "    }\n",
              "\n",
              "    .dataframe thead th {\n",
              "        text-align: right;\n",
              "    }\n",
              "</style>\n",
              "<table border=\"1\" class=\"dataframe\">\n",
              "  <thead>\n",
              "    <tr style=\"text-align: right;\">\n",
              "      <th></th>\n",
              "      <th>y_true</th>\n",
              "      <th>y_score</th>\n",
              "      <th>y_score_class</th>\n",
              "    </tr>\n",
              "  </thead>\n",
              "  <tbody>\n",
              "    <tr>\n",
              "      <th>1</th>\n",
              "      <td>1</td>\n",
              "      <td>0.98</td>\n",
              "      <td>1</td>\n",
              "    </tr>\n",
              "    <tr>\n",
              "      <th>6</th>\n",
              "      <td>0</td>\n",
              "      <td>0.95</td>\n",
              "      <td>1</td>\n",
              "    </tr>\n",
              "    <tr>\n",
              "      <th>2</th>\n",
              "      <td>1</td>\n",
              "      <td>0.52</td>\n",
              "      <td>1</td>\n",
              "    </tr>\n",
              "    <tr>\n",
              "      <th>4</th>\n",
              "      <td>1</td>\n",
              "      <td>0.41</td>\n",
              "      <td>0</td>\n",
              "    </tr>\n",
              "    <tr>\n",
              "      <th>5</th>\n",
              "      <td>0</td>\n",
              "      <td>0.21</td>\n",
              "      <td>0</td>\n",
              "    </tr>\n",
              "    <tr>\n",
              "      <th>3</th>\n",
              "      <td>0</td>\n",
              "      <td>0.20</td>\n",
              "      <td>0</td>\n",
              "    </tr>\n",
              "    <tr>\n",
              "      <th>9</th>\n",
              "      <td>1</td>\n",
              "      <td>0.16</td>\n",
              "      <td>0</td>\n",
              "    </tr>\n",
              "    <tr>\n",
              "      <th>7</th>\n",
              "      <td>0</td>\n",
              "      <td>0.14</td>\n",
              "      <td>0</td>\n",
              "    </tr>\n",
              "    <tr>\n",
              "      <th>0</th>\n",
              "      <td>0</td>\n",
              "      <td>0.10</td>\n",
              "      <td>0</td>\n",
              "    </tr>\n",
              "    <tr>\n",
              "      <th>8</th>\n",
              "      <td>0</td>\n",
              "      <td>0.01</td>\n",
              "      <td>0</td>\n",
              "    </tr>\n",
              "  </tbody>\n",
              "</table>\n",
              "</div>"
            ],
            "text/plain": [
              "   y_true  y_score  y_score_class\n",
              "1       1     0.98              1\n",
              "6       0     0.95              1\n",
              "2       1     0.52              1\n",
              "4       1     0.41              0\n",
              "5       0     0.21              0\n",
              "3       0     0.20              0\n",
              "9       1     0.16              0\n",
              "7       0     0.14              0\n",
              "0       0     0.10              0\n",
              "8       0     0.01              0"
            ]
          },
          "metadata": {},
          "execution_count": 3
        }
      ]
    },
    {
      "cell_type": "code",
      "metadata": {
        "id": "BezzQTeMNpaE",
        "colab": {
          "base_uri": "https://localhost:8080/"
        },
        "outputId": "b947016c-683f-4ba7-f954-ab17aa046fe3"
      },
      "source": [
        "tp = 2\n",
        "fp = 1\n",
        "tn = 5\n",
        "fn = 2\n",
        "\n",
        "precision = tp/(tp+fp)\n",
        "recall = tp/(tp+fn)\n",
        "print(\"Precision: {}\".format(precision))\n",
        "print(\"Recall: {}\".format(recall))"
      ],
      "execution_count": 5,
      "outputs": [
        {
          "output_type": "stream",
          "name": "stdout",
          "text": [
            "Precision: 0.6666666666666666\n",
            "Recall: 0.5\n"
          ]
        }
      ]
    },
    {
      "cell_type": "markdown",
      "metadata": {
        "id": "W60o58JONpaE"
      },
      "source": [
        "Попробуем другой порог - 0.4"
      ]
    },
    {
      "cell_type": "code",
      "metadata": {
        "id": "soBDY4IlNpaE",
        "colab": {
          "base_uri": "https://localhost:8080/",
          "height": 362
        },
        "outputId": "34bc4336-3e35-4374-d20e-424d64abc915"
      },
      "source": [
        "th = 0.4\n",
        "df['y_score_class'] = df['y_score'].apply(lambda x: 1 if x>=th else 0, 1)\n",
        "df"
      ],
      "execution_count": 6,
      "outputs": [
        {
          "output_type": "execute_result",
          "data": {
            "text/html": [
              "<div>\n",
              "<style scoped>\n",
              "    .dataframe tbody tr th:only-of-type {\n",
              "        vertical-align: middle;\n",
              "    }\n",
              "\n",
              "    .dataframe tbody tr th {\n",
              "        vertical-align: top;\n",
              "    }\n",
              "\n",
              "    .dataframe thead th {\n",
              "        text-align: right;\n",
              "    }\n",
              "</style>\n",
              "<table border=\"1\" class=\"dataframe\">\n",
              "  <thead>\n",
              "    <tr style=\"text-align: right;\">\n",
              "      <th></th>\n",
              "      <th>y_true</th>\n",
              "      <th>y_score</th>\n",
              "      <th>y_score_class</th>\n",
              "    </tr>\n",
              "  </thead>\n",
              "  <tbody>\n",
              "    <tr>\n",
              "      <th>1</th>\n",
              "      <td>1</td>\n",
              "      <td>0.98</td>\n",
              "      <td>1</td>\n",
              "    </tr>\n",
              "    <tr>\n",
              "      <th>6</th>\n",
              "      <td>0</td>\n",
              "      <td>0.95</td>\n",
              "      <td>1</td>\n",
              "    </tr>\n",
              "    <tr>\n",
              "      <th>2</th>\n",
              "      <td>1</td>\n",
              "      <td>0.52</td>\n",
              "      <td>1</td>\n",
              "    </tr>\n",
              "    <tr>\n",
              "      <th>4</th>\n",
              "      <td>1</td>\n",
              "      <td>0.41</td>\n",
              "      <td>1</td>\n",
              "    </tr>\n",
              "    <tr>\n",
              "      <th>5</th>\n",
              "      <td>0</td>\n",
              "      <td>0.21</td>\n",
              "      <td>0</td>\n",
              "    </tr>\n",
              "    <tr>\n",
              "      <th>3</th>\n",
              "      <td>0</td>\n",
              "      <td>0.20</td>\n",
              "      <td>0</td>\n",
              "    </tr>\n",
              "    <tr>\n",
              "      <th>9</th>\n",
              "      <td>1</td>\n",
              "      <td>0.16</td>\n",
              "      <td>0</td>\n",
              "    </tr>\n",
              "    <tr>\n",
              "      <th>7</th>\n",
              "      <td>0</td>\n",
              "      <td>0.14</td>\n",
              "      <td>0</td>\n",
              "    </tr>\n",
              "    <tr>\n",
              "      <th>0</th>\n",
              "      <td>0</td>\n",
              "      <td>0.10</td>\n",
              "      <td>0</td>\n",
              "    </tr>\n",
              "    <tr>\n",
              "      <th>8</th>\n",
              "      <td>0</td>\n",
              "      <td>0.01</td>\n",
              "      <td>0</td>\n",
              "    </tr>\n",
              "  </tbody>\n",
              "</table>\n",
              "</div>"
            ],
            "text/plain": [
              "   y_true  y_score  y_score_class\n",
              "1       1     0.98              1\n",
              "6       0     0.95              1\n",
              "2       1     0.52              1\n",
              "4       1     0.41              1\n",
              "5       0     0.21              0\n",
              "3       0     0.20              0\n",
              "9       1     0.16              0\n",
              "7       0     0.14              0\n",
              "0       0     0.10              0\n",
              "8       0     0.01              0"
            ]
          },
          "metadata": {},
          "execution_count": 6
        }
      ]
    },
    {
      "cell_type": "code",
      "metadata": {
        "id": "c42-8e-7NpaF",
        "colab": {
          "base_uri": "https://localhost:8080/"
        },
        "outputId": "f782eaa8-0092-4a75-fbb5-ea5e436e1ff2"
      },
      "source": [
        "tp = 3\n",
        "fp = 1\n",
        "tn = 5\n",
        "fn = 1\n",
        "\n",
        "precision = tp/(tp+fp)\n",
        "recall = tp/(tp+fn)\n",
        "print(\"Precision: {}\".format(precision))\n",
        "print(\"Recall: {}\".format(recall))"
      ],
      "execution_count": 7,
      "outputs": [
        {
          "output_type": "stream",
          "name": "stdout",
          "text": [
            "Precision: 0.75\n",
            "Recall: 0.75\n"
          ]
        }
      ]
    },
    {
      "cell_type": "markdown",
      "metadata": {
        "id": "Wzk3YwpQNpaG"
      },
      "source": [
        "А что если понизить порог до 0.15"
      ]
    },
    {
      "cell_type": "code",
      "metadata": {
        "id": "1cQ6ZbW_NpaG",
        "colab": {
          "base_uri": "https://localhost:8080/",
          "height": 362
        },
        "outputId": "5271b3ee-fea9-483e-c4f0-582173a121a8"
      },
      "source": [
        "th = 0.15\n",
        "df['y_score_class'] = df['y_score'].apply(lambda x: 1 if x>=th else 0, 1)\n",
        "df"
      ],
      "execution_count": 8,
      "outputs": [
        {
          "output_type": "execute_result",
          "data": {
            "text/html": [
              "<div>\n",
              "<style scoped>\n",
              "    .dataframe tbody tr th:only-of-type {\n",
              "        vertical-align: middle;\n",
              "    }\n",
              "\n",
              "    .dataframe tbody tr th {\n",
              "        vertical-align: top;\n",
              "    }\n",
              "\n",
              "    .dataframe thead th {\n",
              "        text-align: right;\n",
              "    }\n",
              "</style>\n",
              "<table border=\"1\" class=\"dataframe\">\n",
              "  <thead>\n",
              "    <tr style=\"text-align: right;\">\n",
              "      <th></th>\n",
              "      <th>y_true</th>\n",
              "      <th>y_score</th>\n",
              "      <th>y_score_class</th>\n",
              "    </tr>\n",
              "  </thead>\n",
              "  <tbody>\n",
              "    <tr>\n",
              "      <th>1</th>\n",
              "      <td>1</td>\n",
              "      <td>0.98</td>\n",
              "      <td>1</td>\n",
              "    </tr>\n",
              "    <tr>\n",
              "      <th>6</th>\n",
              "      <td>0</td>\n",
              "      <td>0.95</td>\n",
              "      <td>1</td>\n",
              "    </tr>\n",
              "    <tr>\n",
              "      <th>2</th>\n",
              "      <td>1</td>\n",
              "      <td>0.52</td>\n",
              "      <td>1</td>\n",
              "    </tr>\n",
              "    <tr>\n",
              "      <th>4</th>\n",
              "      <td>1</td>\n",
              "      <td>0.41</td>\n",
              "      <td>1</td>\n",
              "    </tr>\n",
              "    <tr>\n",
              "      <th>5</th>\n",
              "      <td>0</td>\n",
              "      <td>0.21</td>\n",
              "      <td>1</td>\n",
              "    </tr>\n",
              "    <tr>\n",
              "      <th>3</th>\n",
              "      <td>0</td>\n",
              "      <td>0.20</td>\n",
              "      <td>1</td>\n",
              "    </tr>\n",
              "    <tr>\n",
              "      <th>9</th>\n",
              "      <td>1</td>\n",
              "      <td>0.16</td>\n",
              "      <td>1</td>\n",
              "    </tr>\n",
              "    <tr>\n",
              "      <th>7</th>\n",
              "      <td>0</td>\n",
              "      <td>0.14</td>\n",
              "      <td>0</td>\n",
              "    </tr>\n",
              "    <tr>\n",
              "      <th>0</th>\n",
              "      <td>0</td>\n",
              "      <td>0.10</td>\n",
              "      <td>0</td>\n",
              "    </tr>\n",
              "    <tr>\n",
              "      <th>8</th>\n",
              "      <td>0</td>\n",
              "      <td>0.01</td>\n",
              "      <td>0</td>\n",
              "    </tr>\n",
              "  </tbody>\n",
              "</table>\n",
              "</div>"
            ],
            "text/plain": [
              "   y_true  y_score  y_score_class\n",
              "1       1     0.98              1\n",
              "6       0     0.95              1\n",
              "2       1     0.52              1\n",
              "4       1     0.41              1\n",
              "5       0     0.21              1\n",
              "3       0     0.20              1\n",
              "9       1     0.16              1\n",
              "7       0     0.14              0\n",
              "0       0     0.10              0\n",
              "8       0     0.01              0"
            ]
          },
          "metadata": {},
          "execution_count": 8
        }
      ]
    },
    {
      "cell_type": "code",
      "metadata": {
        "id": "HDppd8nJNpaG",
        "colab": {
          "base_uri": "https://localhost:8080/"
        },
        "outputId": "f45446df-72ce-4dad-8fa2-ae22388ce2ab"
      },
      "source": [
        "tp = 4\n",
        "fp = 3\n",
        "tn = 3\n",
        "fn = 0\n",
        "\n",
        "precision = tp/(tp+fp)\n",
        "recall = tp/(tp+fn)\n",
        "print(\"Precision: {}\".format(precision))\n",
        "print(\"Recall: {}\".format(recall))"
      ],
      "execution_count": 9,
      "outputs": [
        {
          "output_type": "stream",
          "name": "stdout",
          "text": [
            "Precision: 0.5714285714285714\n",
            "Recall: 1.0\n"
          ]
        }
      ]
    },
    {
      "cell_type": "markdown",
      "metadata": {
        "id": "A8XmQExwNpaH"
      },
      "source": [
        "### Переходим к f-score"
      ]
    },
    {
      "cell_type": "markdown",
      "metadata": {
        "id": "HssIFjguNpaH"
      },
      "source": [
        "Существует несколько различных способов объединить precision и recall в агрегированный критерий качества. \n",
        "\n",
        "F-score — среднее гармоническое precision и recall (обычно):"
      ]
    },
    {
      "cell_type": "markdown",
      "metadata": {
        "id": "Ae6FQ9gPNpaH"
      },
      "source": [
        "![ab_split](f_score1.png \"F-score\")"
      ]
    },
    {
      "cell_type": "markdown",
      "metadata": {
        "id": "39vxnnGaNpaH"
      },
      "source": [
        "F-score достигает максимума при полноте и точности, равными единице, и близка к нулю, если один из аргументов близок к нулю."
      ]
    },
    {
      "cell_type": "code",
      "metadata": {
        "id": "atAGDu8wNpaI",
        "colab": {
          "base_uri": "https://localhost:8080/"
        },
        "outputId": "02ac4d04-6315-44f4-f6f1-fdf5385eeaa5"
      },
      "source": [
        "import numpy as np\n",
        "from sklearn.metrics import precision_recall_curve, roc_curve, roc_auc_score\n",
        "\n",
        "precision, recall, thresholds = precision_recall_curve(df['y_true'], df['y_score'])\n",
        "fscore = (2 * precision * recall) / (precision + recall)\n",
        "# locate the index of the largest f score\n",
        "ix = np.argmax(fscore)\n",
        "print('Best Threshold=%f, F-Score=%.3f, Precision=%.3f, Recall=%.3f' % (thresholds[ix], \n",
        "                                                                        fscore[ix],\n",
        "                                                                        precision[ix],\n",
        "                                                                        recall[ix]))"
      ],
      "execution_count": 10,
      "outputs": [
        {
          "output_type": "stream",
          "name": "stdout",
          "text": [
            "Best Threshold=0.410000, F-Score=0.750, Precision=0.750, Recall=0.750\n"
          ]
        }
      ]
    },
    {
      "cell_type": "markdown",
      "metadata": {
        "id": "ksJ-rotANpaI"
      },
      "source": [
        "В sklearn много всего удобного уже есть, чем можно пользоваться, не изобретая велосипед"
      ]
    },
    {
      "cell_type": "markdown",
      "metadata": {
        "id": "JMYjVrNTNpaI"
      },
      "source": [
        "### Метрики качества, для которых не нужно подбирать порог"
      ]
    },
    {
      "cell_type": "markdown",
      "metadata": {
        "id": "-Aw_vSISNpaI"
      },
      "source": [
        "### ROC AUC"
      ]
    },
    {
      "cell_type": "markdown",
      "metadata": {
        "id": "vOkNkagdNpaJ"
      },
      "source": [
        "![ab_split](tpr_fpr.png \"roc auc1\")"
      ]
    },
    {
      "cell_type": "code",
      "metadata": {
        "id": "P2oLMV8bNpaJ",
        "colab": {
          "base_uri": "https://localhost:8080/",
          "height": 535
        },
        "outputId": "5a6e5c8c-2ade-4b64-dab4-34959f8642e7"
      },
      "source": [
        "import seaborn as sns\n",
        "import matplotlib.pyplot as plt\n",
        "\n",
        "%matplotlib inline\n",
        "sns.set(font_scale=1.5)\n",
        "sns.set_color_codes(\"muted\")\n",
        "\n",
        "plt.figure(figsize=(10, 8))\n",
        "fpr, tpr, thresholds = roc_curve(df['y_true'], df['y_score'], pos_label=1)\n",
        "lw = 2\n",
        "plt.plot(fpr, tpr, lw=lw, label='ROC curve ')\n",
        "plt.plot([0, 1], [0, 1])\n",
        "plt.xlim([0.0, 1.0])\n",
        "plt.ylim([0.0, 1.05])\n",
        "plt.xlabel('False Positive Rate')\n",
        "plt.ylabel('True Positive Rate')\n",
        "plt.title('ROC curve')\n",
        "plt.savefig(\"ROC.png\")\n",
        "plt.show()"
      ],
      "execution_count": 12,
      "outputs": [
        {
          "output_type": "display_data",
          "data": {
            "image/png": "[encoded data removed]",
            "text/plain": [
              "<Figure size 720x576 with 1 Axes>"
            ]
          },
          "metadata": {}
        }
      ]
    },
    {
      "cell_type": "code",
      "metadata": {
        "id": "ZE5iq61INpaJ",
        "colab": {
          "base_uri": "https://localhost:8080/",
          "height": 362
        },
        "outputId": "7378a23e-c3b2-4ea5-874e-f6fd85fec4dc"
      },
      "source": [
        "df"
      ],
      "execution_count": 13,
      "outputs": [
        {
          "output_type": "execute_result",
          "data": {
            "text/html": [
              "<div>\n",
              "<style scoped>\n",
              "    .dataframe tbody tr th:only-of-type {\n",
              "        vertical-align: middle;\n",
              "    }\n",
              "\n",
              "    .dataframe tbody tr th {\n",
              "        vertical-align: top;\n",
              "    }\n",
              "\n",
              "    .dataframe thead th {\n",
              "        text-align: right;\n",
              "    }\n",
              "</style>\n",
              "<table border=\"1\" class=\"dataframe\">\n",
              "  <thead>\n",
              "    <tr style=\"text-align: right;\">\n",
              "      <th></th>\n",
              "      <th>y_true</th>\n",
              "      <th>y_score</th>\n",
              "      <th>y_score_class</th>\n",
              "    </tr>\n",
              "  </thead>\n",
              "  <tbody>\n",
              "    <tr>\n",
              "      <th>1</th>\n",
              "      <td>1</td>\n",
              "      <td>0.98</td>\n",
              "      <td>1</td>\n",
              "    </tr>\n",
              "    <tr>\n",
              "      <th>6</th>\n",
              "      <td>0</td>\n",
              "      <td>0.95</td>\n",
              "      <td>1</td>\n",
              "    </tr>\n",
              "    <tr>\n",
              "      <th>2</th>\n",
              "      <td>1</td>\n",
              "      <td>0.52</td>\n",
              "      <td>1</td>\n",
              "    </tr>\n",
              "    <tr>\n",
              "      <th>4</th>\n",
              "      <td>1</td>\n",
              "      <td>0.41</td>\n",
              "      <td>1</td>\n",
              "    </tr>\n",
              "    <tr>\n",
              "      <th>5</th>\n",
              "      <td>0</td>\n",
              "      <td>0.21</td>\n",
              "      <td>1</td>\n",
              "    </tr>\n",
              "    <tr>\n",
              "      <th>3</th>\n",
              "      <td>0</td>\n",
              "      <td>0.20</td>\n",
              "      <td>1</td>\n",
              "    </tr>\n",
              "    <tr>\n",
              "      <th>9</th>\n",
              "      <td>1</td>\n",
              "      <td>0.16</td>\n",
              "      <td>1</td>\n",
              "    </tr>\n",
              "    <tr>\n",
              "      <th>7</th>\n",
              "      <td>0</td>\n",
              "      <td>0.14</td>\n",
              "      <td>0</td>\n",
              "    </tr>\n",
              "    <tr>\n",
              "      <th>0</th>\n",
              "      <td>0</td>\n",
              "      <td>0.10</td>\n",
              "      <td>0</td>\n",
              "    </tr>\n",
              "    <tr>\n",
              "      <th>8</th>\n",
              "      <td>0</td>\n",
              "      <td>0.01</td>\n",
              "      <td>0</td>\n",
              "    </tr>\n",
              "  </tbody>\n",
              "</table>\n",
              "</div>"
            ],
            "text/plain": [
              "   y_true  y_score  y_score_class\n",
              "1       1     0.98              1\n",
              "6       0     0.95              1\n",
              "2       1     0.52              1\n",
              "4       1     0.41              1\n",
              "5       0     0.21              1\n",
              "3       0     0.20              1\n",
              "9       1     0.16              1\n",
              "7       0     0.14              0\n",
              "0       0     0.10              0\n",
              "8       0     0.01              0"
            ]
          },
          "metadata": {},
          "execution_count": 13
        }
      ]
    },
    {
      "cell_type": "code",
      "metadata": {
        "id": "VdvPdrR9NpaK",
        "colab": {
          "base_uri": "https://localhost:8080/"
        },
        "outputId": "2507db10-1233-40c5-cc71-23800b2ad3a9"
      },
      "source": [
        "roc_auc_score(df['y_true'], df['y_score'])"
      ],
      "execution_count": 14,
      "outputs": [
        {
          "output_type": "execute_result",
          "data": {
            "text/plain": [
              "0.7916666666666667"
            ]
          },
          "metadata": {},
          "execution_count": 14
        }
      ]
    },
    {
      "cell_type": "markdown",
      "metadata": {
        "id": "-IwgKid-NpaK"
      },
      "source": [
        "<b>Вопрос: какой roc auc у случайного классификатора?</b>"
      ]
    },
    {
      "cell_type": "code",
      "metadata": {
        "id": "5ja4IBBdNpaK",
        "colab": {
          "base_uri": "https://localhost:8080/"
        },
        "outputId": "b3d715fd-6bdf-43f5-d4d9-b728a71d1c78"
      },
      "source": [
        "roc_auc_score(df.sample(frac=1)['y_true'], df.sample(frac=1)['y_score'])"
      ],
      "execution_count": 15,
      "outputs": [
        {
          "output_type": "execute_result",
          "data": {
            "text/plain": [
              "0.7916666666666667"
            ]
          },
          "metadata": {},
          "execution_count": 15
        }
      ]
    },
    {
      "cell_type": "markdown",
      "metadata": {
        "id": "t6_Xn9-vNpaL"
      },
      "source": [
        "<b>Вопрос: что делать, если roc auc меньше 0.5?</b>"
      ]
    },
    {
      "cell_type": "markdown",
      "metadata": {
        "id": "Lo6GKMgRNpaL"
      },
      "source": [
        "Выглядит она не очень, но это только из-за того, что у нас мало данных"
      ]
    },
    {
      "cell_type": "markdown",
      "metadata": {
        "id": "2P4fovifNpaL"
      },
      "source": [
        "Как вообще строится этот график?"
      ]
    },
    {
      "cell_type": "code",
      "metadata": {
        "id": "vg6iLfo1NpaL",
        "colab": {
          "base_uri": "https://localhost:8080/",
          "height": 362
        },
        "outputId": "3a500d52-abd8-4335-8007-1da3bf895c21"
      },
      "source": [
        "df[['y_true', 'y_score']]"
      ],
      "execution_count": 16,
      "outputs": [
        {
          "output_type": "execute_result",
          "data": {
            "text/html": [
              "<div>\n",
              "<style scoped>\n",
              "    .dataframe tbody tr th:only-of-type {\n",
              "        vertical-align: middle;\n",
              "    }\n",
              "\n",
              "    .dataframe tbody tr th {\n",
              "        vertical-align: top;\n",
              "    }\n",
              "\n",
              "    .dataframe thead th {\n",
              "        text-align: right;\n",
              "    }\n",
              "</style>\n",
              "<table border=\"1\" class=\"dataframe\">\n",
              "  <thead>\n",
              "    <tr style=\"text-align: right;\">\n",
              "      <th></th>\n",
              "      <th>y_true</th>\n",
              "      <th>y_score</th>\n",
              "    </tr>\n",
              "  </thead>\n",
              "  <tbody>\n",
              "    <tr>\n",
              "      <th>1</th>\n",
              "      <td>1</td>\n",
              "      <td>0.98</td>\n",
              "    </tr>\n",
              "    <tr>\n",
              "      <th>6</th>\n",
              "      <td>0</td>\n",
              "      <td>0.95</td>\n",
              "    </tr>\n",
              "    <tr>\n",
              "      <th>2</th>\n",
              "      <td>1</td>\n",
              "      <td>0.52</td>\n",
              "    </tr>\n",
              "    <tr>\n",
              "      <th>4</th>\n",
              "      <td>1</td>\n",
              "      <td>0.41</td>\n",
              "    </tr>\n",
              "    <tr>\n",
              "      <th>5</th>\n",
              "      <td>0</td>\n",
              "      <td>0.21</td>\n",
              "    </tr>\n",
              "    <tr>\n",
              "      <th>3</th>\n",
              "      <td>0</td>\n",
              "      <td>0.20</td>\n",
              "    </tr>\n",
              "    <tr>\n",
              "      <th>9</th>\n",
              "      <td>1</td>\n",
              "      <td>0.16</td>\n",
              "    </tr>\n",
              "    <tr>\n",
              "      <th>7</th>\n",
              "      <td>0</td>\n",
              "      <td>0.14</td>\n",
              "    </tr>\n",
              "    <tr>\n",
              "      <th>0</th>\n",
              "      <td>0</td>\n",
              "      <td>0.10</td>\n",
              "    </tr>\n",
              "    <tr>\n",
              "      <th>8</th>\n",
              "      <td>0</td>\n",
              "      <td>0.01</td>\n",
              "    </tr>\n",
              "  </tbody>\n",
              "</table>\n",
              "</div>"
            ],
            "text/plain": [
              "   y_true  y_score\n",
              "1       1     0.98\n",
              "6       0     0.95\n",
              "2       1     0.52\n",
              "4       1     0.41\n",
              "5       0     0.21\n",
              "3       0     0.20\n",
              "9       1     0.16\n",
              "7       0     0.14\n",
              "0       0     0.10\n",
              "8       0     0.01"
            ]
          },
          "metadata": {},
          "execution_count": 16
        }
      ]
    },
    {
      "cell_type": "markdown",
      "metadata": {
        "id": "I0AeWozINpaM"
      },
      "source": [
        "Чем хороша данная метрика?"
      ]
    },
    {
      "cell_type": "markdown",
      "metadata": {
        "id": "p0FojltxNpaM"
      },
      "source": [
        "1. часто используют для оценивания качества упорядочивания алгоритмом объектов двух классов\n",
        "2. показывает долю правильно упорядоченных пар\n",
        "3. может быть интерпретирован как вероятность того, что случайно выбранный positive объект будет проранжирован классификатором выше (будет иметь более высокую вероятность быть positive), чем случайно выбранный negative объект"
      ]
    },
    {
      "cell_type": "code",
      "metadata": {
        "id": "xDphHvjWNpaM"
      },
      "source": [
        ""
      ],
      "execution_count": null,
      "outputs": []
    },
    {
      "cell_type": "markdown",
      "metadata": {
        "id": "6NflF4q6NpaN"
      },
      "source": [
        "### Кейс 1 - фильтрация токсичных комментариев"
      ]
    },
    {
      "cell_type": "markdown",
      "metadata": {
        "id": "4MuXFpgdNpaN"
      },
      "source": [
        "Есть сервис, где люди могут оставлять комментарии\n",
        "\n",
        "При этом часть комментариев является токсичной, т.е содержит расистские, сексистские и тому подобные вещи.\n",
        "\n",
        "Над проверкой сообщений работают модераторы и мы хотим уменьшить на них нагрузку с помощью ML."
      ]
    },
    {
      "cell_type": "markdown",
      "metadata": {
        "id": "S-2Jecg8NpaO"
      },
      "source": [
        "Вспомним первое занятие и сформулируем гипотезу"
      ]
    },
    {
      "cell_type": "markdown",
      "metadata": {
        "id": "p2MZ7cRtNpaO"
      },
      "source": [
        "#### Гипотеза 1.\n",
        "Мы предполагаем, что автоматическая фильтрация токсичных комментариев снизит нагрузку на модераторов и повысит их пропускную способность на 10%, при этом доля FP не превысит 10%"
      ]
    },
    {
      "cell_type": "markdown",
      "metadata": {
        "id": "pSU7En9xNpaO"
      },
      "source": [
        "![ab_split](diag1.jpg \"diag1\")"
      ]
    },
    {
      "cell_type": "code",
      "metadata": {
        "colab": {
          "base_uri": "https://localhost:8080/"
        },
        "id": "mZP5Hbq6LtoT",
        "outputId": "2b4185ac-b757-4b0e-da98-cc628a7ebb78"
      },
      "source": [
        "from google.colab import drive\n",
        "drive.mount('/gdrive')\n",
        "%cd /gdrive"
      ],
      "execution_count": 18,
      "outputs": [
        {
          "output_type": "stream",
          "name": "stdout",
          "text": [
            "Mounted at /gdrive\n",
            "/gdrive\n"
          ]
        }
      ]
    },
    {
      "cell_type": "code",
      "metadata": {
        "colab": {
          "base_uri": "https://localhost:8080/",
          "height": 36
        },
        "id": "y8JClwWYLvuJ",
        "outputId": "0b0dbf9e-dd79-4cec-e160-e034edd16abd"
      },
      "source": [
        "DATA_PATH = \"/gdrive/My Drive/Ml_In_Business/lection3_materials/\"\n",
        "DATA_PATH"
      ],
      "execution_count": 19,
      "outputs": [
        {
          "output_type": "execute_result",
          "data": {
            "application/vnd.google.colaboratory.intrinsic+json": {
              "type": "string"
            },
            "text/plain": [
              "'/gdrive/My Drive/Ml_In_Business/lection3_materials/'"
            ]
          },
          "metadata": {},
          "execution_count": 19
        }
      ]
    },
    {
      "cell_type": "code",
      "metadata": {
        "id": "SyMq8SLTNpaO",
        "colab": {
          "base_uri": "https://localhost:8080/",
          "height": 143
        },
        "outputId": "90c6df12-5e73-4068-e9af-15475a7da7c5"
      },
      "source": [
        "import numpy as np\n",
        "import pandas as pd\n",
        "\n",
        "from sklearn.feature_extraction.text import TfidfVectorizer\n",
        "from sklearn.linear_model import LogisticRegression\n",
        "from sklearn.model_selection import cross_val_score, train_test_split\n",
        "from scipy.sparse import hstack\n",
        "from sklearn.pipeline import Pipeline, make_pipeline\n",
        "from sklearn.base import BaseEstimator, TransformerMixin\n",
        "\n",
        "class_names = ['toxic', 'severe_toxic', 'obscene', 'threat', 'insult', 'identity_hate']\n",
        "\n",
        "train = pd.read_csv(f'{DATA_PATH}train.csv').fillna(' ').sample(frac=1)\n",
        "train.head(3)"
      ],
      "execution_count": 20,
      "outputs": [
        {
          "output_type": "execute_result",
          "data": {
            "text/html": [
              "<div>\n",
              "<style scoped>\n",
              "    .dataframe tbody tr th:only-of-type {\n",
              "        vertical-align: middle;\n",
              "    }\n",
              "\n",
              "    .dataframe tbody tr th {\n",
              "        vertical-align: top;\n",
              "    }\n",
              "\n",
              "    .dataframe thead th {\n",
              "        text-align: right;\n",
              "    }\n",
              "</style>\n",
              "<table border=\"1\" class=\"dataframe\">\n",
              "  <thead>\n",
              "    <tr style=\"text-align: right;\">\n",
              "      <th></th>\n",
              "      <th>id</th>\n",
              "      <th>comment_text</th>\n",
              "      <th>toxic</th>\n",
              "      <th>severe_toxic</th>\n",
              "      <th>obscene</th>\n",
              "      <th>threat</th>\n",
              "      <th>insult</th>\n",
              "      <th>identity_hate</th>\n",
              "    </tr>\n",
              "  </thead>\n",
              "  <tbody>\n",
              "    <tr>\n",
              "      <th>137729</th>\n",
              "      <td>e10350fd7cfc1c13</td>\n",
              "      <td>\"\\n\\n NPOV? \\n\\nYou wrote me a message, saying...</td>\n",
              "      <td>0</td>\n",
              "      <td>0</td>\n",
              "      <td>0</td>\n",
              "      <td>0</td>\n",
              "      <td>0</td>\n",
              "      <td>0</td>\n",
              "    </tr>\n",
              "    <tr>\n",
              "      <th>18567</th>\n",
              "      <td>30fdd81f1d00e28a</td>\n",
              "      <td>Hello and welcome to Wikipedia! Hope you like ...</td>\n",
              "      <td>0</td>\n",
              "      <td>0</td>\n",
              "      <td>0</td>\n",
              "      <td>0</td>\n",
              "      <td>0</td>\n",
              "      <td>0</td>\n",
              "    </tr>\n",
              "    <tr>\n",
              "      <th>65885</th>\n",
              "      <td>b02b3584b19f737a</td>\n",
              "      <td>\"\\n\\n\\n\\n\\n\\n\\n [Headline text]#REDIRECT Itali...</td>\n",
              "      <td>0</td>\n",
              "      <td>0</td>\n",
              "      <td>0</td>\n",
              "      <td>0</td>\n",
              "      <td>0</td>\n",
              "      <td>0</td>\n",
              "    </tr>\n",
              "  </tbody>\n",
              "</table>\n",
              "</div>"
            ],
            "text/plain": [
              "                      id  ... identity_hate\n",
              "137729  e10350fd7cfc1c13  ...             0\n",
              "18567   30fdd81f1d00e28a  ...             0\n",
              "65885   b02b3584b19f737a  ...             0\n",
              "\n",
              "[3 rows x 8 columns]"
            ]
          },
          "metadata": {},
          "execution_count": 20
        }
      ]
    },
    {
      "cell_type": "markdown",
      "metadata": {
        "id": "OP2bvXfBNpaO"
      },
      "source": [
        "Здесь много разных вариантов, но мы сведем все к бинарному классу - toxic/nontoxic"
      ]
    },
    {
      "cell_type": "code",
      "metadata": {
        "id": "d10XHq_zNpaP",
        "colab": {
          "base_uri": "https://localhost:8080/"
        },
        "outputId": "3a35d53d-ff4a-4d3e-a4ae-1c708465ddce"
      },
      "source": [
        "train['y'] = train[class_names].max(axis=1).values\n",
        "train['y'].value_counts()"
      ],
      "execution_count": 21,
      "outputs": [
        {
          "output_type": "execute_result",
          "data": {
            "text/plain": [
              "0    143346\n",
              "1     16225\n",
              "Name: y, dtype: int64"
            ]
          },
          "metadata": {},
          "execution_count": 21
        }
      ]
    },
    {
      "cell_type": "markdown",
      "metadata": {
        "id": "boEisJrFNpaP"
      },
      "source": [
        "Сделаем тренировочную и тестовую выборки"
      ]
    },
    {
      "cell_type": "code",
      "metadata": {
        "id": "NiGnHirBNpaP"
      },
      "source": [
        "#разделим данные на train/test\n",
        "X_train, X_test, y_train, y_test = train_test_split(train.drop('y', 1), \n",
        "                                                    train['y'], random_state=0)"
      ],
      "execution_count": 22,
      "outputs": []
    },
    {
      "cell_type": "markdown",
      "metadata": {
        "id": "6AHO1d7PNpaP"
      },
      "source": [
        "Посмотрим на распределение классов в выборках"
      ]
    },
    {
      "cell_type": "code",
      "metadata": {
        "id": "PeiKWd85NpaP",
        "colab": {
          "base_uri": "https://localhost:8080/"
        },
        "outputId": "797749fe-197f-4d33-ecd1-28f129e96af7"
      },
      "source": [
        "y_train.value_counts(normalize=True)"
      ],
      "execution_count": 23,
      "outputs": [
        {
          "output_type": "execute_result",
          "data": {
            "text/plain": [
              "0    0.898143\n",
              "1    0.101857\n",
              "Name: y, dtype: float64"
            ]
          },
          "metadata": {},
          "execution_count": 23
        }
      ]
    },
    {
      "cell_type": "code",
      "metadata": {
        "id": "X8xh3bPYNpaQ",
        "colab": {
          "base_uri": "https://localhost:8080/"
        },
        "outputId": "3ce7edbc-f468-4b53-a4e6-fd25ae8cdd38"
      },
      "source": [
        "y_test.value_counts(normalize=True)"
      ],
      "execution_count": 24,
      "outputs": [
        {
          "output_type": "execute_result",
          "data": {
            "text/plain": [
              "0    0.898854\n",
              "1    0.101146\n",
              "Name: y, dtype: float64"
            ]
          },
          "metadata": {},
          "execution_count": 24
        }
      ]
    },
    {
      "cell_type": "markdown",
      "metadata": {
        "id": "u6z8bn9jNpaR"
      },
      "source": [
        "Построим простое векторное представление текстов и обучим логистическую регрессию"
      ]
    },
    {
      "cell_type": "code",
      "metadata": {
        "id": "NSp8gImjNpaR",
        "colab": {
          "base_uri": "https://localhost:8080/"
        },
        "outputId": "5b4a02c6-e5e4-44c5-8f47-012bf62fcd94"
      },
      "source": [
        "#соберем наш простой pipeline, но нам понадобится написать класс для выбора нужного поля\n",
        "class FeatureSelector(BaseEstimator, TransformerMixin):\n",
        "    def __init__(self, column):\n",
        "        self.column = column\n",
        "\n",
        "    def fit(self, X, y=None):\n",
        "        return self\n",
        "\n",
        "    def transform(self, X, y=None):\n",
        "        return X[self.column]\n",
        "\n",
        "classifier = Pipeline([('comment_text_selector', FeatureSelector(column='comment_text')), \n",
        "                     ('comment_text_tfidf', TfidfVectorizer(sublinear_tf=True,\n",
        "                                                            strip_accents='unicode',\n",
        "                                                            analyzer='word',\n",
        "                                                            token_pattern=r'\\w{1,}',\n",
        "                                                            stop_words='english',\n",
        "                                                            ngram_range=(1, 1),\n",
        "                                                            max_features=10000)), \n",
        "                     ('clf', LogisticRegression(C=0.1, solver='sag'))])\n",
        "\n",
        "#запустим кросс-валидацию\n",
        "cv_scores = cross_val_score(classifier, X_train, y_train, cv=3, scoring='roc_auc')\n",
        "cv_score = np.mean(cv_scores)\n",
        "print('CV score is {}'.format(cv_score))\n",
        "\n",
        "#обучим пайплайн на всем тренировочном датасете\n",
        "classifier.fit(X_train, y_train)\n",
        "y_score = classifier.predict_proba(X_test)[:, 1]"
      ],
      "execution_count": 25,
      "outputs": [
        {
          "output_type": "stream",
          "name": "stdout",
          "text": [
            "CV score is 0.9566436924928142\n"
          ]
        }
      ]
    },
    {
      "cell_type": "markdown",
      "metadata": {
        "id": "V9k5OVJfNpbL"
      },
      "source": [
        "Воспользуемся доступным в sklearn инструментарием, чтобы получить оптимальный порог"
      ]
    },
    {
      "cell_type": "code",
      "metadata": {
        "id": "3CZTg1XSNpbL",
        "colab": {
          "base_uri": "https://localhost:8080/"
        },
        "outputId": "717df537-742e-46e1-f399-cf7cca252cfe"
      },
      "source": [
        "import numpy as np\n",
        "from sklearn.metrics import precision_recall_curve, roc_curve, roc_auc_score, confusion_matrix\n",
        "\n",
        "b=2.55\n",
        "\n",
        "precision, recall, thresholds = precision_recall_curve(y_test.values, y_score)\n",
        "fscore = (1+b**2)*(precision * recall) / (b**2*precision + recall)\n",
        "# locate the index of the largest f score\n",
        "ix = np.argmax(fscore)\n",
        "print('Best Threshold=%f, F-Score=%.3f, Precision=%.3f, Recall=%.3f' % (thresholds[ix], \n",
        "                                                                        fscore[ix],\n",
        "                                                                        precision[ix],\n",
        "                                                                        recall[ix]))"
      ],
      "execution_count": 26,
      "outputs": [
        {
          "output_type": "stream",
          "name": "stdout",
          "text": [
            "Best Threshold=0.122126, F-Score=0.800, Precision=0.547, Recall=0.861\n"
          ]
        }
      ]
    },
    {
      "cell_type": "markdown",
      "metadata": {
        "id": "bcwb4deBNpbL"
      },
      "source": [
        "Нарисуем roc кривую"
      ]
    },
    {
      "cell_type": "code",
      "metadata": {
        "id": "RQm97_ztNpbM",
        "colab": {
          "base_uri": "https://localhost:8080/",
          "height": 535
        },
        "outputId": "10d0f8a2-d33f-460f-8150-2e0484b3865c"
      },
      "source": [
        "import seaborn as sns\n",
        "import itertools\n",
        "import matplotlib.pyplot as plt\n",
        "\n",
        "%matplotlib inline\n",
        "sns.set(font_scale=1.5)\n",
        "sns.set_color_codes(\"muted\")\n",
        "\n",
        "plt.figure(figsize=(10, 8))\n",
        "fpr, tpr, thresholds_ = roc_curve(y_test, y_score, pos_label=1)\n",
        "lw = 2\n",
        "plt.plot(fpr, tpr, lw=lw, label='ROC curve ')\n",
        "plt.plot([0, 1], [0, 1])\n",
        "plt.xlim([0.0, 1.0])\n",
        "plt.ylim([0.0, 1.05])\n",
        "plt.xlabel('False Positive Rate')\n",
        "plt.ylabel('True Positive Rate')\n",
        "plt.title('ROC curve')\n",
        "# plt.savefig(\"ROC.png\")\n",
        "plt.show()"
      ],
      "execution_count": 29,
      "outputs": [
        {
          "output_type": "display_data",
          "data": {
            "image/png": "[encoded data removed]",
            "text/plain": [
              "<Figure size 720x576 with 1 Axes>"
            ]
          },
          "metadata": {}
        }
      ]
    },
    {
      "cell_type": "markdown",
      "metadata": {
        "id": "WoebRAwJNpbM"
      },
      "source": [
        "Как это интерпетировать? Давайте построим матрицу ошибок, чтобы стало понятнее"
      ]
    },
    {
      "cell_type": "code",
      "metadata": {
        "id": "9v913q3RNpbM"
      },
      "source": [
        "def plot_confusion_matrix(cm, classes,\n",
        "                          normalize=False,\n",
        "                          title='Confusion matrix',\n",
        "                          cmap=plt.cm.Blues):\n",
        "    \"\"\"\n",
        "    This function prints and plots the confusion matrix.\n",
        "    Normalization can be applied by setting `normalize=True`.\n",
        "    \"\"\"\n",
        "    plt.imshow(cm, interpolation='nearest', cmap=cmap)\n",
        "    plt.title(title)\n",
        "    plt.colorbar()\n",
        "    tick_marks = np.arange(len(classes))\n",
        "    plt.xticks(tick_marks, classes, rotation=45)\n",
        "    plt.yticks(tick_marks, classes)\n",
        "\n",
        "    if normalize:\n",
        "        cm = cm.astype('float') / cm.sum(axis=1)[:, np.newaxis]\n",
        "        print(\"Normalized confusion matrix\")\n",
        "    else:\n",
        "        print('Confusion matrix, without normalization')\n",
        "\n",
        "    print(cm)\n",
        "\n",
        "    thresh = cm.max() / 2.\n",
        "    for i, j in itertools.product(range(cm.shape[0]), range(cm.shape[1])):\n",
        "        plt.text(j, i, cm[i, j],\n",
        "                 horizontalalignment=\"center\",\n",
        "                 color=\"white\" if cm[i, j] > thresh else \"black\")\n",
        "\n",
        "    plt.tight_layout()\n",
        "    plt.ylabel('True label')\n",
        "    plt.xlabel('Predicted label')"
      ],
      "execution_count": 30,
      "outputs": []
    },
    {
      "cell_type": "code",
      "metadata": {
        "id": "W9Gj5IpqNpbM",
        "colab": {
          "base_uri": "https://localhost:8080/",
          "height": 647
        },
        "outputId": "cd8949d5-b61d-4f8c-d329-988332579522"
      },
      "source": [
        "#мы уже нашли ранее \"оптимальный\" порог, когда максимизировали f_score\n",
        "font = {'size' : 15}\n",
        "\n",
        "plt.rc('font', **font)\n",
        "\n",
        "cnf_matrix = confusion_matrix(y_test, y_score>thresholds[ix])\n",
        "plt.figure(figsize=(10, 8))\n",
        "plot_confusion_matrix(cnf_matrix, classes=['Nontoxic', 'toxic'],\n",
        "                      title='Confusion matrix')\n",
        "# plt.savefig(\"conf_matrix.png\")\n",
        "plt.show()"
      ],
      "execution_count": 32,
      "outputs": [
        {
          "output_type": "stream",
          "name": "stdout",
          "text": [
            "Confusion matrix, without normalization\n",
            "[[32978  2880]\n",
            " [  562  3473]]\n"
          ]
        },
        {
          "output_type": "display_data",
          "data": {
            "image/png": "[encoded data removed]",
            "text/plain": [
              "<Figure size 720x576 with 2 Axes>"
            ]
          },
          "metadata": {}
        }
      ]
    },
    {
      "cell_type": "markdown",
      "metadata": {
        "id": "vKjPoBugNpbM"
      },
      "source": [
        "Посчитаем FPR, TPR"
      ]
    },
    {
      "cell_type": "code",
      "metadata": {
        "id": "BZidnDNjNpbM"
      },
      "source": [
        "(tn, fp, fn, tp) = confusion_matrix(y_test, y_score > thresholds[ix]).ravel()"
      ],
      "execution_count": 33,
      "outputs": []
    },
    {
      "cell_type": "code",
      "metadata": {
        "id": "hqQK09QFNpbN",
        "colab": {
          "base_uri": "https://localhost:8080/"
        },
        "outputId": "26c28d9a-5ff8-4c34-f64d-c7f4c85dce27"
      },
      "source": [
        "(tn, fp, fn, tp)"
      ],
      "execution_count": 34,
      "outputs": [
        {
          "output_type": "execute_result",
          "data": {
            "text/plain": [
              "(32978, 2880, 562, 3473)"
            ]
          },
          "metadata": {},
          "execution_count": 34
        }
      ]
    },
    {
      "cell_type": "code",
      "metadata": {
        "id": "Wc1AGe2pNpbN"
      },
      "source": [
        "TN = cnf_matrix[0][0]\n",
        "FN = cnf_matrix[1][0]\n",
        "TP = cnf_matrix[1][1]\n",
        "FP = cnf_matrix[0][1]"
      ],
      "execution_count": 35,
      "outputs": []
    },
    {
      "cell_type": "code",
      "metadata": {
        "id": "hkLrcbIANpbN",
        "colab": {
          "base_uri": "https://localhost:8080/"
        },
        "outputId": "2d360074-944f-4fc6-9e84-1e8ab5009aa6"
      },
      "source": [
        "TN, FN, TP, FP"
      ],
      "execution_count": 36,
      "outputs": [
        {
          "output_type": "execute_result",
          "data": {
            "text/plain": [
              "(32978, 562, 3473, 2880)"
            ]
          },
          "metadata": {},
          "execution_count": 36
        }
      ]
    },
    {
      "cell_type": "markdown",
      "metadata": {
        "id": "5X9jlOt2NpbN"
      },
      "source": [
        "Посчитаем нужные нам метрики"
      ]
    },
    {
      "cell_type": "code",
      "metadata": {
        "id": "9HJK2xavNpbN",
        "colab": {
          "base_uri": "https://localhost:8080/"
        },
        "outputId": "b8c40387-d108-4494-f3c5-8149bee87769"
      },
      "source": [
        "TPR = TP/(TP+FN)\n",
        "FPR = FP/(FP+TN)\n",
        "TNR = TN/(FP+TN)\n",
        "TPR, FPR, TNR"
      ],
      "execution_count": 37,
      "outputs": [
        {
          "output_type": "execute_result",
          "data": {
            "text/plain": [
              "(0.8607187112763321, 0.0803168051759719, 0.9196831948240282)"
            ]
          },
          "metadata": {},
          "execution_count": 37
        }
      ]
    },
    {
      "cell_type": "markdown",
      "metadata": {
        "id": "PBAqcQWkNpbN"
      },
      "source": [
        "False Positive Rate всего лишь 0.096.\n",
        "\n",
        "Это означает, что только 9.6 процентов всех комментариев будут помечены как токсичные некорректно"
      ]
    },
    {
      "cell_type": "markdown",
      "metadata": {
        "id": "m9_rmdY_NpbO"
      },
      "source": [
        "Вывод:\n",
        "\n",
        "Мы можем автоматически фильтровать 88 процентов токсичных комментариев! Однако есть еще TPR"
      ]
    },
    {
      "cell_type": "markdown",
      "metadata": {
        "id": "Nx5FIjulNpbO"
      },
      "source": [
        "Глобальные выводы:\n",
        "\n",
        "1. TNR = 0.9 -> модель может автоматически фильтровать 90% токсичных комментариев\n",
        "2. TPR = 0.88 -> доля ошибочно классифицированных как токсичных (хотя это нормальные комментарии), не будет превышать при этом 9.6 процентов"
      ]
    },
    {
      "cell_type": "markdown",
      "metadata": {
        "id": "l5E4Z_GmNpbO"
      },
      "source": [
        "Что дальше? - планируем эксперимент!"
      ]
    },
    {
      "cell_type": "markdown",
      "metadata": {
        "id": "uf_ZYBV4NpbO"
      },
      "source": [
        "### Кейс 2 - определение ССЗ"
      ]
    },
    {
      "cell_type": "markdown",
      "metadata": {
        "id": "K16Gs1SGNpbO"
      },
      "source": [
        "ссылка на соревнование - https://mlbootcamp.ru/ru/round/12/sandbox/"
      ]
    },
    {
      "cell_type": "markdown",
      "metadata": {
        "id": "F86w7QqLNpbO"
      },
      "source": [
        "В рамках конкурса вам нужно предсказать наличие сердечно-сосудистых заболеваний по результатам классического врачебного осмотра. Датасет сформирован из 100.000 реальных клинических анализов, и в нём используются признаки, которые можно разбить на 3 группы:\n",
        "\n",
        " \n",
        "\n",
        "Объективные признаки:\n",
        "\n",
        " - Возраст\n",
        " - Рост\n",
        " - Вес\n",
        " - Пол\n",
        " \n",
        "\n",
        "Результаты измерения:\n",
        "\n",
        " - Артериальное давление верхнее и нижнее\n",
        " - Холестерин\n",
        " - Глюкоза\n",
        " \n",
        "\n",
        "Субъективные признаки:\n",
        "\n",
        " - Курение\n",
        " - Употребление Алкоголя\n",
        " - Физическая активность\n",
        " \n",
        "\n",
        "Возраст дан в днях. Значения показателей холестерина и глюкозы представлены одним из трех классов: норма, выше нормы, значительно выше нормы. Значения субъективных признаков — бинарны.\n",
        "\n",
        "Все показатели даны на момент осмотра."
      ]
    },
    {
      "cell_type": "markdown",
      "metadata": {
        "id": "Wf4GtWfTNpbO"
      },
      "source": [
        "Таргет - наличие сердечно-сосудистых заболеваний (ССЗ)"
      ]
    },
    {
      "cell_type": "code",
      "metadata": {
        "id": "JYLDSSAjNpbP",
        "colab": {
          "base_uri": "https://localhost:8080/",
          "height": 143
        },
        "outputId": "f6e11d7b-4352-497f-99d0-66e811e571f5"
      },
      "source": [
        "df = pd.read_csv(f'{DATA_PATH}train_case2.csv', ';')\n",
        "df.head(3)"
      ],
      "execution_count": 38,
      "outputs": [
        {
          "output_type": "execute_result",
          "data": {
            "text/html": [
              "<div>\n",
              "<style scoped>\n",
              "    .dataframe tbody tr th:only-of-type {\n",
              "        vertical-align: middle;\n",
              "    }\n",
              "\n",
              "    .dataframe tbody tr th {\n",
              "        vertical-align: top;\n",
              "    }\n",
              "\n",
              "    .dataframe thead th {\n",
              "        text-align: right;\n",
              "    }\n",
              "</style>\n",
              "<table border=\"1\" class=\"dataframe\">\n",
              "  <thead>\n",
              "    <tr style=\"text-align: right;\">\n",
              "      <th></th>\n",
              "      <th>id</th>\n",
              "      <th>age</th>\n",
              "      <th>gender</th>\n",
              "      <th>height</th>\n",
              "      <th>weight</th>\n",
              "      <th>ap_hi</th>\n",
              "      <th>ap_lo</th>\n",
              "      <th>cholesterol</th>\n",
              "      <th>gluc</th>\n",
              "      <th>smoke</th>\n",
              "      <th>alco</th>\n",
              "      <th>active</th>\n",
              "      <th>cardio</th>\n",
              "    </tr>\n",
              "  </thead>\n",
              "  <tbody>\n",
              "    <tr>\n",
              "      <th>0</th>\n",
              "      <td>0</td>\n",
              "      <td>18393</td>\n",
              "      <td>2</td>\n",
              "      <td>168</td>\n",
              "      <td>62.0</td>\n",
              "      <td>110</td>\n",
              "      <td>80</td>\n",
              "      <td>1</td>\n",
              "      <td>1</td>\n",
              "      <td>0</td>\n",
              "      <td>0</td>\n",
              "      <td>1</td>\n",
              "      <td>0</td>\n",
              "    </tr>\n",
              "    <tr>\n",
              "      <th>1</th>\n",
              "      <td>1</td>\n",
              "      <td>20228</td>\n",
              "      <td>1</td>\n",
              "      <td>156</td>\n",
              "      <td>85.0</td>\n",
              "      <td>140</td>\n",
              "      <td>90</td>\n",
              "      <td>3</td>\n",
              "      <td>1</td>\n",
              "      <td>0</td>\n",
              "      <td>0</td>\n",
              "      <td>1</td>\n",
              "      <td>1</td>\n",
              "    </tr>\n",
              "    <tr>\n",
              "      <th>2</th>\n",
              "      <td>2</td>\n",
              "      <td>18857</td>\n",
              "      <td>1</td>\n",
              "      <td>165</td>\n",
              "      <td>64.0</td>\n",
              "      <td>130</td>\n",
              "      <td>70</td>\n",
              "      <td>3</td>\n",
              "      <td>1</td>\n",
              "      <td>0</td>\n",
              "      <td>0</td>\n",
              "      <td>0</td>\n",
              "      <td>1</td>\n",
              "    </tr>\n",
              "  </tbody>\n",
              "</table>\n",
              "</div>"
            ],
            "text/plain": [
              "   id    age  gender  height  weight  ...  gluc  smoke  alco  active  cardio\n",
              "0   0  18393       2     168    62.0  ...     1      0     0       1       0\n",
              "1   1  20228       1     156    85.0  ...     1      0     0       1       1\n",
              "2   2  18857       1     165    64.0  ...     1      0     0       0       1\n",
              "\n",
              "[3 rows x 13 columns]"
            ]
          },
          "metadata": {},
          "execution_count": 38
        }
      ]
    },
    {
      "cell_type": "markdown",
      "metadata": {
        "id": "aK-mr114NpbP"
      },
      "source": [
        "Разделим наши данные на тренировочную и тестовую выборки"
      ]
    },
    {
      "cell_type": "code",
      "metadata": {
        "id": "R62RhstMNpbP"
      },
      "source": [
        "#разделим данные на train/test\n",
        "X_train, X_test, y_train, y_test = train_test_split(df.drop('cardio', 1), \n",
        "                                                    df['cardio'], random_state=0)"
      ],
      "execution_count": 39,
      "outputs": []
    },
    {
      "cell_type": "markdown",
      "metadata": {
        "id": "9-n3v1ibNpbP"
      },
      "source": [
        "К полям:\n",
        "- gender, cholesterol применим OHE-кодирование\n",
        "- age, height, weight, ap_hi, ap_lo - standardScaler\n",
        "- gluc, smoke, alco, active - оставим пока как есть"
      ]
    },
    {
      "cell_type": "code",
      "metadata": {
        "id": "_UsqhLBlNpbP"
      },
      "source": [
        "class ColumnSelector(BaseEstimator, TransformerMixin):\n",
        "    \"\"\"\n",
        "    Transformer to select a single column from the data frame to perform additional transformations on\n",
        "    \"\"\"\n",
        "    def __init__(self, key):\n",
        "        self.key = key\n",
        "\n",
        "    def fit(self, X, y=None):\n",
        "        return self\n",
        "\n",
        "    def transform(self, X):\n",
        "        return X[self.key]\n",
        "    \n",
        "class NumberSelector(BaseEstimator, TransformerMixin):\n",
        "    \"\"\"\n",
        "    Transformer to select a single column from the data frame to perform additional transformations on\n",
        "    Use on numeric columns in the data\n",
        "    \"\"\"\n",
        "    def __init__(self, key):\n",
        "        self.key = key\n",
        "\n",
        "    def fit(self, X, y=None):\n",
        "        return self\n",
        "\n",
        "    def transform(self, X):\n",
        "        return X[[self.key]]\n",
        "    \n",
        "class OHEEncoder(BaseEstimator, TransformerMixin):\n",
        "    def __init__(self, key):\n",
        "        self.key = key\n",
        "        self.columns = []\n",
        "\n",
        "    def fit(self, X, y=None):\n",
        "        self.columns = [col for col in pd.get_dummies(X, prefix=self.key).columns]\n",
        "        return self\n",
        "\n",
        "    def transform(self, X):\n",
        "        X = pd.get_dummies(X, prefix=self.key)\n",
        "        test_columns = [col for col in X.columns]\n",
        "        for col_ in test_columns:\n",
        "            if col_ not in self.columns:\n",
        "                X[col_] = 0\n",
        "        return X[self.columns]"
      ],
      "execution_count": 40,
      "outputs": []
    },
    {
      "cell_type": "code",
      "metadata": {
        "id": "caRd6oicOLqj"
      },
      "source": [
        "from sklearn.preprocessing import StandardScaler\n",
        "\n",
        "continuos_cols = ['age', 'height', 'weight', 'ap_hi', 'ap_lo']\n",
        "cat_cols = ['gender', 'cholesterol']\n",
        "base_cols = ['gluc', 'smoke', 'alco', 'active']\n",
        "\n",
        "continuos_transformers = []\n",
        "cat_transformers = []\n",
        "base_transformers = []\n",
        "\n",
        "for cont_col in continuos_cols:\n",
        "    transfomer =  Pipeline([\n",
        "                ('selector', NumberSelector(key=cont_col)),\n",
        "                ('standard', StandardScaler())\n",
        "            ])\n",
        "    continuos_transformers.append((cont_col, transfomer))\n",
        "    \n",
        "for cat_col in cat_cols:\n",
        "    cat_transformer = Pipeline([\n",
        "                ('selector', ColumnSelector(key=cat_col)),\n",
        "                ('ohe', OHEEncoder(key=cat_col))\n",
        "            ])\n",
        "    cat_transformers.append((cat_col, cat_transformer))\n",
        "    \n",
        "for base_col in base_cols:\n",
        "    base_transformer = Pipeline([\n",
        "                ('selector', NumberSelector(key=base_col))\n",
        "            ])\n",
        "    base_transformers.append((base_col, base_transformer))"
      ],
      "execution_count": 41,
      "outputs": []
    },
    {
      "cell_type": "markdown",
      "metadata": {
        "id": "90s-CG3ANpbQ"
      },
      "source": [
        "Теперь объединим все наши трансформеры с помощью FeatureUnion"
      ]
    },
    {
      "cell_type": "code",
      "metadata": {
        "id": "mYdM3TYlNpbQ",
        "colab": {
          "base_uri": "https://localhost:8080/"
        },
        "outputId": "92805689-c382-47c2-cb3f-1374fb87ed3a"
      },
      "source": [
        "from sklearn.pipeline import FeatureUnion\n",
        "\n",
        "feats = FeatureUnion(continuos_transformers+cat_transformers+base_transformers)\n",
        "feature_processing = Pipeline([('feats', feats)])\n",
        "\n",
        "feature_processing.fit_transform(X_train)"
      ],
      "execution_count": 42,
      "outputs": [
        {
          "output_type": "execute_result",
          "data": {
            "text/plain": [
              "array([[-1.73391771,  0.6873301 ,  0.74843904, ...,  1.        ,\n",
              "         0.        ,  1.        ],\n",
              "       [-1.67343538,  0.07758923, -0.29640123, ...,  0.        ,\n",
              "         0.        ,  1.        ],\n",
              "       [ 0.13738132,  1.17512278, -0.15708919, ...,  0.        ,\n",
              "         0.        ,  0.        ],\n",
              "       ...,\n",
              "       [ 1.17775864,  1.17512278, -0.15708919, ...,  0.        ,\n",
              "         0.        ,  1.        ],\n",
              "       [-0.47190715, -1.38578883,  0.74843904, ...,  0.        ,\n",
              "         0.        ,  1.        ],\n",
              "       [ 0.38174619,  0.56538192, -0.08743318, ...,  0.        ,\n",
              "         0.        ,  1.        ]])"
            ]
          },
          "metadata": {},
          "execution_count": 42
        }
      ]
    },
    {
      "cell_type": "markdown",
      "metadata": {
        "id": "IsNrmh8eNpbQ"
      },
      "source": [
        "Добавим классификатор и запустим кросс-валидацию"
      ]
    },
    {
      "cell_type": "code",
      "metadata": {
        "id": "vmROgYuENpbQ",
        "colab": {
          "base_uri": "https://localhost:8080/"
        },
        "outputId": "9f621511-6cf0-46cb-a391-fdcf3c0925c4"
      },
      "source": [
        "classifier = Pipeline([\n",
        "    ('features',feats),\n",
        "    ('classifier', LogisticRegression(random_state = 42)),\n",
        "])\n",
        "\n",
        "#запустим кросс-валидацию\n",
        "cv_scores = cross_val_score(classifier, X_train, y_train, cv=16, scoring='roc_auc')\n",
        "cv_score = np.mean(cv_scores)\n",
        "cv_score_std = np.std(cv_scores)\n",
        "print('CV score is {}+-{}'.format(cv_score, cv_score_std))\n",
        "\n",
        "#обучим пайплайн на всем тренировочном датасете\n",
        "classifier.fit(X_train, y_train)\n",
        "y_score = classifier.predict_proba(X_test)[:, 1]"
      ],
      "execution_count": 43,
      "outputs": [
        {
          "output_type": "stream",
          "name": "stdout",
          "text": [
            "CV score is 0.7867401104915408+-0.00852135511666111\n"
          ]
        }
      ]
    },
    {
      "cell_type": "code",
      "metadata": {
        "colab": {
          "base_uri": "https://localhost:8080/"
        },
        "id": "whfV7p9lOaFn",
        "outputId": "adaee0ac-60ba-4c4a-923d-464707834783"
      },
      "source": [
        "y_score"
      ],
      "execution_count": 44,
      "outputs": [
        {
          "output_type": "execute_result",
          "data": {
            "text/plain": [
              "array([0.21919629, 0.24759828, 0.40484498, ..., 0.16941878, 0.70519218,\n",
              "       0.75098778])"
            ]
          },
          "metadata": {},
          "execution_count": 44
        }
      ]
    },
    {
      "cell_type": "markdown",
      "metadata": {
        "id": "zOywERH3NpbQ"
      },
      "source": [
        "Посчитаем precision/recall/f_score"
      ]
    },
    {
      "cell_type": "code",
      "metadata": {
        "id": "81jyk0W2NpbR",
        "colab": {
          "base_uri": "https://localhost:8080/"
        },
        "outputId": "55546a89-f442-401a-d8b1-1a7746f17242"
      },
      "source": [
        "b=1\n",
        "precision, recall, thresholds = precision_recall_curve(y_test.values, y_score)\n",
        "fscore = (1+b**2)*(precision * recall) / (b**2*precision + recall)\n",
        "# locate the index of the largest f score\n",
        "ix = np.argmax(fscore)\n",
        "print('Best Threshold=%f, F-Score=%.3f, Precision=%.3f, Recall=%.3f' % (thresholds[ix], \n",
        "                                                                        fscore[ix],\n",
        "                                                                        precision[ix],\n",
        "                                                                        recall[ix]))"
      ],
      "execution_count": 45,
      "outputs": [
        {
          "output_type": "stream",
          "name": "stdout",
          "text": [
            "Best Threshold=0.386937, F-Score=0.730, Precision=0.647, Recall=0.838\n"
          ]
        }
      ]
    },
    {
      "cell_type": "markdown",
      "metadata": {
        "id": "3oY8nDQ0NpbR"
      },
      "source": [
        "Нарисуем roc auc кривую (кстати, наверное неплохо бы ее вынести в отдельную функцию)"
      ]
    },
    {
      "cell_type": "code",
      "metadata": {
        "id": "5PuNDDiZNpbR",
        "colab": {
          "base_uri": "https://localhost:8080/",
          "height": 535
        },
        "outputId": "1efc0382-4f68-4e08-c68e-6a623cb6b0e1"
      },
      "source": [
        "sns.set(font_scale=1.5)\n",
        "sns.set_color_codes(\"muted\")\n",
        "\n",
        "plt.figure(figsize=(10, 8))\n",
        "fpr, tpr, thresholds_ = roc_curve(y_test, y_score, pos_label=1)\n",
        "lw = 2\n",
        "plt.plot(fpr, tpr, lw=lw, label='ROC curve ')\n",
        "plt.plot([0, 1], [0, 1])\n",
        "plt.xlim([0.0, 1.0])\n",
        "plt.ylim([0.0, 1.05])\n",
        "plt.xlabel('False Positive Rate')\n",
        "plt.ylabel('True Positive Rate')\n",
        "plt.title('ROC curve')\n",
        "# plt.savefig(\"ROC.png\")\n",
        "plt.show()"
      ],
      "execution_count": 47,
      "outputs": [
        {
          "output_type": "display_data",
          "data": {
            "image/png": "[encoded data removed]",
            "text/plain": [
              "<Figure size 720x576 with 1 Axes>"
            ]
          },
          "metadata": {}
        }
      ]
    },
    {
      "cell_type": "code",
      "metadata": {
        "id": "fP2iEo3ENpbR"
      },
      "source": [
        ""
      ],
      "execution_count": null,
      "outputs": []
    },
    {
      "cell_type": "code",
      "metadata": {
        "id": "ey174ft9NpbR",
        "colab": {
          "base_uri": "https://localhost:8080/"
        },
        "outputId": "88471892-946e-4c7d-de03-f1b36c430795"
      },
      "source": [
        "from sklearn.metrics import roc_auc_score, log_loss\n",
        "\n",
        "#Ваш код здесь\n",
        "print(\"roc auc score: {}\".format(roc_auc_score(y_true=y_test, y_score=classifier.predict_proba(X_test)[:,1])))\n",
        "print(\"log loss score: {}\".format(log_loss(y_true=y_test, y_pred=classifier.predict_proba(X_test)[:,1])))"
      ],
      "execution_count": 48,
      "outputs": [
        {
          "output_type": "stream",
          "name": "stdout",
          "text": [
            "roc auc score: 0.7840347790421852\n",
            "log loss score: 0.5779604008230668\n"
          ]
        }
      ]
    },
    {
      "cell_type": "markdown",
      "metadata": {
        "id": "7DCo3BokNpbS"
      },
      "source": [
        "Посомтрим на матрицу ошибок"
      ]
    },
    {
      "cell_type": "code",
      "metadata": {
        "id": "zr499gRGNpbS",
        "colab": {
          "base_uri": "https://localhost:8080/",
          "height": 647
        },
        "outputId": "6d531459-3d17-454d-cfee-5f83fe614e98"
      },
      "source": [
        "#мы уже нашли ранее \"оптимальный\" порог, когда максимизировали f_score\n",
        "font = {'size' : 15}\n",
        "\n",
        "plt.rc('font', **font)\n",
        "\n",
        "cnf_matrix = confusion_matrix(y_test, y_score>thresholds[ix])\n",
        "plt.figure(figsize=(10, 8))\n",
        "plot_confusion_matrix(cnf_matrix, classes=['cardio_0', 'cardio_1'],\n",
        "                      title='Confusion matrix')\n",
        "# plt.savefig(\"conf_matrix.png\")\n",
        "plt.show()"
      ],
      "execution_count": 50,
      "outputs": [
        {
          "output_type": "stream",
          "name": "stdout",
          "text": [
            "Confusion matrix, without normalization\n",
            "[[4861 3959]\n",
            " [1411 7269]]\n"
          ]
        },
        {
          "output_type": "display_data",
          "data": {
            "image/png": "[encoded data removed]",
            "text/plain": [
              "<Figure size 720x576 with 2 Axes>"
            ]
          },
          "metadata": {}
        }
      ]
    },
    {
      "cell_type": "markdown",
      "metadata": {
        "id": "XHR9YnswNpbS"
      },
      "source": [
        "Посчитаем FPR, TPR"
      ]
    },
    {
      "cell_type": "code",
      "metadata": {
        "id": "1RJF0EN1NpbS",
        "colab": {
          "base_uri": "https://localhost:8080/"
        },
        "outputId": "eb0d8dc8-ed17-441e-df80-6097c5e077cd"
      },
      "source": [
        "TN = cnf_matrix[0][0]\n",
        "FN = cnf_matrix[1][0]\n",
        "TP = cnf_matrix[1][1]\n",
        "FP = cnf_matrix[0][1]\n",
        "\n",
        "TPR = TP/(TP+FN)\n",
        "FPR = FP/(FP+TN)\n",
        "TNR = TN/(FP+TN)\n",
        "TPR, FPR, TNR"
      ],
      "execution_count": 51,
      "outputs": [
        {
          "output_type": "execute_result",
          "data": {
            "text/plain": [
              "(0.837442396313364, 0.44886621315192743, 0.5511337868480726)"
            ]
          },
          "metadata": {},
          "execution_count": 51
        }
      ]
    },
    {
      "cell_type": "markdown",
      "metadata": {
        "id": "141mGkyFNpbS"
      },
      "source": [
        "False Positive Rate довольно высокий ~ 0.45.\n",
        "\n",
        "Это означает, что 45 процентов всех пациентов получат метку 1 при том, что они на самом деле здоровы"
      ]
    },
    {
      "cell_type": "markdown",
      "metadata": {
        "id": "cNuiscVqNpbS"
      },
      "source": [
        "Хорошая ли модель у нас получилась? - ответ сильно зависит от внешних факторов (какое количество FP мы можем допустить)"
      ]
    },
    {
      "cell_type": "code",
      "metadata": {
        "id": "dxzQFB0RNpbS"
      },
      "source": [
        ""
      ],
      "execution_count": null,
      "outputs": []
    },
    {
      "cell_type": "markdown",
      "metadata": {
        "id": "xUuzA-xiNpbS"
      },
      "source": [
        "### Домашнее задание"
      ]
    },
    {
      "cell_type": "markdown",
      "metadata": {
        "id": "lXI8m3ctNpbT"
      },
      "source": [
        "1. обучить несколько разных моделей на наборе данных ССЗ (train_case2.csv): логрег, бустинг, лес и т.д - на ваш выбор 2-3 варианта\n",
        "2. при обучении моделей обязательно использовать кроссвалидацию\n",
        "3. вывести сравнение полученных моделей по основным метрикам классификации: pr/rec/auc/f_score (можно в виде таблицы, где строки - модели, а столбцы - метрики)\n",
        "4. сделать выводы о том, какая модель справилась с задачей лучше других\n",
        "5. (опциональный вопрос) какая метрика (precision_recall_curve или roc_auc_curve) больше подходит в случае сильного дисбаланса классов? (когда объектов одного из классов намного больше чем другого). \n",
        "\n",
        "p.s.В вопросе проще разобраться, если вспомнить оси на графике roc auc curve и рассмотреть такой пример:\n",
        "\n",
        "Имеется 100000 объектов, из которых только 100 - класс \"1\" (99900 - класс \"0\", соответственно). \n",
        "Допустим, у нас две модели:\n",
        "\n",
        "- первая помечает 100 объектов как класс 1, но TP = 90\n",
        "- вторая помечает 1000 объектов как класс 1, но TP такой же - 90\n",
        "\n",
        "Какая модель лучше и почему? И что позволяет легче сделать вывод - roc_auc_curve или precision_recall_curve?"
      ]
    },
    {
      "cell_type": "code",
      "metadata": {
        "id": "WBs_1L11Ps5R"
      },
      "source": [
        ""
      ],
      "execution_count": null,
      "outputs": []
    },
    {
      "cell_type": "markdown",
      "metadata": {
        "id": "mrhCn7bLPtNm"
      },
      "source": [
        "В рамках конкурса вам нужно предсказать наличие сердечно-сосудистых заболеваний по результатам классического врачебного осмотра. Датасет сформирован из 100.000 реальных клинических анализов, и в нём используются признаки, которые можно разбить на 3 группы:\n",
        "\n",
        " \n",
        "\n",
        "Объективные признаки:\n",
        "\n",
        " - Возраст\n",
        " - Рост\n",
        " - Вес\n",
        " - Пол\n",
        " \n",
        "\n",
        "Результаты измерения:\n",
        "\n",
        " - Артериальное давление верхнее и нижнее\n",
        " - Холестерин\n",
        " - Глюкоза\n",
        " \n",
        "\n",
        "Субъективные признаки:\n",
        "\n",
        " - Курение\n",
        " - Употребление Алкоголя\n",
        " - Физическая активность\n",
        " \n",
        "\n",
        "Возраст дан в днях. Значения показателей холестерина и глюкозы представлены одним из трех классов: норма, выше нормы, значительно выше нормы. Значения субъективных признаков — бинарны.\n",
        "\n",
        "Все показатели даны на момент осмотра."
      ]
    },
    {
      "cell_type": "markdown",
      "metadata": {
        "id": "nS8S3XSRPtNm"
      },
      "source": [
        "Таргет - наличие сердечно-сосудистых заболеваний (ССЗ)"
      ]
    },
    {
      "cell_type": "code",
      "metadata": {
        "id": "JVLQHWG_WjWL"
      },
      "source": [
        "from sklearn.ensemble import RandomForestClassifier\n",
        "from sklearn.model_selection import cross_validate\n",
        "from sklearn.metrics import classification_report\n",
        "from sklearn.pipeline import FeatureUnion"
      ],
      "execution_count": 72,
      "outputs": []
    },
    {
      "cell_type": "code",
      "metadata": {
        "id": "zaauKIJqP-_6"
      },
      "source": [
        "from sklearn.preprocessing import StandardScaler\n",
        "\n",
        "continuos_cols = ['age', 'height', 'weight', 'ap_hi', 'ap_lo']\n",
        "cat_cols = ['gender', 'cholesterol']\n",
        "base_cols = ['gluc', 'smoke', 'alco', 'active']\n",
        "\n",
        "continuos_transformers = []\n",
        "cat_transformers = []\n",
        "base_transformers = []\n",
        "\n",
        "for cont_col in continuos_cols:\n",
        "    transfomer =  Pipeline([\n",
        "                ('selector', NumberSelector(key=cont_col)),\n",
        "                ('standard', StandardScaler())\n",
        "            ])\n",
        "    continuos_transformers.append((cont_col, transfomer))\n",
        "    \n",
        "for cat_col in cat_cols:\n",
        "    cat_transformer = Pipeline([\n",
        "                ('selector', ColumnSelector(key=cat_col)),\n",
        "                ('ohe', OHEEncoder(key=cat_col))\n",
        "            ])\n",
        "    cat_transformers.append((cat_col, cat_transformer))\n",
        "    \n",
        "for base_col in base_cols:\n",
        "    base_transformer = Pipeline([\n",
        "                ('selector', NumberSelector(key=base_col))\n",
        "            ])\n",
        "    base_transformers.append((base_col, base_transformer))"
      ],
      "execution_count": 70,
      "outputs": []
    },
    {
      "cell_type": "markdown",
      "metadata": {
        "id": "l7vqPtwyWISy"
      },
      "source": [
        "**1. обучить несколько разных моделей на наборе данных ССЗ (train_case2.csv): логрег, бустинг, лес и т.д - на ваш выбор 2-3 варианта**\n",
        "\n",
        "**2. при обучении моделей обязательно использовать кроссвалидацию**\n",
        "\n",
        "**3. вывести сравнение полученных моделей по основным метрикам классификации: pr/rec/auc/f_score (можно в виде таблицы, где строки - модели, а столбцы - метрики)**"
      ]
    },
    {
      "cell_type": "code",
      "metadata": {
        "colab": {
          "base_uri": "https://localhost:8080/",
          "height": 143
        },
        "id": "avvCdnBJPtNn",
        "outputId": "f716f3f2-087f-499f-cddc-1200e6286993"
      },
      "source": [
        "df = pd.read_csv(f'{DATA_PATH}train_case2.csv', ';')\n",
        "df.head(3)"
      ],
      "execution_count": 68,
      "outputs": [
        {
          "output_type": "execute_result",
          "data": {
            "text/html": [
              "<div>\n",
              "<style scoped>\n",
              "    .dataframe tbody tr th:only-of-type {\n",
              "        vertical-align: middle;\n",
              "    }\n",
              "\n",
              "    .dataframe tbody tr th {\n",
              "        vertical-align: top;\n",
              "    }\n",
              "\n",
              "    .dataframe thead th {\n",
              "        text-align: right;\n",
              "    }\n",
              "</style>\n",
              "<table border=\"1\" class=\"dataframe\">\n",
              "  <thead>\n",
              "    <tr style=\"text-align: right;\">\n",
              "      <th></th>\n",
              "      <th>id</th>\n",
              "      <th>age</th>\n",
              "      <th>gender</th>\n",
              "      <th>height</th>\n",
              "      <th>weight</th>\n",
              "      <th>ap_hi</th>\n",
              "      <th>ap_lo</th>\n",
              "      <th>cholesterol</th>\n",
              "      <th>gluc</th>\n",
              "      <th>smoke</th>\n",
              "      <th>alco</th>\n",
              "      <th>active</th>\n",
              "      <th>cardio</th>\n",
              "    </tr>\n",
              "  </thead>\n",
              "  <tbody>\n",
              "    <tr>\n",
              "      <th>0</th>\n",
              "      <td>0</td>\n",
              "      <td>18393</td>\n",
              "      <td>2</td>\n",
              "      <td>168</td>\n",
              "      <td>62.0</td>\n",
              "      <td>110</td>\n",
              "      <td>80</td>\n",
              "      <td>1</td>\n",
              "      <td>1</td>\n",
              "      <td>0</td>\n",
              "      <td>0</td>\n",
              "      <td>1</td>\n",
              "      <td>0</td>\n",
              "    </tr>\n",
              "    <tr>\n",
              "      <th>1</th>\n",
              "      <td>1</td>\n",
              "      <td>20228</td>\n",
              "      <td>1</td>\n",
              "      <td>156</td>\n",
              "      <td>85.0</td>\n",
              "      <td>140</td>\n",
              "      <td>90</td>\n",
              "      <td>3</td>\n",
              "      <td>1</td>\n",
              "      <td>0</td>\n",
              "      <td>0</td>\n",
              "      <td>1</td>\n",
              "      <td>1</td>\n",
              "    </tr>\n",
              "    <tr>\n",
              "      <th>2</th>\n",
              "      <td>2</td>\n",
              "      <td>18857</td>\n",
              "      <td>1</td>\n",
              "      <td>165</td>\n",
              "      <td>64.0</td>\n",
              "      <td>130</td>\n",
              "      <td>70</td>\n",
              "      <td>3</td>\n",
              "      <td>1</td>\n",
              "      <td>0</td>\n",
              "      <td>0</td>\n",
              "      <td>0</td>\n",
              "      <td>1</td>\n",
              "    </tr>\n",
              "  </tbody>\n",
              "</table>\n",
              "</div>"
            ],
            "text/plain": [
              "   id    age  gender  height  weight  ...  gluc  smoke  alco  active  cardio\n",
              "0   0  18393       2     168    62.0  ...     1      0     0       1       0\n",
              "1   1  20228       1     156    85.0  ...     1      0     0       1       1\n",
              "2   2  18857       1     165    64.0  ...     1      0     0       0       1\n",
              "\n",
              "[3 rows x 13 columns]"
            ]
          },
          "metadata": {},
          "execution_count": 68
        }
      ]
    },
    {
      "cell_type": "markdown",
      "metadata": {
        "id": "gWLJ6KkqcOYm"
      },
      "source": [
        "Разделим наши данные на тренировочную и тестовую выборки"
      ]
    },
    {
      "cell_type": "code",
      "metadata": {
        "id": "7D4PPXomcOYm"
      },
      "source": [
        "#разделим данные на train/test\n",
        "X_train, X_test, y_train, y_test = train_test_split(df.drop('cardio', 1), df['cardio'], random_state=0)"
      ],
      "execution_count": 69,
      "outputs": []
    },
    {
      "cell_type": "markdown",
      "metadata": {
        "id": "TPj6kioxP-_7"
      },
      "source": [
        "Теперь объединим все наши трансформеры с помощью FeatureUnion"
      ]
    },
    {
      "cell_type": "code",
      "metadata": {
        "colab": {
          "base_uri": "https://localhost:8080/"
        },
        "id": "THtAdBeBP-_7",
        "outputId": "0fe1a9fa-b92e-45e6-95e3-0fd8386ef3a9"
      },
      "source": [
        "feats = FeatureUnion(continuos_transformers+cat_transformers+base_transformers)\n",
        "feature_processing = Pipeline([('feats', feats)])\n",
        "\n",
        "feature_processing.fit_transform(X_train)"
      ],
      "execution_count": 71,
      "outputs": [
        {
          "output_type": "execute_result",
          "data": {
            "text/plain": [
              "array([[-1.73391771,  0.6873301 ,  0.74843904, ...,  1.        ,\n",
              "         0.        ,  1.        ],\n",
              "       [-1.67343538,  0.07758923, -0.29640123, ...,  0.        ,\n",
              "         0.        ,  1.        ],\n",
              "       [ 0.13738132,  1.17512278, -0.15708919, ...,  0.        ,\n",
              "         0.        ,  0.        ],\n",
              "       ...,\n",
              "       [ 1.17775864,  1.17512278, -0.15708919, ...,  0.        ,\n",
              "         0.        ,  1.        ],\n",
              "       [-0.47190715, -1.38578883,  0.74843904, ...,  0.        ,\n",
              "         0.        ,  1.        ],\n",
              "       [ 0.38174619,  0.56538192, -0.08743318, ...,  0.        ,\n",
              "         0.        ,  1.        ]])"
            ]
          },
          "metadata": {},
          "execution_count": 71
        }
      ]
    },
    {
      "cell_type": "code",
      "metadata": {
        "id": "EIt4YLA5dz7b"
      },
      "source": [
        "def plot_roc_curve(_y_pred, _y_true, ttl):\n",
        "  sns.set(font_scale=1.5)\n",
        "  sns.set_color_codes(\"muted\")\n",
        "\n",
        "  plt.figure(figsize=(10, 8))\n",
        "  fpr, tpr, thresholds_ = roc_curve(_y_true, _y_pred, pos_label=1)\n",
        "  lw = 2\n",
        "  plt.plot(fpr, tpr, lw=lw, label=f'ROC curve {ttl}')\n",
        "  plt.plot([0, 1], [0, 1])\n",
        "  plt.xlim([0.0, 1.0])\n",
        "  plt.ylim([0.0, 1.05])\n",
        "  plt.xlabel('False Positive Rate')\n",
        "  plt.ylabel('True Positive Rate')\n",
        "  plt.title('ROC curve')\n",
        "  # plt.savefig(\"ROC.png\")\n",
        "  plt.show()\n",
        "  return"
      ],
      "execution_count": 93,
      "outputs": []
    },
    {
      "cell_type": "markdown",
      "metadata": {
        "id": "AxTmAP3jP-_7"
      },
      "source": [
        "Добавим классификатор и запустим кросс-валидацию"
      ]
    },
    {
      "cell_type": "code",
      "metadata": {
        "colab": {
          "base_uri": "https://localhost:8080/"
        },
        "id": "aOWXM2YHP-_7",
        "outputId": "cb425200-a4be-4852-9a82-1ccf0a1ba005"
      },
      "source": [
        "logreg = Pipeline([\n",
        "    ('features',feats),\n",
        "    ('classifier', LogisticRegression(random_state = 42)),\n",
        "])\n",
        "\n",
        "# запустим кросс-валидацию\n",
        "cv_scores = cross_val_score(logreg, X_train, y_train, cv=16, scoring='roc_auc')\n",
        "cv_score = np.mean(cv_scores)\n",
        "cv_score_std = np.std(cv_scores)\n",
        "print('CV score is {}+-{}'.format(cv_score, cv_score_std))\n",
        "\n",
        "# обучим пайплайн на всем тренировочном датасете\n",
        "logreg.fit(X_train, y_train)\n",
        "y_pred = logreg.predict_proba(X_test)[:, 1]"
      ],
      "execution_count": 82,
      "outputs": [
        {
          "output_type": "stream",
          "name": "stdout",
          "text": [
            "CV score is 0.7867401104915408+-0.00852135511666111\n"
          ]
        }
      ]
    },
    {
      "cell_type": "code",
      "metadata": {
        "colab": {
          "base_uri": "https://localhost:8080/"
        },
        "id": "L8hIWXvFc7g3",
        "outputId": "e4880b40-56ff-4c3a-ba73-7f061d93e314"
      },
      "source": [
        "y_pred"
      ],
      "execution_count": 83,
      "outputs": [
        {
          "output_type": "execute_result",
          "data": {
            "text/plain": [
              "array([0.21919629, 0.24759828, 0.40484498, ..., 0.16941878, 0.70519218,\n",
              "       0.75098778])"
            ]
          },
          "metadata": {},
          "execution_count": 83
        }
      ]
    },
    {
      "cell_type": "code",
      "metadata": {
        "colab": {
          "base_uri": "https://localhost:8080/"
        },
        "id": "Rb9KN1eyf_5t",
        "outputId": "ba9ef6bf-6954-4820-fd96-8ceb68f89aa8"
      },
      "source": [
        "logreg"
      ],
      "execution_count": 94,
      "outputs": [
        {
          "output_type": "execute_result",
          "data": {
            "text/plain": [
              "Pipeline(steps=[('features',\n",
              "                 FeatureUnion(transformer_list=[('age',\n",
              "                                                 Pipeline(steps=[('selector',\n",
              "                                                                  NumberSelector(key='age')),\n",
              "                                                                 ('standard',\n",
              "                                                                  StandardScaler())])),\n",
              "                                                ('height',\n",
              "                                                 Pipeline(steps=[('selector',\n",
              "                                                                  NumberSelector(key='height')),\n",
              "                                                                 ('standard',\n",
              "                                                                  StandardScaler())])),\n",
              "                                                ('weight',\n",
              "                                                 Pipeline(steps=[('selector',\n",
              "                                                                  NumberSelector(key='weight')),\n",
              "                                                                 ('standard',\n",
              "                                                                  StandardScaler(...\n",
              "                                                                  OHEEncoder(key='cholesterol'))])),\n",
              "                                                ('gluc',\n",
              "                                                 Pipeline(steps=[('selector',\n",
              "                                                                  NumberSelector(key='gluc'))])),\n",
              "                                                ('smoke',\n",
              "                                                 Pipeline(steps=[('selector',\n",
              "                                                                  NumberSelector(key='smoke'))])),\n",
              "                                                ('alco',\n",
              "                                                 Pipeline(steps=[('selector',\n",
              "                                                                  NumberSelector(key='alco'))])),\n",
              "                                                ('active',\n",
              "                                                 Pipeline(steps=[('selector',\n",
              "                                                                  NumberSelector(key='active'))]))])),\n",
              "                ('classifier', LogisticRegression(random_state=42))])"
            ]
          },
          "metadata": {},
          "execution_count": 94
        }
      ]
    },
    {
      "cell_type": "code",
      "metadata": {
        "colab": {
          "base_uri": "https://localhost:8080/",
          "height": 112
        },
        "id": "CWFEbcUdZjmK",
        "outputId": "45fafa42-47df-44f0-dafb-297cb707ae5c"
      },
      "source": [
        "results = pd.DataFrame(columns=[[\"precision\", \"recall\", \"f_score\", \"roc-auc\"]], index=[\"logistic regrssion\", \"random forest\" ])\n",
        "results"
      ],
      "execution_count": 142,
      "outputs": [
        {
          "output_type": "execute_result",
          "data": {
            "text/html": [
              "<div>\n",
              "<style scoped>\n",
              "    .dataframe tbody tr th:only-of-type {\n",
              "        vertical-align: middle;\n",
              "    }\n",
              "\n",
              "    .dataframe tbody tr th {\n",
              "        vertical-align: top;\n",
              "    }\n",
              "\n",
              "    .dataframe thead tr th {\n",
              "        text-align: left;\n",
              "    }\n",
              "</style>\n",
              "<table border=\"1\" class=\"dataframe\">\n",
              "  <thead>\n",
              "    <tr>\n",
              "      <th></th>\n",
              "      <th>precision</th>\n",
              "      <th>recall</th>\n",
              "      <th>f_score</th>\n",
              "      <th>roc-auc</th>\n",
              "    </tr>\n",
              "  </thead>\n",
              "  <tbody>\n",
              "    <tr>\n",
              "      <th>logistic regrssion</th>\n",
              "      <td>NaN</td>\n",
              "      <td>NaN</td>\n",
              "      <td>NaN</td>\n",
              "      <td>NaN</td>\n",
              "    </tr>\n",
              "    <tr>\n",
              "      <th>random forest</th>\n",
              "      <td>NaN</td>\n",
              "      <td>NaN</td>\n",
              "      <td>NaN</td>\n",
              "      <td>NaN</td>\n",
              "    </tr>\n",
              "  </tbody>\n",
              "</table>\n",
              "</div>"
            ],
            "text/plain": [
              "                   precision recall f_score roc-auc\n",
              "logistic regrssion       NaN    NaN     NaN     NaN\n",
              "random forest            NaN    NaN     NaN     NaN"
            ]
          },
          "metadata": {},
          "execution_count": 142
        }
      ]
    },
    {
      "cell_type": "code",
      "metadata": {
        "id": "0ZPccu65c0z3"
      },
      "source": [
        "random_forest = Pipeline([\n",
        "    ('features',feats),\n",
        "    ('classifier', RandomForestClassifier(max_depth=2, random_state = 42)),\n",
        "])"
      ],
      "execution_count": null,
      "outputs": []
    },
    {
      "cell_type": "code",
      "metadata": {
        "colab": {
          "base_uri": "https://localhost:8080/"
        },
        "id": "dIMqldWcV9ai",
        "outputId": "4a3d6aa9-6fc9-40d5-9338-61845bdb7847"
      },
      "source": [
        "# Cross-validation\n",
        "scoring = \"roc_auc\"\n",
        "\n",
        "logreg_scores = cross_validate(logreg, X_train, y_train, scoring=scoring, cv=16, return_estimator=True)\n",
        "forest_scores = cross_validate(random_forest, X_train, y_train, scoring=scoring, cv=16, return_estimator=True) "
      ],
      "execution_count": 61,
      "outputs": [
        {
          "output_type": "stream",
          "name": "stdout",
          "text": [
            "Logistic Regression score: 0.7867401104915408 0.00852135511666111\n",
            "Random Forest score: 0.7849711151509939 0.007123862605996867\n",
            "Difference: 0.001768995340546864\n"
          ]
        }
      ]
    },
    {
      "cell_type": "code",
      "metadata": {
        "id": "HcZ3lUpdap4q"
      },
      "source": [
        "logreg_scores"
      ],
      "execution_count": null,
      "outputs": []
    },
    {
      "cell_type": "code",
      "metadata": {
        "id": "9d0VWfoOhkQ_"
      },
      "source": [
        "def classify_by(ppl, x_train, y_train, x_test, y_test):\n",
        "\n",
        "  _scores = cross_validate(ppl, X_train, y_train, scoring=(\"roc_auc\", \"f1\"), cv=16, return_estimator=True)\n",
        "\n",
        "  print(_scores)\n",
        "\n",
        "  # обучим пайплайн на всем тренировочном датасете\n",
        "  ppl.fit(x_train, y_train)\n",
        "  _y_pred = ppl.predict_proba(x_test)[:, 1]\n",
        "\n",
        "  _rocauc= roc_auc_score(y_test, _y_pred)\n",
        "\n",
        "  print(f\"score: {_scores['test_roc_auc'].mean()} {np.std(_scores['test_roc_auc'])}\")\n",
        "\n",
        "  b=1\n",
        "  _precision, _recall, _thresholds = precision_recall_curve(y_test.values, _y_pred)\n",
        "  _fscore = (1+b**2)*(_precision * _recall) / (b**2*_precision + _recall)\n",
        "  # locate the index of the largest f score\n",
        "  ix = np.argmax(_fscore)\n",
        "  print('Best Threshold=%f, F-Score=%.3f, Precision=%.3f, Recall=%.3f, Roc auc=%.3f' % (_thresholds[ix], \n",
        "                                                                          _fscore[ix],\n",
        "                                                                          _precision[ix],\n",
        "                                                                          _recall[ix],\n",
        "                                                                          _rocauc))    \n",
        "\n",
        "  plot_roc_curve(_y_pred=_y_pred, _y_true=y_test, ttl=\"\") # ppl[\"classifier\"][\"name\"]\n",
        "\n",
        "  return _precision[ix], _recall[ix], _fscore[ix], _rocauc, _scores['test_score']"
      ],
      "execution_count": 158,
      "outputs": []
    },
    {
      "cell_type": "code",
      "metadata": {
        "id": "24jKpIWtZCmq"
      },
      "source": [
        "# Which one is better? Linear and polynomial\n",
        "print(f\"Logistic Regression score: {logreg_scores['test_score'].mean()} {np.std(logreg_scores['test_score'])}\")\n",
        "print(f\"Random Forest score: {forest_scores['test_score'].mean()} {np.std(forest_scores['test_score'])}\")\n",
        "print(\"Difference:\", logreg_scores[\"test_score\"].mean() - forest_scores[\"test_score\"].mean())"
      ],
      "execution_count": null,
      "outputs": []
    },
    {
      "cell_type": "code",
      "metadata": {
        "id": "wNOMapnViAk9"
      },
      "source": [
        "precision, recall, fscore, rocauc, rocauc2 = classify_by(ppl=logreg, x_train=X_train, y_train=y_train, x_test=X_test, y_test=y_test)\n"
      ],
      "execution_count": null,
      "outputs": []
    },
    {
      "cell_type": "code",
      "metadata": {
        "colab": {
          "base_uri": "https://localhost:8080/"
        },
        "id": "XM-UrXq1oe0Z",
        "outputId": "f8439ffc-b10c-4954-91ee-9dc08205782f"
      },
      "source": [
        "precision, recall, fscore, rocauc, rocauc2"
      ],
      "execution_count": 152,
      "outputs": [
        {
          "output_type": "execute_result",
          "data": {
            "text/plain": [
              "(0.6474307596402173,\n",
              " 0.8375576036866359,\n",
              " 0.7303229695112764,\n",
              " 0.7840347790421852,\n",
              " array([0.78829517, 0.7805176 , 0.79831942, 0.77808117, 0.79112955,\n",
              "        0.78191108, 0.7861493 , 0.78999401, 0.80242923, 0.7817082 ,\n",
              "        0.78530972, 0.77810291, 0.77263738, 0.79907916, 0.79599396,\n",
              "        0.77818391]))"
            ]
          },
          "metadata": {},
          "execution_count": 152
        }
      ]
    },
    {
      "cell_type": "code",
      "metadata": {
        "id": "eYVN9lLNkxxt"
      },
      "source": [
        "results.loc[results.index==\"logistic regrssion\"].update(pd.Series(precision, recall, fscore, rocauc))"
      ],
      "execution_count": 136,
      "outputs": []
    },
    {
      "cell_type": "code",
      "metadata": {
        "colab": {
          "base_uri": "https://localhost:8080/"
        },
        "id": "LlAPbLC6nu0P",
        "outputId": "9682563e-73e8-4870-c659-5417a5ea3b79"
      },
      "source": [
        "results.loc[\"logistic regrssion\"] = [precision, recall, fscore, rocauc]"
      ],
      "execution_count": 139,
      "outputs": [
        {
          "output_type": "stream",
          "name": "stderr",
          "text": [
            "/usr/local/lib/python3.7/dist-packages/pandas/core/internals/blocks.py:849: VisibleDeprecationWarning: Creating an ndarray from ragged nested sequences (which is a list-or-tuple of lists-or-tuples-or ndarrays with different lengths or shapes) is deprecated. If you meant to do this, you must specify 'dtype=object' when creating the ndarray\n",
            "  arr_value = np.array(value)\n"
          ]
        }
      ]
    },
    {
      "cell_type": "code",
      "metadata": {
        "colab": {
          "base_uri": "https://localhost:8080/",
          "height": 112
        },
        "id": "A_kFEgidmOOy",
        "outputId": "ae055a6b-fd56-4c95-8a86-758d179dfa76"
      },
      "source": [
        "results"
      ],
      "execution_count": 140,
      "outputs": [
        {
          "output_type": "execute_result",
          "data": {
            "text/html": [
              "<div>\n",
              "<style scoped>\n",
              "    .dataframe tbody tr th:only-of-type {\n",
              "        vertical-align: middle;\n",
              "    }\n",
              "\n",
              "    .dataframe tbody tr th {\n",
              "        vertical-align: top;\n",
              "    }\n",
              "\n",
              "    .dataframe thead tr th {\n",
              "        text-align: left;\n",
              "    }\n",
              "</style>\n",
              "<table border=\"1\" class=\"dataframe\">\n",
              "  <thead>\n",
              "    <tr>\n",
              "      <th></th>\n",
              "      <th>precision</th>\n",
              "      <th>recall</th>\n",
              "      <th>f_score</th>\n",
              "      <th>roc-auc</th>\n",
              "    </tr>\n",
              "  </thead>\n",
              "  <tbody>\n",
              "    <tr>\n",
              "      <th>logistic regrssion</th>\n",
              "      <td>[0.49617011546816053, 0.4961413136683245, 0.49...</td>\n",
              "      <td>[1.0, 0.9998847926267281, 0.9997695852534563, ...</td>\n",
              "      <td>[0.6632536104531214, 0.6632025369655753, 0.663...</td>\n",
              "      <td>0.784035</td>\n",
              "    </tr>\n",
              "    <tr>\n",
              "      <th>random forest</th>\n",
              "      <td>NaN</td>\n",
              "      <td>NaN</td>\n",
              "      <td>NaN</td>\n",
              "      <td>NaN</td>\n",
              "    </tr>\n",
              "  </tbody>\n",
              "</table>\n",
              "</div>"
            ],
            "text/plain": [
              "                                                            precision  ...   roc-auc\n",
              "logistic regrssion  [0.49617011546816053, 0.4961413136683245, 0.49...  ...  0.784035\n",
              "random forest                                                     NaN  ...       NaN\n",
              "\n",
              "[2 rows x 4 columns]"
            ]
          },
          "metadata": {},
          "execution_count": 140
        }
      ]
    },
    {
      "cell_type": "code",
      "metadata": {
        "id": "WGS4hnhHjNiY"
      },
      "source": [
        "  # score_df.insert( [_precision, _recall, np.nan, _fscore])  "
      ],
      "execution_count": null,
      "outputs": []
    },
    {
      "cell_type": "code",
      "metadata": {
        "id": "l2IwWg7UfTLj"
      },
      "source": [
        "results"
      ],
      "execution_count": null,
      "outputs": []
    },
    {
      "cell_type": "code",
      "metadata": {
        "colab": {
          "base_uri": "https://localhost:8080/"
        },
        "id": "ClfnmdSmSdax",
        "outputId": "c3070b9a-875c-4aa6-cb7f-0284ca9d2d97"
      },
      "source": [
        "y_score"
      ],
      "execution_count": 52,
      "outputs": [
        {
          "output_type": "execute_result",
          "data": {
            "text/plain": [
              "array([0.21919629, 0.24759828, 0.40484498, ..., 0.16941878, 0.70519218,\n",
              "       0.75098778])"
            ]
          },
          "metadata": {},
          "execution_count": 52
        }
      ]
    },
    {
      "cell_type": "markdown",
      "metadata": {
        "id": "DAuMVSPONpbT"
      },
      "source": [
        "### Ссылки"
      ]
    },
    {
      "cell_type": "markdown",
      "metadata": {
        "id": "E0_bXLJKNpbT"
      },
      "source": [
        "1. https://dyakonov.org/2017/07/28/auc-roc-площадь-под-кривой-ошибок/\n",
        "2. https://en.wikipedia.org/wiki/Receiver_operating_characteristic"
      ]
    },
    {
      "cell_type": "code",
      "metadata": {
        "id": "VgQskgG0NpbT"
      },
      "source": [
        ""
      ],
      "execution_count": null,
      "outputs": []
    }
  ]
}